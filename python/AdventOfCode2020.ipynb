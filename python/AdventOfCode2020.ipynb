{
 "cells": [
  {
   "cell_type": "markdown",
   "metadata": {},
   "source": [
    "### Day 1 \n",
    "##### Problem 1: Find the two entries in your expenses list that sum to 2020 and then multiply those two numbers together and return the result"
   ]
  },
  {
   "cell_type": "code",
   "execution_count": 29,
   "metadata": {},
   "outputs": [],
   "source": [
    "def process_expenses_brute_force(expenses):\n",
    "    for i in range(len(expenses)-1):\n",
    "        for j in range(i+1, len(expenses)):\n",
    "            if expenses[i] + expenses[j] == 2020:\n",
    "                return expenses[i] * expenses[j]    \n",
    "    return None"
   ]
  },
  {
   "cell_type": "code",
   "execution_count": 30,
   "metadata": {},
   "outputs": [],
   "source": [
    "def process_expenses(expenses):\n",
    "    existence = set()\n",
    "    for x in expenses:\n",
    "        if x >=2020:\n",
    "            continue\n",
    "        elif 2020 - x in existence:\n",
    "            return x * (2020 - x)\n",
    "        else:\n",
    "            existence.add(x)\n"
   ]
  },
  {
   "cell_type": "code",
   "execution_count": 31,
   "metadata": {},
   "outputs": [
    {
     "data": {
      "text/plain": [
       "866436"
      ]
     },
     "execution_count": 31,
     "metadata": {},
     "output_type": "execute_result"
    }
   ],
   "source": [
    "f = open(\"../data/expenses.txt\", \"r\")\n",
    "expenses = [int(i) for i in f.readlines()]\n",
    "process_expenses(expenses)"
   ]
  },
  {
   "cell_type": "markdown",
   "metadata": {},
   "source": [
    "##### Problem 2: what is the product of the three entries that sum to 2020?"
   ]
  },
  {
   "cell_type": "code",
   "execution_count": 57,
   "metadata": {},
   "outputs": [],
   "source": [
    "def process_expenses2(expenses):\n",
    "    for i in range(len(expenses)-2):\n",
    "        for j in range(i+1, len(expenses)-1):\n",
    "            for k in range(j, len(expenses)):\n",
    "                if expenses[i] + expenses[j] + expenses[k]== 2020:\n",
    "                    return expenses[i] * expenses[j] * expenses[k]    \n",
    "    return None"
   ]
  },
  {
   "cell_type": "code",
   "execution_count": 58,
   "metadata": {},
   "outputs": [
    {
     "data": {
      "text/plain": [
       "276650720"
      ]
     },
     "execution_count": 58,
     "metadata": {},
     "output_type": "execute_result"
    }
   ],
   "source": [
    "f = open(\"../data/expenses.txt\", \"r\")\n",
    "expenses = [int(i) for i in f.readlines()]\n",
    "process_expenses2(expenses)"
   ]
  },
  {
   "cell_type": "markdown",
   "metadata": {},
   "source": [
    "### Day 2\n",
    "##### Problem 1: You are given a list of passwords and some policies for their validity. The policy is interpreted as the number of letters allowed in the passwords. How many passwords are valid according to their policies?"
   ]
  },
  {
   "cell_type": "code",
   "execution_count": 1,
   "metadata": {},
   "outputs": [],
   "source": [
    "def read_passwords(file_name):\n",
    "    f = open(file_name, \"r\")\n",
    "    \n",
    "    password_policies = []\n",
    "    for string in f.readlines():\n",
    "        data = string.split(\" \")\n",
    "        num1 = int(data[0].split(\"-\")[0])\n",
    "        num2 = int(data[0].split(\"-\")[1])\n",
    "        letter = data[1][0]\n",
    "        password = data[2].rstrip('\\n')\n",
    "        password_policies += [(num1, num2, letter, password)]\n",
    "    return password_policies"
   ]
  },
  {
   "cell_type": "code",
   "execution_count": 2,
   "metadata": {},
   "outputs": [],
   "source": [
    "def password_validity(password_policies):\n",
    "    invalid_passwords = 0\n",
    "    for lower_limit, upper_limit, letter, password in password_policies:\n",
    "        count = 0\n",
    "        for i, pass_letter in enumerate(password):\n",
    "            if pass_letter == letter:\n",
    "                count+=1\n",
    "            if count > upper_limit or count + len(password) - i -1< lower_limit:\n",
    "                invalid_passwords +=1\n",
    "                break\n",
    "        \n",
    "    return len(password_policies) - invalid_passwords"
   ]
  },
  {
   "cell_type": "code",
   "execution_count": 3,
   "metadata": {},
   "outputs": [
    {
     "name": "stdout",
     "output_type": "stream",
     "text": [
      "483\n"
     ]
    }
   ],
   "source": [
    "password_policies = read_passwords(\"../data/password_policies.txt\")\n",
    "print(password_validity(password_policies))"
   ]
  },
  {
   "cell_type": "markdown",
   "metadata": {},
   "source": [
    "##### Problem 2: The policy was wrong before. The new policy asks that the letter can not be simultaneously present or absent in two positions."
   ]
  },
  {
   "cell_type": "code",
   "execution_count": 4,
   "metadata": {},
   "outputs": [],
   "source": [
    "def password_validity_correct(password_policies):\n",
    "    valid_passwords = 0\n",
    "    for loc1, loc2, letter, password in password_policies:\n",
    "        if bool(password[loc1-1] == letter) != bool(password[loc2-1] == letter) :\n",
    "            valid_passwords+=1\n",
    "\n",
    "    return valid_passwords"
   ]
  },
  {
   "cell_type": "code",
   "execution_count": 5,
   "metadata": {},
   "outputs": [
    {
     "name": "stdout",
     "output_type": "stream",
     "text": [
      "482\n"
     ]
    }
   ],
   "source": [
    "password_policies = read_passwords(\"../data/password_policies.txt\")\n",
    "print(password_validity_correct(password_policies))"
   ]
  },
  {
   "cell_type": "markdown",
   "metadata": {},
   "source": [
    "### Day 3\n",
    "##### Problem 1: You are given a map of trees and open space and need to traverse it from top (left to bottom).  Toy can move in angles that are rational numbers (i.e. you can only move exactly on each node in the grid). You start by moving to the node 3 positions to the right and 1 down of where you are. How many trees will you encounter before reaching the bottom of the map?"
   ]
  },
  {
   "cell_type": "code",
   "execution_count": 1,
   "metadata": {},
   "outputs": [],
   "source": [
    "def read_tree_map(file_name):\n",
    "    f = open(file_name, \"r\")\n",
    "    \n",
    "    tree_map = []\n",
    "    for string in f.readlines():\n",
    "        tree_map.append(string.rstrip('\\n'))\n",
    "    return tree_map"
   ]
  },
  {
   "cell_type": "code",
   "execution_count": 2,
   "metadata": {},
   "outputs": [],
   "source": [
    "def count_trees(tree_map, step):\n",
    "    trees_encountered = 0\n",
    "    for row in range(0, len(tree_map), step[1]):\n",
    "        if tree_map[row][(step[0]*row//step[1])%len(tree_map[row])] == '#':\n",
    "            trees_encountered+=1\n",
    "            \n",
    "    return trees_encountered\n",
    "        \n",
    "        "
   ]
  },
  {
   "cell_type": "code",
   "execution_count": 3,
   "metadata": {},
   "outputs": [
    {
     "data": {
      "text/plain": [
       "284"
      ]
     },
     "execution_count": 3,
     "metadata": {},
     "output_type": "execute_result"
    }
   ],
   "source": [
    "tree_map = read_tree_map(\"../data/tree_map.txt\")\n",
    "count_trees(tree_map, (3,1))"
   ]
  },
  {
   "cell_type": "markdown",
   "metadata": {},
   "source": [
    "##### Problem 2: What do you get if you multiply together the number of trees encountered on each of the listed slopes?\n",
    "- Right 1, down 1\n",
    "- Right 3, down 1\n",
    "- Right 5, down 1\n",
    "- Right 7, down 1\n",
    "- Right 1, down 2\n"
   ]
  },
  {
   "cell_type": "code",
   "execution_count": 54,
   "metadata": {},
   "outputs": [
    {
     "name": "stdout",
     "output_type": "stream",
     "text": [
      "3510149120\n"
     ]
    }
   ],
   "source": [
    "steps = [(1,1), (3,1), (5,1), (7,1), (1,2)]\n",
    "product = 1\n",
    "for step in steps:\n",
    "    product *= count_trees(tree_map, step)\n",
    "print(product)"
   ]
  },
  {
   "cell_type": "markdown",
   "metadata": {},
   "source": [
    "### Day 4\n",
    "##### Problem 1: Count the number of valid passports - those that have all required fields. Treat cid as optional. In your batch file, how many passports are valid?"
   ]
  },
  {
   "cell_type": "code",
   "execution_count": 7,
   "metadata": {},
   "outputs": [],
   "source": [
    "def read_passports(file_name):\n",
    "    f = open(file_name, \"r\")\n",
    "    passports = []\n",
    "    \n",
    "    entry = {}\n",
    "    for string in f.readlines():\n",
    "        if string == \"\\n\":\n",
    "            passports += [entry]\n",
    "            entry = {}\n",
    "            continue\n",
    "            \n",
    "        data = string.rstrip().split(\" \")\n",
    "        for d in data:\n",
    "            field = d.split(\":\")\n",
    "            entry[field[0]] = field[1]\n",
    "    \n",
    "    if entry: \n",
    "        passports += [entry]\n",
    "    return passports    "
   ]
  },
  {
   "cell_type": "code",
   "execution_count": 8,
   "metadata": {},
   "outputs": [],
   "source": [
    "def count_valid_passports(passports, checks):\n",
    "    count = 0\n",
    "    for passport in passports:\n",
    "        if checks.issubset(set(passport)):\n",
    "            count += 1\n",
    "\n",
    "    return count"
   ]
  },
  {
   "cell_type": "code",
   "execution_count": 9,
   "metadata": {},
   "outputs": [
    {
     "data": {
      "text/plain": [
       "219"
      ]
     },
     "execution_count": 9,
     "metadata": {},
     "output_type": "execute_result"
    }
   ],
   "source": [
    "passports = read_passports(\"../data/passports.txt\")\n",
    "fields_to_check = {'byr', 'iyr', 'eyr', 'hgt', 'hcl', 'ecl', 'pid'}\n",
    "count_valid_passports(passports, fields_to_check)"
   ]
  },
  {
   "cell_type": "markdown",
   "metadata": {},
   "source": [
    "##### Problem 2: Count the number of valid passports - those that have all required fields <ins>and the fields have the correct format</ins>. Treat cid as optional. In your batch file, how many passports are valid?"
   ]
  },
  {
   "cell_type": "code",
   "execution_count": 44,
   "metadata": {},
   "outputs": [],
   "source": [
    "import re\n",
    "\n",
    "def hgt_convert(hgt):\n",
    "    if hgt[-2:] == \"in\":\n",
    "        return round(2.54 * float(hgt[:-2]))\n",
    "    else:\n",
    "        return int(hgt[:-2])\n",
    "\n",
    "\n",
    "class PatternChecker():\n",
    "    def __init__(self, pattern, lower=None, upper=None, metric_change=None):\n",
    "        self.pattern_matcher = re.compile(pattern)\n",
    "        self.lower = lower\n",
    "        self.upper = upper\n",
    "        self.metric_change = metric_change\n",
    "    def __call__(self, field):\n",
    "        check = self.pattern_matcher.match(field) \n",
    "        if check is None:\n",
    "            return False\n",
    "        else:\n",
    "            check=True\n",
    "        \n",
    "        if self.metric_change is not None:\n",
    "            field = self.metric_change(field)\n",
    "        \n",
    "        if self.lower is not None and self.lower > int(field):\n",
    "            return False\n",
    "        \n",
    "        if self.upper is not None and self.upper < int(field):\n",
    "            return False\n",
    "        \n",
    "        return check  \n",
    "\n",
    "\n",
    "def count_valid_passports_strict(passports, checks):\n",
    "    count = 0\n",
    "    i=0\n",
    "    for passport in passports:\n",
    "        i+=1\n",
    "        valid = True\n",
    "\n",
    "        for field in checks:\n",
    "            if field not in passport:\n",
    "                valid = False\n",
    "                break\n",
    "            \n",
    "            valid = valid and checks[field](passport[field])\n",
    "            if not valid:\n",
    "                break\n",
    "            \n",
    "        if valid:\n",
    "            count += 1\n",
    "\n",
    "    return count"
   ]
  },
  {
   "cell_type": "code",
   "execution_count": 45,
   "metadata": {},
   "outputs": [],
   "source": [
    "checks = {'byr':PatternChecker(\"^[0-9]{4}$\", lower=1920, upper=2002),\n",
    "          'iyr':PatternChecker(\"^[0-9]{4}$\", lower=2010, upper=2020),\n",
    "          'eyr':PatternChecker(\"^[0-9]{4}$\", lower=2020, upper=2030),\n",
    "          'hgt':PatternChecker(\"^[0-9]+(cm|in)$\", lower=150, upper=193, metric_change=hgt_convert),\n",
    "          'hcl':PatternChecker(\"^#{1}([0-9]|[a-f]){6}$\"),\n",
    "          'ecl':PatternChecker(\"^(amb|blu|brn|gry|grn|hzl|oth)$\"), \n",
    "          'pid':PatternChecker(\"^[0-9]{9}$\")}"
   ]
  },
  {
   "cell_type": "code",
   "execution_count": 1,
   "metadata": {
    "scrolled": true
   },
   "outputs": [
    {
     "ename": "NameError",
     "evalue": "name 'read_passports' is not defined",
     "output_type": "error",
     "traceback": [
      "\u001b[0;31m---------------------------------------------------------------------------\u001b[0m",
      "\u001b[0;31mNameError\u001b[0m                                 Traceback (most recent call last)",
      "\u001b[0;32m<ipython-input-1-262ff8d1daa2>\u001b[0m in \u001b[0;36m<module>\u001b[0;34m\u001b[0m\n\u001b[0;32m----> 1\u001b[0;31m \u001b[0mpassports\u001b[0m \u001b[0;34m=\u001b[0m \u001b[0mread_passports\u001b[0m\u001b[0;34m(\u001b[0m\u001b[0;34m\"../data/passports.txt\"\u001b[0m\u001b[0;34m)\u001b[0m\u001b[0;34m\u001b[0m\u001b[0;34m\u001b[0m\u001b[0m\n\u001b[0m\u001b[1;32m      2\u001b[0m \u001b[0mcount_valid_passports_strict\u001b[0m\u001b[0;34m(\u001b[0m\u001b[0mpassports\u001b[0m\u001b[0;34m,\u001b[0m \u001b[0mchecks\u001b[0m\u001b[0;34m)\u001b[0m\u001b[0;34m\u001b[0m\u001b[0;34m\u001b[0m\u001b[0m\n",
      "\u001b[0;31mNameError\u001b[0m: name 'read_passports' is not defined"
     ]
    }
   ],
   "source": [
    "passports = read_passports(\"../data/passports.txt\")\n",
    "count_valid_passports_strict(passports, checks)"
   ]
  },
  {
   "cell_type": "markdown",
   "metadata": {},
   "source": [
    "### Day 5\n",
    "\n",
    "##### Problem 1: You are given a list of boarding pass seats, where each seat location is represented by seven characters. What is the highest seat ID on a boarding pass?"
   ]
  },
  {
   "cell_type": "code",
   "execution_count": 44,
   "metadata": {},
   "outputs": [],
   "source": [
    "def read_seating(file_name):\n",
    "    f = open(file_name, \"r\")\n",
    "    seats = []\n",
    "    max_seat_id = 0\n",
    "    for string in f.readlines():\n",
    "        row=0\n",
    "        for i, letter in enumerate(string[:7]):\n",
    "            if letter == \"B\":\n",
    "                row += 2**(6-i)\n",
    "        \n",
    "        col=0\n",
    "        for i, letter in enumerate(string[7:]):\n",
    "            if letter == \"R\":\n",
    "                col += 2**(2-i)\n",
    "                \n",
    "        seats += [(row,col)]\n",
    "        \n",
    "        seat_id = row*8+col\n",
    "        if max_seat_id < seat_id:\n",
    "            max_seat_id = seat_id\n",
    "    \n",
    "    return seats, max_seat_id\n",
    "\n",
    "                \n",
    "            "
   ]
  },
  {
   "cell_type": "code",
   "execution_count": 45,
   "metadata": {},
   "outputs": [
    {
     "name": "stdout",
     "output_type": "stream",
     "text": [
      "866\n"
     ]
    }
   ],
   "source": [
    "seating, max_seat_id = read_seating(\"../data/seating.txt\")\n",
    "print(max_seat_id)"
   ]
  },
  {
   "cell_type": "markdown",
   "metadata": {},
   "source": [
    "##### Problem 2: The flight is full! There is only one seat that is empty (yours). What is the ID of your seat?"
   ]
  },
  {
   "cell_type": "code",
   "execution_count": 53,
   "metadata": {},
   "outputs": [
    {
     "name": "stdout",
     "output_type": "stream",
     "text": [
      "583\n"
     ]
    }
   ],
   "source": [
    "seat_ids = sorted([s[0]*8 + s[1] for s in seating])\n",
    "\n",
    "seat_id = None\n",
    "for s in seat_ids:\n",
    "    if seat_id is None:\n",
    "        seat_id = s\n",
    "    else:\n",
    "        seat_id += 1\n",
    "        if seat_id != s:\n",
    "            break\n",
    "            \n",
    "print(seat_id)  "
   ]
  },
  {
   "cell_type": "markdown",
   "metadata": {},
   "source": [
    "### Day 6\n",
    "\n",
    "##### Problem 1: For each group, count the number of questions to which anyone answered \"yes\". What is the sum of those counts?"
   ]
  },
  {
   "cell_type": "code",
   "execution_count": 11,
   "metadata": {},
   "outputs": [],
   "source": [
    "def count_questionaire(file_name):\n",
    "    f = open(file_name, \"r\")\n",
    "    groups = []\n",
    "    \n",
    "    answers = set()\n",
    "    for string in f.readlines():\n",
    "        if string == \"\\n\":\n",
    "            groups += [answers]\n",
    "            answers = set()\n",
    "            continue\n",
    "        \n",
    "        answers = answers|set(string.rstrip())\n",
    "   \n",
    "    if answers: \n",
    "        groups += [answers]\n",
    "\n",
    "    return groups"
   ]
  },
  {
   "cell_type": "code",
   "execution_count": 12,
   "metadata": {},
   "outputs": [
    {
     "name": "stdout",
     "output_type": "stream",
     "text": [
      "6443\n"
     ]
    }
   ],
   "source": [
    "answers = count_questionaire(\"../data/questionaire.txt\")\n",
    "count=0\n",
    "for a in answers:\n",
    "    count += len(a)\n",
    "    \n",
    "print(count)"
   ]
  },
  {
   "cell_type": "markdown",
   "metadata": {},
   "source": [
    "##### Problem 2:  The instructions have changed. With the correct instructions at hand for each group, count the number of questions to which everyone answered \"yes\". What is the sum of those counts?"
   ]
  },
  {
   "cell_type": "code",
   "execution_count": 18,
   "metadata": {},
   "outputs": [],
   "source": [
    "def count_questionaire_correct(file_name):\n",
    "    f = open(file_name, \"r\")\n",
    "    groups = []\n",
    "    \n",
    "    answers = None\n",
    "    for string in f.readlines():\n",
    "        if answers is None:\n",
    "            answers = set(string.rstrip())\n",
    "            continue\n",
    "            \n",
    "        if string == \"\\n\":\n",
    "            groups += [answers]\n",
    "            answers = None\n",
    "            continue\n",
    "        \n",
    "        answers = answers&set(string.rstrip())\n",
    "   \n",
    "    if answers: \n",
    "        groups += [answers]\n",
    "\n",
    "    return groups"
   ]
  },
  {
   "cell_type": "code",
   "execution_count": 20,
   "metadata": {},
   "outputs": [
    {
     "name": "stdout",
     "output_type": "stream",
     "text": [
      "3232\n"
     ]
    }
   ],
   "source": [
    "answers = count_questionaire_correct(\"../data/questionaire.txt\")\n",
    "count=0\n",
    "for a in answers:\n",
    "    count += len(a)\n",
    "    \n",
    "print(count)"
   ]
  },
  {
   "cell_type": "markdown",
   "metadata": {},
   "source": [
    "### Day 7\n",
    "\n",
    "##### Problem 1: How many bag colors can eventually contain at least one shiny gold bag?"
   ]
  },
  {
   "cell_type": "code",
   "execution_count": 1,
   "metadata": {},
   "outputs": [],
   "source": [
    "import re\n",
    "def read_baggage_rules(file_name):\n",
    "    f = open(file_name, \"r\")\n",
    "    baggage_rules = {}\n",
    "    for string in f.readlines():\n",
    "        descriptions = re.split(\"bags|bag\",string.rstrip().replace(\"contain\", \"\").replace(\",\", \"\").replace(\".\", \"\"))\n",
    "        contains = []\n",
    "        for i in range(1, len(descriptions)-1):\n",
    "            words = descriptions[i].lstrip().rstrip().split(\" \")\n",
    "            if words[0] == \"no\":\n",
    "                break\n",
    "            contains += [(int(words[0]), \" \".join(words[1:]))]\n",
    "        baggage_rules[descriptions[0].rstrip()] = contains\n",
    "            \n",
    "    return baggage_rules\n",
    "    "
   ]
  },
  {
   "cell_type": "code",
   "execution_count": 2,
   "metadata": {},
   "outputs": [],
   "source": [
    "def dfs(graph, node, search_node, visited=None):\n",
    "    if visited is None:\n",
    "        visited = set()\n",
    "    if node not in visited:# If you have not visited the node then do so\n",
    "        visited.add(node)# Add node to set of visited nodes\n",
    "        if node == search_node:# If you have found what you are looking for return\n",
    "            return True\n",
    "        for neighbour in graph[node]:# For every node that is neighbouring\n",
    "            if dfs(graph, neighbour[1], search_node, visited):# recursively call the depth first search function\n",
    "                return True\n",
    "    return False"
   ]
  },
  {
   "cell_type": "code",
   "execution_count": 3,
   "metadata": {},
   "outputs": [
    {
     "name": "stdout",
     "output_type": "stream",
     "text": [
      "233\n"
     ]
    }
   ],
   "source": [
    "baggage_rules = read_baggage_rules(\"../data/baggage.txt\")\n",
    "search_bag = \"shiny gold\"\n",
    "count = 0\n",
    "for start_node in baggage_rules:\n",
    "    if start_node == search_bag:\n",
    "        continue\n",
    "    if dfs(baggage_rules, start_node, search_bag):\n",
    "        count += 1\n",
    "\n",
    "print(count)\n"
   ]
  },
  {
   "cell_type": "markdown",
   "metadata": {},
   "source": [
    "##### Problem 2: How many individual bags are required inside your single shiny gold bag?"
   ]
  },
  {
   "cell_type": "code",
   "execution_count": 4,
   "metadata": {},
   "outputs": [],
   "source": [
    "def count_bags(graph, node, visited={}):\n",
    "    \n",
    "    if node not in visited:# If you have not visited the node then do so\n",
    "        total = 1\n",
    "        for neighbour in graph[node]:# For every node that is neighbouring\n",
    "            total += neighbour[0] * count_bags(graph, neighbour[1], visited)\n",
    "        visited[node] = total# Add node to set of visited nodes\n",
    "    else:\n",
    "        total = visited[node]\n",
    "    \n",
    "    return total"
   ]
  },
  {
   "cell_type": "code",
   "execution_count": 5,
   "metadata": {},
   "outputs": [
    {
     "name": "stdout",
     "output_type": "stream",
     "text": [
      "shiny gold 421550\n"
     ]
    }
   ],
   "source": [
    "baggage_rules = read_baggage_rules(\"../data/baggage.txt\")\n",
    "visited = set()\n",
    "print(\"shiny gold\", count_bags(baggage_rules, \"shiny gold\")-1)\n"
   ]
  },
  {
   "cell_type": "markdown",
   "metadata": {},
   "source": [
    "### Day 8\n",
    "\n",
    "##### Problem 1: Run your copy of the boot code. Immediately before any instruction is executed a second time, what value is in the accumulator?"
   ]
  },
  {
   "cell_type": "code",
   "execution_count": 99,
   "metadata": {},
   "outputs": [],
   "source": [
    "def read_instructions(file_name):\n",
    "    f = open(file_name, \"r\")\n",
    "    instructions = []\n",
    "    for string in f.readlines():\n",
    "        ops = string.rstrip().split(\" \")\n",
    "        instructions+= [[ops[0], int(ops[1])]]\n",
    "    return instructions\n",
    "\n",
    "def find_inf_loop(instructions):\n",
    "    visited = len(instructions)*[False]\n",
    "    acc = 0\n",
    "    idx = 0\n",
    "    visited[0] = True\n",
    "    while True:\n",
    "        if instructions[idx][0] == \"jmp\":\n",
    "            idx += instructions[idx][1]\n",
    "            if visited[idx]:\n",
    "                return acc, True\n",
    "            else:\n",
    "                visited[idx] = True\n",
    "            continue\n",
    "        \n",
    "        if instructions[idx][0] == \"acc\":\n",
    "            acc += instructions[idx][1]\n",
    "        \n",
    "        idx += 1\n",
    "        \n",
    "        if idx==len(instructions)-1:\n",
    "            if instructions[idx][0] == \"acc\":\n",
    "                acc += instructions[idx][1]\n",
    "            return acc, False\n",
    "        elif visited[idx]:\n",
    "            return acc, True\n",
    "        else:\n",
    "            visited[idx] = True\n",
    "            \n",
    "\n",
    "    "
   ]
  },
  {
   "cell_type": "code",
   "execution_count": 106,
   "metadata": {},
   "outputs": [
    {
     "name": "stdout",
     "output_type": "stream",
     "text": [
      "(1671, True)\n"
     ]
    }
   ],
   "source": [
    "instructions = read_instructions(\"../data/handheld_game.txt\")\n",
    "print(find_inf_loop(instructions))"
   ]
  },
  {
   "cell_type": "markdown",
   "metadata": {},
   "source": [
    "##### Problem 2: Fix the program so that it terminates normally by changing exactly one jmp (to nop) or nop (to jmp). What is the value of the accumulator after the program terminates?"
   ]
  },
  {
   "cell_type": "code",
   "execution_count": 1,
   "metadata": {},
   "outputs": [
    {
     "ename": "NameError",
     "evalue": "name 'read_instructions' is not defined",
     "output_type": "error",
     "traceback": [
      "\u001b[0;31m---------------------------------------------------------------------------\u001b[0m",
      "\u001b[0;31mNameError\u001b[0m                                 Traceback (most recent call last)",
      "\u001b[0;32m<ipython-input-1-b41f46be693e>\u001b[0m in \u001b[0;36m<module>\u001b[0;34m\u001b[0m\n\u001b[0;32m----> 1\u001b[0;31m \u001b[0minstructions\u001b[0m \u001b[0;34m=\u001b[0m \u001b[0mread_instructions\u001b[0m\u001b[0;34m(\u001b[0m\u001b[0;34m\"../data/handheld_game.txt\"\u001b[0m\u001b[0;34m)\u001b[0m\u001b[0;34m\u001b[0m\u001b[0;34m\u001b[0m\u001b[0m\n\u001b[0m\u001b[1;32m      2\u001b[0m \u001b[0;34m\u001b[0m\u001b[0m\n\u001b[1;32m      3\u001b[0m \u001b[0mchange_idx\u001b[0m\u001b[0;34m=\u001b[0m\u001b[0;36m0\u001b[0m\u001b[0;34m\u001b[0m\u001b[0;34m\u001b[0m\u001b[0m\n\u001b[1;32m      4\u001b[0m \u001b[0;32mwhile\u001b[0m \u001b[0;32mTrue\u001b[0m\u001b[0;34m:\u001b[0m\u001b[0;34m\u001b[0m\u001b[0;34m\u001b[0m\u001b[0m\n\u001b[1;32m      5\u001b[0m     \u001b[0mchanged_instructions\u001b[0m \u001b[0;34m=\u001b[0m \u001b[0minstructions\u001b[0m\u001b[0;34m.\u001b[0m\u001b[0mcopy\u001b[0m\u001b[0;34m(\u001b[0m\u001b[0;34m)\u001b[0m\u001b[0;34m\u001b[0m\u001b[0;34m\u001b[0m\u001b[0m\n",
      "\u001b[0;31mNameError\u001b[0m: name 'read_instructions' is not defined"
     ]
    }
   ],
   "source": [
    "instructions = read_instructions(\"../data/handheld_game.txt\")\n",
    "\n",
    "change_idx=0\n",
    "while True:\n",
    "    changed_instructions = instructions.copy()\n",
    "    instruction = changed_instructions[change_idx].copy()\n",
    "    if instruction[0] == \"nop\":\n",
    "        instruction[0] = \"jmp\"\n",
    "        changed_instructions[change_idx] = instruction\n",
    "    elif instruction[0] == \"jmp\":\n",
    "        instruction[0] = \"nop\"\n",
    "        changed_instructions[change_idx] = instruction\n",
    "    else:\n",
    "        change_idx += 1\n",
    "        continue\n",
    "    \n",
    "    acc, inf_loop = find_inf_loop(changed_instructions)\n",
    "    change_idx += 1\n",
    "    if inf_loop:\n",
    "        continue\n",
    "    else:\n",
    "        break\n",
    "print(acc)"
   ]
  },
  {
   "cell_type": "markdown",
   "metadata": {},
   "source": [
    "### Day 9\n",
    "\n",
    "##### Problem 1: The first step of attacking the weakness in the XMAS data is to find the first number in the list (after the preamble) which is not the sum of two of the 25 numbers before it. What is the first number that does not have this property?"
   ]
  },
  {
   "cell_type": "code",
   "execution_count": 10,
   "metadata": {},
   "outputs": [
    {
     "name": "stdout",
     "output_type": "stream",
     "text": [
      "26796446\n"
     ]
    }
   ],
   "source": [
    "from collections import deque\n",
    "\n",
    "def check_number(nums, target):\n",
    "    existence = set()\n",
    "    for x in nums:\n",
    "        if x >=target:\n",
    "            continue\n",
    "        elif target - x in existence:\n",
    "            return True\n",
    "        else:\n",
    "            existence.add(x)\n",
    "    return False\n",
    "        \n",
    "\n",
    "f = open(\"../data/encrypted_sequence.txt\", \"r\")\n",
    "numbers = [int(string.rstrip()) for string in f.readlines()]\n",
    "\n",
    "queue = deque()\n",
    "buffer_size = 26\n",
    "for n in numbers:\n",
    "    queue.append(n)\n",
    "    if len(queue) < buffer_size:\n",
    "        continue\n",
    "    \n",
    "    if not check_number(list(queue)[:-1], n):\n",
    "        print(n)\n",
    "        break\n",
    "    queue.popleft()"
   ]
  },
  {
   "cell_type": "markdown",
   "metadata": {},
   "source": [
    "##### Problem 2: What is the encryption weakness in your XMAS-encrypted list of numbers?"
   ]
  },
  {
   "cell_type": "code",
   "execution_count": 20,
   "metadata": {},
   "outputs": [
    {
     "name": "stdout",
     "output_type": "stream",
     "text": [
      "3353494\n"
     ]
    }
   ],
   "source": [
    "from collections import deque\n",
    "     \n",
    "f = open(\"../data/encrypted_sequence.txt\", \"r\")\n",
    "numbers = [int(string.rstrip()) for string in f.readlines()]\n",
    "\n",
    "target=26796446\n",
    "right=0\n",
    "running_sum = numbers[right]\n",
    "for left in range(len(numbers)):\n",
    "    while running_sum < target:\n",
    "        right += 1\n",
    "        running_sum += numbers[right]\n",
    "\n",
    "        \n",
    "    if running_sum == target:\n",
    "        print(min(numbers[left:right])+max(numbers[left:right]))\n",
    "        break\n",
    "    running_sum -= numbers[left]"
   ]
  },
  {
   "cell_type": "markdown",
   "metadata": {},
   "source": [
    "### Day 10\n",
    "\n",
    "##### Problem 1:  Find a chain that uses all of your adapters to connect the charging outlet to your device's built-in adapter and count the joltage differences between the charging outlet, the adapters, and your device. What is the number of 1-jolt differences multiplied by the number of 3-jolt differences?\n"
   ]
  },
  {
   "cell_type": "code",
   "execution_count": 282,
   "metadata": {},
   "outputs": [
    {
     "name": "stdout",
     "output_type": "stream",
     "text": [
      "35\n"
     ]
    }
   ],
   "source": [
    "f = open(\"../data/joltage_adapters.txt\", \"r\")\n",
    "adapter_joltages = sorted([int(string.rstrip()) for string in f.readlines()])\n",
    "joltage = 0\n",
    "joltage_difference = 4*[0]\n",
    "for adapter_joltage in adapter_joltages:\n",
    "    joltage_difference[adapter_joltage - joltage]+=1\n",
    "    joltage = adapter_joltage\n",
    " \n",
    "print(joltage_difference[1]*(joltage_difference[3]+1))\n",
    "    \n",
    "    \n"
   ]
  },
  {
   "cell_type": "code",
   "execution_count": 93,
   "metadata": {},
   "outputs": [],
   "source": [
    "def search_adapter_paths(adapters, targets, total_paths):\n",
    "    for i, a in enumerate(adapters[1:]):\n",
    "        if a - adapters[0] > 3:\n",
    "            break\n",
    "        if a in targets:\n",
    "            total_paths[0] += targets[a]\n",
    "            continue\n",
    "        \n",
    "        search_adapter_paths(adapters[i+1:],targets, total_paths)\n",
    "    return\n"
   ]
  },
  {
   "cell_type": "code",
   "execution_count": 92,
   "metadata": {},
   "outputs": [
    {
     "ename": "KeyboardInterrupt",
     "evalue": "",
     "output_type": "error",
     "traceback": [
      "\u001b[0;31m---------------------------------------------------------------------------\u001b[0m",
      "\u001b[0;31mKeyboardInterrupt\u001b[0m                         Traceback (most recent call last)",
      "\u001b[0;32m<ipython-input-92-99d45332981a>\u001b[0m in \u001b[0;36m<module>\u001b[0;34m\u001b[0m\n\u001b[1;32m      4\u001b[0m \u001b[0mtotal\u001b[0m\u001b[0;34m=\u001b[0m\u001b[0;34m[\u001b[0m\u001b[0;36m0\u001b[0m\u001b[0;34m]\u001b[0m\u001b[0;34m\u001b[0m\u001b[0;34m\u001b[0m\u001b[0m\n\u001b[1;32m      5\u001b[0m \u001b[0mtargets\u001b[0m \u001b[0;34m=\u001b[0m \u001b[0;34m{\u001b[0m\u001b[0madapter_joltages\u001b[0m\u001b[0;34m[\u001b[0m\u001b[0;34m-\u001b[0m\u001b[0;36m1\u001b[0m\u001b[0;34m]\u001b[0m\u001b[0;34m:\u001b[0m\u001b[0;36m1\u001b[0m\u001b[0;34m}\u001b[0m\u001b[0;34m\u001b[0m\u001b[0;34m\u001b[0m\u001b[0m\n\u001b[0;32m----> 6\u001b[0;31m \u001b[0msearch_adapter_paths\u001b[0m\u001b[0;34m(\u001b[0m\u001b[0madapter_joltages\u001b[0m\u001b[0;34m,\u001b[0m \u001b[0mtargets\u001b[0m\u001b[0;34m,\u001b[0m \u001b[0mtotal\u001b[0m\u001b[0;34m)\u001b[0m\u001b[0;34m\u001b[0m\u001b[0;34m\u001b[0m\u001b[0m\n\u001b[0m\u001b[1;32m      7\u001b[0m \u001b[0mprint\u001b[0m\u001b[0;34m(\u001b[0m\u001b[0mtotal\u001b[0m\u001b[0;34m)\u001b[0m\u001b[0;34m\u001b[0m\u001b[0;34m\u001b[0m\u001b[0m\n",
      "\u001b[0;32m<ipython-input-91-41c41eddec40>\u001b[0m in \u001b[0;36msearch_adapter_paths\u001b[0;34m(adapters, targets, total_paths)\u001b[0m\n\u001b[1;32m      7\u001b[0m             \u001b[0;32mcontinue\u001b[0m\u001b[0;34m\u001b[0m\u001b[0;34m\u001b[0m\u001b[0m\n\u001b[1;32m      8\u001b[0m \u001b[0;34m\u001b[0m\u001b[0m\n\u001b[0;32m----> 9\u001b[0;31m         \u001b[0msearch_adapter_paths\u001b[0m\u001b[0;34m(\u001b[0m\u001b[0madapters\u001b[0m\u001b[0;34m[\u001b[0m\u001b[0mi\u001b[0m\u001b[0;34m+\u001b[0m\u001b[0;36m1\u001b[0m\u001b[0;34m:\u001b[0m\u001b[0;34m]\u001b[0m\u001b[0;34m,\u001b[0m\u001b[0mtargets\u001b[0m\u001b[0;34m,\u001b[0m \u001b[0mtotal_paths\u001b[0m\u001b[0;34m)\u001b[0m\u001b[0;34m\u001b[0m\u001b[0;34m\u001b[0m\u001b[0m\n\u001b[0m\u001b[1;32m     10\u001b[0m     \u001b[0;32mreturn\u001b[0m\u001b[0;34m\u001b[0m\u001b[0;34m\u001b[0m\u001b[0m\n",
      "\u001b[0;32m<ipython-input-91-41c41eddec40>\u001b[0m in \u001b[0;36msearch_adapter_paths\u001b[0;34m(adapters, targets, total_paths)\u001b[0m\n\u001b[1;32m      7\u001b[0m             \u001b[0;32mcontinue\u001b[0m\u001b[0;34m\u001b[0m\u001b[0;34m\u001b[0m\u001b[0m\n\u001b[1;32m      8\u001b[0m \u001b[0;34m\u001b[0m\u001b[0m\n\u001b[0;32m----> 9\u001b[0;31m         \u001b[0msearch_adapter_paths\u001b[0m\u001b[0;34m(\u001b[0m\u001b[0madapters\u001b[0m\u001b[0;34m[\u001b[0m\u001b[0mi\u001b[0m\u001b[0;34m+\u001b[0m\u001b[0;36m1\u001b[0m\u001b[0;34m:\u001b[0m\u001b[0;34m]\u001b[0m\u001b[0;34m,\u001b[0m\u001b[0mtargets\u001b[0m\u001b[0;34m,\u001b[0m \u001b[0mtotal_paths\u001b[0m\u001b[0;34m)\u001b[0m\u001b[0;34m\u001b[0m\u001b[0;34m\u001b[0m\u001b[0m\n\u001b[0m\u001b[1;32m     10\u001b[0m     \u001b[0;32mreturn\u001b[0m\u001b[0;34m\u001b[0m\u001b[0;34m\u001b[0m\u001b[0m\n",
      "\u001b[0;32m<ipython-input-91-41c41eddec40>\u001b[0m in \u001b[0;36msearch_adapter_paths\u001b[0;34m(adapters, targets, total_paths)\u001b[0m\n\u001b[1;32m      7\u001b[0m             \u001b[0;32mcontinue\u001b[0m\u001b[0;34m\u001b[0m\u001b[0;34m\u001b[0m\u001b[0m\n\u001b[1;32m      8\u001b[0m \u001b[0;34m\u001b[0m\u001b[0m\n\u001b[0;32m----> 9\u001b[0;31m         \u001b[0msearch_adapter_paths\u001b[0m\u001b[0;34m(\u001b[0m\u001b[0madapters\u001b[0m\u001b[0;34m[\u001b[0m\u001b[0mi\u001b[0m\u001b[0;34m+\u001b[0m\u001b[0;36m1\u001b[0m\u001b[0;34m:\u001b[0m\u001b[0;34m]\u001b[0m\u001b[0;34m,\u001b[0m\u001b[0mtargets\u001b[0m\u001b[0;34m,\u001b[0m \u001b[0mtotal_paths\u001b[0m\u001b[0;34m)\u001b[0m\u001b[0;34m\u001b[0m\u001b[0;34m\u001b[0m\u001b[0m\n\u001b[0m\u001b[1;32m     10\u001b[0m     \u001b[0;32mreturn\u001b[0m\u001b[0;34m\u001b[0m\u001b[0;34m\u001b[0m\u001b[0m\n",
      "\u001b[0;32m<ipython-input-91-41c41eddec40>\u001b[0m in \u001b[0;36msearch_adapter_paths\u001b[0;34m(adapters, targets, total_paths)\u001b[0m\n\u001b[1;32m      7\u001b[0m             \u001b[0;32mcontinue\u001b[0m\u001b[0;34m\u001b[0m\u001b[0;34m\u001b[0m\u001b[0m\n\u001b[1;32m      8\u001b[0m \u001b[0;34m\u001b[0m\u001b[0m\n\u001b[0;32m----> 9\u001b[0;31m         \u001b[0msearch_adapter_paths\u001b[0m\u001b[0;34m(\u001b[0m\u001b[0madapters\u001b[0m\u001b[0;34m[\u001b[0m\u001b[0mi\u001b[0m\u001b[0;34m+\u001b[0m\u001b[0;36m1\u001b[0m\u001b[0;34m:\u001b[0m\u001b[0;34m]\u001b[0m\u001b[0;34m,\u001b[0m\u001b[0mtargets\u001b[0m\u001b[0;34m,\u001b[0m \u001b[0mtotal_paths\u001b[0m\u001b[0;34m)\u001b[0m\u001b[0;34m\u001b[0m\u001b[0;34m\u001b[0m\u001b[0m\n\u001b[0m\u001b[1;32m     10\u001b[0m     \u001b[0;32mreturn\u001b[0m\u001b[0;34m\u001b[0m\u001b[0;34m\u001b[0m\u001b[0m\n",
      "\u001b[0;32m<ipython-input-91-41c41eddec40>\u001b[0m in \u001b[0;36msearch_adapter_paths\u001b[0;34m(adapters, targets, total_paths)\u001b[0m\n\u001b[1;32m      7\u001b[0m             \u001b[0;32mcontinue\u001b[0m\u001b[0;34m\u001b[0m\u001b[0;34m\u001b[0m\u001b[0m\n\u001b[1;32m      8\u001b[0m \u001b[0;34m\u001b[0m\u001b[0m\n\u001b[0;32m----> 9\u001b[0;31m         \u001b[0msearch_adapter_paths\u001b[0m\u001b[0;34m(\u001b[0m\u001b[0madapters\u001b[0m\u001b[0;34m[\u001b[0m\u001b[0mi\u001b[0m\u001b[0;34m+\u001b[0m\u001b[0;36m1\u001b[0m\u001b[0;34m:\u001b[0m\u001b[0;34m]\u001b[0m\u001b[0;34m,\u001b[0m\u001b[0mtargets\u001b[0m\u001b[0;34m,\u001b[0m \u001b[0mtotal_paths\u001b[0m\u001b[0;34m)\u001b[0m\u001b[0;34m\u001b[0m\u001b[0;34m\u001b[0m\u001b[0m\n\u001b[0m\u001b[1;32m     10\u001b[0m     \u001b[0;32mreturn\u001b[0m\u001b[0;34m\u001b[0m\u001b[0;34m\u001b[0m\u001b[0m\n",
      "\u001b[0;32m<ipython-input-91-41c41eddec40>\u001b[0m in \u001b[0;36msearch_adapter_paths\u001b[0;34m(adapters, targets, total_paths)\u001b[0m\n\u001b[1;32m      7\u001b[0m             \u001b[0;32mcontinue\u001b[0m\u001b[0;34m\u001b[0m\u001b[0;34m\u001b[0m\u001b[0m\n\u001b[1;32m      8\u001b[0m \u001b[0;34m\u001b[0m\u001b[0m\n\u001b[0;32m----> 9\u001b[0;31m         \u001b[0msearch_adapter_paths\u001b[0m\u001b[0;34m(\u001b[0m\u001b[0madapters\u001b[0m\u001b[0;34m[\u001b[0m\u001b[0mi\u001b[0m\u001b[0;34m+\u001b[0m\u001b[0;36m1\u001b[0m\u001b[0;34m:\u001b[0m\u001b[0;34m]\u001b[0m\u001b[0;34m,\u001b[0m\u001b[0mtargets\u001b[0m\u001b[0;34m,\u001b[0m \u001b[0mtotal_paths\u001b[0m\u001b[0;34m)\u001b[0m\u001b[0;34m\u001b[0m\u001b[0;34m\u001b[0m\u001b[0m\n\u001b[0m\u001b[1;32m     10\u001b[0m     \u001b[0;32mreturn\u001b[0m\u001b[0;34m\u001b[0m\u001b[0;34m\u001b[0m\u001b[0m\n",
      "\u001b[0;32m<ipython-input-91-41c41eddec40>\u001b[0m in \u001b[0;36msearch_adapter_paths\u001b[0;34m(adapters, targets, total_paths)\u001b[0m\n\u001b[1;32m      7\u001b[0m             \u001b[0;32mcontinue\u001b[0m\u001b[0;34m\u001b[0m\u001b[0;34m\u001b[0m\u001b[0m\n\u001b[1;32m      8\u001b[0m \u001b[0;34m\u001b[0m\u001b[0m\n\u001b[0;32m----> 9\u001b[0;31m         \u001b[0msearch_adapter_paths\u001b[0m\u001b[0;34m(\u001b[0m\u001b[0madapters\u001b[0m\u001b[0;34m[\u001b[0m\u001b[0mi\u001b[0m\u001b[0;34m+\u001b[0m\u001b[0;36m1\u001b[0m\u001b[0;34m:\u001b[0m\u001b[0;34m]\u001b[0m\u001b[0;34m,\u001b[0m\u001b[0mtargets\u001b[0m\u001b[0;34m,\u001b[0m \u001b[0mtotal_paths\u001b[0m\u001b[0;34m)\u001b[0m\u001b[0;34m\u001b[0m\u001b[0;34m\u001b[0m\u001b[0m\n\u001b[0m\u001b[1;32m     10\u001b[0m     \u001b[0;32mreturn\u001b[0m\u001b[0;34m\u001b[0m\u001b[0;34m\u001b[0m\u001b[0m\n",
      "\u001b[0;32m<ipython-input-91-41c41eddec40>\u001b[0m in \u001b[0;36msearch_adapter_paths\u001b[0;34m(adapters, targets, total_paths)\u001b[0m\n\u001b[1;32m      7\u001b[0m             \u001b[0;32mcontinue\u001b[0m\u001b[0;34m\u001b[0m\u001b[0;34m\u001b[0m\u001b[0m\n\u001b[1;32m      8\u001b[0m \u001b[0;34m\u001b[0m\u001b[0m\n\u001b[0;32m----> 9\u001b[0;31m         \u001b[0msearch_adapter_paths\u001b[0m\u001b[0;34m(\u001b[0m\u001b[0madapters\u001b[0m\u001b[0;34m[\u001b[0m\u001b[0mi\u001b[0m\u001b[0;34m+\u001b[0m\u001b[0;36m1\u001b[0m\u001b[0;34m:\u001b[0m\u001b[0;34m]\u001b[0m\u001b[0;34m,\u001b[0m\u001b[0mtargets\u001b[0m\u001b[0;34m,\u001b[0m \u001b[0mtotal_paths\u001b[0m\u001b[0;34m)\u001b[0m\u001b[0;34m\u001b[0m\u001b[0;34m\u001b[0m\u001b[0m\n\u001b[0m\u001b[1;32m     10\u001b[0m     \u001b[0;32mreturn\u001b[0m\u001b[0;34m\u001b[0m\u001b[0;34m\u001b[0m\u001b[0m\n",
      "\u001b[0;32m<ipython-input-91-41c41eddec40>\u001b[0m in \u001b[0;36msearch_adapter_paths\u001b[0;34m(adapters, targets, total_paths)\u001b[0m\n\u001b[1;32m      7\u001b[0m             \u001b[0;32mcontinue\u001b[0m\u001b[0;34m\u001b[0m\u001b[0;34m\u001b[0m\u001b[0m\n\u001b[1;32m      8\u001b[0m \u001b[0;34m\u001b[0m\u001b[0m\n\u001b[0;32m----> 9\u001b[0;31m         \u001b[0msearch_adapter_paths\u001b[0m\u001b[0;34m(\u001b[0m\u001b[0madapters\u001b[0m\u001b[0;34m[\u001b[0m\u001b[0mi\u001b[0m\u001b[0;34m+\u001b[0m\u001b[0;36m1\u001b[0m\u001b[0;34m:\u001b[0m\u001b[0;34m]\u001b[0m\u001b[0;34m,\u001b[0m\u001b[0mtargets\u001b[0m\u001b[0;34m,\u001b[0m \u001b[0mtotal_paths\u001b[0m\u001b[0;34m)\u001b[0m\u001b[0;34m\u001b[0m\u001b[0;34m\u001b[0m\u001b[0m\n\u001b[0m\u001b[1;32m     10\u001b[0m     \u001b[0;32mreturn\u001b[0m\u001b[0;34m\u001b[0m\u001b[0;34m\u001b[0m\u001b[0m\n",
      "\u001b[0;32m<ipython-input-91-41c41eddec40>\u001b[0m in \u001b[0;36msearch_adapter_paths\u001b[0;34m(adapters, targets, total_paths)\u001b[0m\n\u001b[1;32m      7\u001b[0m             \u001b[0;32mcontinue\u001b[0m\u001b[0;34m\u001b[0m\u001b[0;34m\u001b[0m\u001b[0m\n\u001b[1;32m      8\u001b[0m \u001b[0;34m\u001b[0m\u001b[0m\n\u001b[0;32m----> 9\u001b[0;31m         \u001b[0msearch_adapter_paths\u001b[0m\u001b[0;34m(\u001b[0m\u001b[0madapters\u001b[0m\u001b[0;34m[\u001b[0m\u001b[0mi\u001b[0m\u001b[0;34m+\u001b[0m\u001b[0;36m1\u001b[0m\u001b[0;34m:\u001b[0m\u001b[0;34m]\u001b[0m\u001b[0;34m,\u001b[0m\u001b[0mtargets\u001b[0m\u001b[0;34m,\u001b[0m \u001b[0mtotal_paths\u001b[0m\u001b[0;34m)\u001b[0m\u001b[0;34m\u001b[0m\u001b[0;34m\u001b[0m\u001b[0m\n\u001b[0m\u001b[1;32m     10\u001b[0m     \u001b[0;32mreturn\u001b[0m\u001b[0;34m\u001b[0m\u001b[0;34m\u001b[0m\u001b[0m\n",
      "\u001b[0;32m<ipython-input-91-41c41eddec40>\u001b[0m in \u001b[0;36msearch_adapter_paths\u001b[0;34m(adapters, targets, total_paths)\u001b[0m\n\u001b[1;32m      7\u001b[0m             \u001b[0;32mcontinue\u001b[0m\u001b[0;34m\u001b[0m\u001b[0;34m\u001b[0m\u001b[0m\n\u001b[1;32m      8\u001b[0m \u001b[0;34m\u001b[0m\u001b[0m\n\u001b[0;32m----> 9\u001b[0;31m         \u001b[0msearch_adapter_paths\u001b[0m\u001b[0;34m(\u001b[0m\u001b[0madapters\u001b[0m\u001b[0;34m[\u001b[0m\u001b[0mi\u001b[0m\u001b[0;34m+\u001b[0m\u001b[0;36m1\u001b[0m\u001b[0;34m:\u001b[0m\u001b[0;34m]\u001b[0m\u001b[0;34m,\u001b[0m\u001b[0mtargets\u001b[0m\u001b[0;34m,\u001b[0m \u001b[0mtotal_paths\u001b[0m\u001b[0;34m)\u001b[0m\u001b[0;34m\u001b[0m\u001b[0;34m\u001b[0m\u001b[0m\n\u001b[0m\u001b[1;32m     10\u001b[0m     \u001b[0;32mreturn\u001b[0m\u001b[0;34m\u001b[0m\u001b[0;34m\u001b[0m\u001b[0m\n",
      "\u001b[0;32m<ipython-input-91-41c41eddec40>\u001b[0m in \u001b[0;36msearch_adapter_paths\u001b[0;34m(adapters, targets, total_paths)\u001b[0m\n\u001b[1;32m      7\u001b[0m             \u001b[0;32mcontinue\u001b[0m\u001b[0;34m\u001b[0m\u001b[0;34m\u001b[0m\u001b[0m\n\u001b[1;32m      8\u001b[0m \u001b[0;34m\u001b[0m\u001b[0m\n\u001b[0;32m----> 9\u001b[0;31m         \u001b[0msearch_adapter_paths\u001b[0m\u001b[0;34m(\u001b[0m\u001b[0madapters\u001b[0m\u001b[0;34m[\u001b[0m\u001b[0mi\u001b[0m\u001b[0;34m+\u001b[0m\u001b[0;36m1\u001b[0m\u001b[0;34m:\u001b[0m\u001b[0;34m]\u001b[0m\u001b[0;34m,\u001b[0m\u001b[0mtargets\u001b[0m\u001b[0;34m,\u001b[0m \u001b[0mtotal_paths\u001b[0m\u001b[0;34m)\u001b[0m\u001b[0;34m\u001b[0m\u001b[0;34m\u001b[0m\u001b[0m\n\u001b[0m\u001b[1;32m     10\u001b[0m     \u001b[0;32mreturn\u001b[0m\u001b[0;34m\u001b[0m\u001b[0;34m\u001b[0m\u001b[0m\n",
      "\u001b[0;32m<ipython-input-91-41c41eddec40>\u001b[0m in \u001b[0;36msearch_adapter_paths\u001b[0;34m(adapters, targets, total_paths)\u001b[0m\n\u001b[1;32m      7\u001b[0m             \u001b[0;32mcontinue\u001b[0m\u001b[0;34m\u001b[0m\u001b[0;34m\u001b[0m\u001b[0m\n\u001b[1;32m      8\u001b[0m \u001b[0;34m\u001b[0m\u001b[0m\n\u001b[0;32m----> 9\u001b[0;31m         \u001b[0msearch_adapter_paths\u001b[0m\u001b[0;34m(\u001b[0m\u001b[0madapters\u001b[0m\u001b[0;34m[\u001b[0m\u001b[0mi\u001b[0m\u001b[0;34m+\u001b[0m\u001b[0;36m1\u001b[0m\u001b[0;34m:\u001b[0m\u001b[0;34m]\u001b[0m\u001b[0;34m,\u001b[0m\u001b[0mtargets\u001b[0m\u001b[0;34m,\u001b[0m \u001b[0mtotal_paths\u001b[0m\u001b[0;34m)\u001b[0m\u001b[0;34m\u001b[0m\u001b[0;34m\u001b[0m\u001b[0m\n\u001b[0m\u001b[1;32m     10\u001b[0m     \u001b[0;32mreturn\u001b[0m\u001b[0;34m\u001b[0m\u001b[0;34m\u001b[0m\u001b[0m\n",
      "\u001b[0;32m<ipython-input-91-41c41eddec40>\u001b[0m in \u001b[0;36msearch_adapter_paths\u001b[0;34m(adapters, targets, total_paths)\u001b[0m\n\u001b[1;32m      7\u001b[0m             \u001b[0;32mcontinue\u001b[0m\u001b[0;34m\u001b[0m\u001b[0;34m\u001b[0m\u001b[0m\n\u001b[1;32m      8\u001b[0m \u001b[0;34m\u001b[0m\u001b[0m\n\u001b[0;32m----> 9\u001b[0;31m         \u001b[0msearch_adapter_paths\u001b[0m\u001b[0;34m(\u001b[0m\u001b[0madapters\u001b[0m\u001b[0;34m[\u001b[0m\u001b[0mi\u001b[0m\u001b[0;34m+\u001b[0m\u001b[0;36m1\u001b[0m\u001b[0;34m:\u001b[0m\u001b[0;34m]\u001b[0m\u001b[0;34m,\u001b[0m\u001b[0mtargets\u001b[0m\u001b[0;34m,\u001b[0m \u001b[0mtotal_paths\u001b[0m\u001b[0;34m)\u001b[0m\u001b[0;34m\u001b[0m\u001b[0;34m\u001b[0m\u001b[0m\n\u001b[0m\u001b[1;32m     10\u001b[0m     \u001b[0;32mreturn\u001b[0m\u001b[0;34m\u001b[0m\u001b[0;34m\u001b[0m\u001b[0m\n",
      "\u001b[0;32m<ipython-input-91-41c41eddec40>\u001b[0m in \u001b[0;36msearch_adapter_paths\u001b[0;34m(adapters, targets, total_paths)\u001b[0m\n\u001b[1;32m      7\u001b[0m             \u001b[0;32mcontinue\u001b[0m\u001b[0;34m\u001b[0m\u001b[0;34m\u001b[0m\u001b[0m\n\u001b[1;32m      8\u001b[0m \u001b[0;34m\u001b[0m\u001b[0m\n\u001b[0;32m----> 9\u001b[0;31m         \u001b[0msearch_adapter_paths\u001b[0m\u001b[0;34m(\u001b[0m\u001b[0madapters\u001b[0m\u001b[0;34m[\u001b[0m\u001b[0mi\u001b[0m\u001b[0;34m+\u001b[0m\u001b[0;36m1\u001b[0m\u001b[0;34m:\u001b[0m\u001b[0;34m]\u001b[0m\u001b[0;34m,\u001b[0m\u001b[0mtargets\u001b[0m\u001b[0;34m,\u001b[0m \u001b[0mtotal_paths\u001b[0m\u001b[0;34m)\u001b[0m\u001b[0;34m\u001b[0m\u001b[0;34m\u001b[0m\u001b[0m\n\u001b[0m\u001b[1;32m     10\u001b[0m     \u001b[0;32mreturn\u001b[0m\u001b[0;34m\u001b[0m\u001b[0;34m\u001b[0m\u001b[0m\n",
      "\u001b[0;32m<ipython-input-91-41c41eddec40>\u001b[0m in \u001b[0;36msearch_adapter_paths\u001b[0;34m(adapters, targets, total_paths)\u001b[0m\n\u001b[1;32m      7\u001b[0m             \u001b[0;32mcontinue\u001b[0m\u001b[0;34m\u001b[0m\u001b[0;34m\u001b[0m\u001b[0m\n\u001b[1;32m      8\u001b[0m \u001b[0;34m\u001b[0m\u001b[0m\n\u001b[0;32m----> 9\u001b[0;31m         \u001b[0msearch_adapter_paths\u001b[0m\u001b[0;34m(\u001b[0m\u001b[0madapters\u001b[0m\u001b[0;34m[\u001b[0m\u001b[0mi\u001b[0m\u001b[0;34m+\u001b[0m\u001b[0;36m1\u001b[0m\u001b[0;34m:\u001b[0m\u001b[0;34m]\u001b[0m\u001b[0;34m,\u001b[0m\u001b[0mtargets\u001b[0m\u001b[0;34m,\u001b[0m \u001b[0mtotal_paths\u001b[0m\u001b[0;34m)\u001b[0m\u001b[0;34m\u001b[0m\u001b[0;34m\u001b[0m\u001b[0m\n\u001b[0m\u001b[1;32m     10\u001b[0m     \u001b[0;32mreturn\u001b[0m\u001b[0;34m\u001b[0m\u001b[0;34m\u001b[0m\u001b[0m\n",
      "\u001b[0;32m<ipython-input-91-41c41eddec40>\u001b[0m in \u001b[0;36msearch_adapter_paths\u001b[0;34m(adapters, targets, total_paths)\u001b[0m\n\u001b[1;32m      7\u001b[0m             \u001b[0;32mcontinue\u001b[0m\u001b[0;34m\u001b[0m\u001b[0;34m\u001b[0m\u001b[0m\n\u001b[1;32m      8\u001b[0m \u001b[0;34m\u001b[0m\u001b[0m\n\u001b[0;32m----> 9\u001b[0;31m         \u001b[0msearch_adapter_paths\u001b[0m\u001b[0;34m(\u001b[0m\u001b[0madapters\u001b[0m\u001b[0;34m[\u001b[0m\u001b[0mi\u001b[0m\u001b[0;34m+\u001b[0m\u001b[0;36m1\u001b[0m\u001b[0;34m:\u001b[0m\u001b[0;34m]\u001b[0m\u001b[0;34m,\u001b[0m\u001b[0mtargets\u001b[0m\u001b[0;34m,\u001b[0m \u001b[0mtotal_paths\u001b[0m\u001b[0;34m)\u001b[0m\u001b[0;34m\u001b[0m\u001b[0;34m\u001b[0m\u001b[0m\n\u001b[0m\u001b[1;32m     10\u001b[0m     \u001b[0;32mreturn\u001b[0m\u001b[0;34m\u001b[0m\u001b[0;34m\u001b[0m\u001b[0m\n",
      "\u001b[0;32m<ipython-input-91-41c41eddec40>\u001b[0m in \u001b[0;36msearch_adapter_paths\u001b[0;34m(adapters, targets, total_paths)\u001b[0m\n\u001b[1;32m      7\u001b[0m             \u001b[0;32mcontinue\u001b[0m\u001b[0;34m\u001b[0m\u001b[0;34m\u001b[0m\u001b[0m\n\u001b[1;32m      8\u001b[0m \u001b[0;34m\u001b[0m\u001b[0m\n\u001b[0;32m----> 9\u001b[0;31m         \u001b[0msearch_adapter_paths\u001b[0m\u001b[0;34m(\u001b[0m\u001b[0madapters\u001b[0m\u001b[0;34m[\u001b[0m\u001b[0mi\u001b[0m\u001b[0;34m+\u001b[0m\u001b[0;36m1\u001b[0m\u001b[0;34m:\u001b[0m\u001b[0;34m]\u001b[0m\u001b[0;34m,\u001b[0m\u001b[0mtargets\u001b[0m\u001b[0;34m,\u001b[0m \u001b[0mtotal_paths\u001b[0m\u001b[0;34m)\u001b[0m\u001b[0;34m\u001b[0m\u001b[0;34m\u001b[0m\u001b[0m\n\u001b[0m\u001b[1;32m     10\u001b[0m     \u001b[0;32mreturn\u001b[0m\u001b[0;34m\u001b[0m\u001b[0;34m\u001b[0m\u001b[0m\n",
      "\u001b[0;32m<ipython-input-91-41c41eddec40>\u001b[0m in \u001b[0;36msearch_adapter_paths\u001b[0;34m(adapters, targets, total_paths)\u001b[0m\n\u001b[1;32m      7\u001b[0m             \u001b[0;32mcontinue\u001b[0m\u001b[0;34m\u001b[0m\u001b[0;34m\u001b[0m\u001b[0m\n\u001b[1;32m      8\u001b[0m \u001b[0;34m\u001b[0m\u001b[0m\n\u001b[0;32m----> 9\u001b[0;31m         \u001b[0msearch_adapter_paths\u001b[0m\u001b[0;34m(\u001b[0m\u001b[0madapters\u001b[0m\u001b[0;34m[\u001b[0m\u001b[0mi\u001b[0m\u001b[0;34m+\u001b[0m\u001b[0;36m1\u001b[0m\u001b[0;34m:\u001b[0m\u001b[0;34m]\u001b[0m\u001b[0;34m,\u001b[0m\u001b[0mtargets\u001b[0m\u001b[0;34m,\u001b[0m \u001b[0mtotal_paths\u001b[0m\u001b[0;34m)\u001b[0m\u001b[0;34m\u001b[0m\u001b[0;34m\u001b[0m\u001b[0m\n\u001b[0m\u001b[1;32m     10\u001b[0m     \u001b[0;32mreturn\u001b[0m\u001b[0;34m\u001b[0m\u001b[0;34m\u001b[0m\u001b[0m\n",
      "\u001b[0;32m<ipython-input-91-41c41eddec40>\u001b[0m in \u001b[0;36msearch_adapter_paths\u001b[0;34m(adapters, targets, total_paths)\u001b[0m\n\u001b[1;32m      7\u001b[0m             \u001b[0;32mcontinue\u001b[0m\u001b[0;34m\u001b[0m\u001b[0;34m\u001b[0m\u001b[0m\n\u001b[1;32m      8\u001b[0m \u001b[0;34m\u001b[0m\u001b[0m\n\u001b[0;32m----> 9\u001b[0;31m         \u001b[0msearch_adapter_paths\u001b[0m\u001b[0;34m(\u001b[0m\u001b[0madapters\u001b[0m\u001b[0;34m[\u001b[0m\u001b[0mi\u001b[0m\u001b[0;34m+\u001b[0m\u001b[0;36m1\u001b[0m\u001b[0;34m:\u001b[0m\u001b[0;34m]\u001b[0m\u001b[0;34m,\u001b[0m\u001b[0mtargets\u001b[0m\u001b[0;34m,\u001b[0m \u001b[0mtotal_paths\u001b[0m\u001b[0;34m)\u001b[0m\u001b[0;34m\u001b[0m\u001b[0;34m\u001b[0m\u001b[0m\n\u001b[0m\u001b[1;32m     10\u001b[0m     \u001b[0;32mreturn\u001b[0m\u001b[0;34m\u001b[0m\u001b[0;34m\u001b[0m\u001b[0m\n",
      "\u001b[0;32m<ipython-input-91-41c41eddec40>\u001b[0m in \u001b[0;36msearch_adapter_paths\u001b[0;34m(adapters, targets, total_paths)\u001b[0m\n\u001b[1;32m      7\u001b[0m             \u001b[0;32mcontinue\u001b[0m\u001b[0;34m\u001b[0m\u001b[0;34m\u001b[0m\u001b[0m\n\u001b[1;32m      8\u001b[0m \u001b[0;34m\u001b[0m\u001b[0m\n\u001b[0;32m----> 9\u001b[0;31m         \u001b[0msearch_adapter_paths\u001b[0m\u001b[0;34m(\u001b[0m\u001b[0madapters\u001b[0m\u001b[0;34m[\u001b[0m\u001b[0mi\u001b[0m\u001b[0;34m+\u001b[0m\u001b[0;36m1\u001b[0m\u001b[0;34m:\u001b[0m\u001b[0;34m]\u001b[0m\u001b[0;34m,\u001b[0m\u001b[0mtargets\u001b[0m\u001b[0;34m,\u001b[0m \u001b[0mtotal_paths\u001b[0m\u001b[0;34m)\u001b[0m\u001b[0;34m\u001b[0m\u001b[0;34m\u001b[0m\u001b[0m\n\u001b[0m\u001b[1;32m     10\u001b[0m     \u001b[0;32mreturn\u001b[0m\u001b[0;34m\u001b[0m\u001b[0;34m\u001b[0m\u001b[0m\n",
      "\u001b[0;32m<ipython-input-91-41c41eddec40>\u001b[0m in \u001b[0;36msearch_adapter_paths\u001b[0;34m(adapters, targets, total_paths)\u001b[0m\n\u001b[1;32m      7\u001b[0m             \u001b[0;32mcontinue\u001b[0m\u001b[0;34m\u001b[0m\u001b[0;34m\u001b[0m\u001b[0m\n\u001b[1;32m      8\u001b[0m \u001b[0;34m\u001b[0m\u001b[0m\n\u001b[0;32m----> 9\u001b[0;31m         \u001b[0msearch_adapter_paths\u001b[0m\u001b[0;34m(\u001b[0m\u001b[0madapters\u001b[0m\u001b[0;34m[\u001b[0m\u001b[0mi\u001b[0m\u001b[0;34m+\u001b[0m\u001b[0;36m1\u001b[0m\u001b[0;34m:\u001b[0m\u001b[0;34m]\u001b[0m\u001b[0;34m,\u001b[0m\u001b[0mtargets\u001b[0m\u001b[0;34m,\u001b[0m \u001b[0mtotal_paths\u001b[0m\u001b[0;34m)\u001b[0m\u001b[0;34m\u001b[0m\u001b[0;34m\u001b[0m\u001b[0m\n\u001b[0m\u001b[1;32m     10\u001b[0m     \u001b[0;32mreturn\u001b[0m\u001b[0;34m\u001b[0m\u001b[0;34m\u001b[0m\u001b[0m\n",
      "\u001b[0;32m<ipython-input-91-41c41eddec40>\u001b[0m in \u001b[0;36msearch_adapter_paths\u001b[0;34m(adapters, targets, total_paths)\u001b[0m\n\u001b[1;32m      7\u001b[0m             \u001b[0;32mcontinue\u001b[0m\u001b[0;34m\u001b[0m\u001b[0;34m\u001b[0m\u001b[0m\n\u001b[1;32m      8\u001b[0m \u001b[0;34m\u001b[0m\u001b[0m\n\u001b[0;32m----> 9\u001b[0;31m         \u001b[0msearch_adapter_paths\u001b[0m\u001b[0;34m(\u001b[0m\u001b[0madapters\u001b[0m\u001b[0;34m[\u001b[0m\u001b[0mi\u001b[0m\u001b[0;34m+\u001b[0m\u001b[0;36m1\u001b[0m\u001b[0;34m:\u001b[0m\u001b[0;34m]\u001b[0m\u001b[0;34m,\u001b[0m\u001b[0mtargets\u001b[0m\u001b[0;34m,\u001b[0m \u001b[0mtotal_paths\u001b[0m\u001b[0;34m)\u001b[0m\u001b[0;34m\u001b[0m\u001b[0;34m\u001b[0m\u001b[0m\n\u001b[0m\u001b[1;32m     10\u001b[0m     \u001b[0;32mreturn\u001b[0m\u001b[0;34m\u001b[0m\u001b[0;34m\u001b[0m\u001b[0m\n",
      "\u001b[0;32m<ipython-input-91-41c41eddec40>\u001b[0m in \u001b[0;36msearch_adapter_paths\u001b[0;34m(adapters, targets, total_paths)\u001b[0m\n\u001b[1;32m      7\u001b[0m             \u001b[0;32mcontinue\u001b[0m\u001b[0;34m\u001b[0m\u001b[0;34m\u001b[0m\u001b[0m\n\u001b[1;32m      8\u001b[0m \u001b[0;34m\u001b[0m\u001b[0m\n\u001b[0;32m----> 9\u001b[0;31m         \u001b[0msearch_adapter_paths\u001b[0m\u001b[0;34m(\u001b[0m\u001b[0madapters\u001b[0m\u001b[0;34m[\u001b[0m\u001b[0mi\u001b[0m\u001b[0;34m+\u001b[0m\u001b[0;36m1\u001b[0m\u001b[0;34m:\u001b[0m\u001b[0;34m]\u001b[0m\u001b[0;34m,\u001b[0m\u001b[0mtargets\u001b[0m\u001b[0;34m,\u001b[0m \u001b[0mtotal_paths\u001b[0m\u001b[0;34m)\u001b[0m\u001b[0;34m\u001b[0m\u001b[0;34m\u001b[0m\u001b[0m\n\u001b[0m\u001b[1;32m     10\u001b[0m     \u001b[0;32mreturn\u001b[0m\u001b[0;34m\u001b[0m\u001b[0;34m\u001b[0m\u001b[0m\n",
      "\u001b[0;32m<ipython-input-91-41c41eddec40>\u001b[0m in \u001b[0;36msearch_adapter_paths\u001b[0;34m(adapters, targets, total_paths)\u001b[0m\n\u001b[1;32m      7\u001b[0m             \u001b[0;32mcontinue\u001b[0m\u001b[0;34m\u001b[0m\u001b[0;34m\u001b[0m\u001b[0m\n\u001b[1;32m      8\u001b[0m \u001b[0;34m\u001b[0m\u001b[0m\n\u001b[0;32m----> 9\u001b[0;31m         \u001b[0msearch_adapter_paths\u001b[0m\u001b[0;34m(\u001b[0m\u001b[0madapters\u001b[0m\u001b[0;34m[\u001b[0m\u001b[0mi\u001b[0m\u001b[0;34m+\u001b[0m\u001b[0;36m1\u001b[0m\u001b[0;34m:\u001b[0m\u001b[0;34m]\u001b[0m\u001b[0;34m,\u001b[0m\u001b[0mtargets\u001b[0m\u001b[0;34m,\u001b[0m \u001b[0mtotal_paths\u001b[0m\u001b[0;34m)\u001b[0m\u001b[0;34m\u001b[0m\u001b[0;34m\u001b[0m\u001b[0m\n\u001b[0m\u001b[1;32m     10\u001b[0m     \u001b[0;32mreturn\u001b[0m\u001b[0;34m\u001b[0m\u001b[0;34m\u001b[0m\u001b[0m\n",
      "\u001b[0;32m<ipython-input-91-41c41eddec40>\u001b[0m in \u001b[0;36msearch_adapter_paths\u001b[0;34m(adapters, targets, total_paths)\u001b[0m\n\u001b[1;32m      7\u001b[0m             \u001b[0;32mcontinue\u001b[0m\u001b[0;34m\u001b[0m\u001b[0;34m\u001b[0m\u001b[0m\n\u001b[1;32m      8\u001b[0m \u001b[0;34m\u001b[0m\u001b[0m\n\u001b[0;32m----> 9\u001b[0;31m         \u001b[0msearch_adapter_paths\u001b[0m\u001b[0;34m(\u001b[0m\u001b[0madapters\u001b[0m\u001b[0;34m[\u001b[0m\u001b[0mi\u001b[0m\u001b[0;34m+\u001b[0m\u001b[0;36m1\u001b[0m\u001b[0;34m:\u001b[0m\u001b[0;34m]\u001b[0m\u001b[0;34m,\u001b[0m\u001b[0mtargets\u001b[0m\u001b[0;34m,\u001b[0m \u001b[0mtotal_paths\u001b[0m\u001b[0;34m)\u001b[0m\u001b[0;34m\u001b[0m\u001b[0;34m\u001b[0m\u001b[0m\n\u001b[0m\u001b[1;32m     10\u001b[0m     \u001b[0;32mreturn\u001b[0m\u001b[0;34m\u001b[0m\u001b[0;34m\u001b[0m\u001b[0m\n",
      "\u001b[0;32m<ipython-input-91-41c41eddec40>\u001b[0m in \u001b[0;36msearch_adapter_paths\u001b[0;34m(adapters, targets, total_paths)\u001b[0m\n\u001b[1;32m      7\u001b[0m             \u001b[0;32mcontinue\u001b[0m\u001b[0;34m\u001b[0m\u001b[0;34m\u001b[0m\u001b[0m\n\u001b[1;32m      8\u001b[0m \u001b[0;34m\u001b[0m\u001b[0m\n\u001b[0;32m----> 9\u001b[0;31m         \u001b[0msearch_adapter_paths\u001b[0m\u001b[0;34m(\u001b[0m\u001b[0madapters\u001b[0m\u001b[0;34m[\u001b[0m\u001b[0mi\u001b[0m\u001b[0;34m+\u001b[0m\u001b[0;36m1\u001b[0m\u001b[0;34m:\u001b[0m\u001b[0;34m]\u001b[0m\u001b[0;34m,\u001b[0m\u001b[0mtargets\u001b[0m\u001b[0;34m,\u001b[0m \u001b[0mtotal_paths\u001b[0m\u001b[0;34m)\u001b[0m\u001b[0;34m\u001b[0m\u001b[0;34m\u001b[0m\u001b[0m\n\u001b[0m\u001b[1;32m     10\u001b[0m     \u001b[0;32mreturn\u001b[0m\u001b[0;34m\u001b[0m\u001b[0;34m\u001b[0m\u001b[0m\n",
      "\u001b[0;32m<ipython-input-91-41c41eddec40>\u001b[0m in \u001b[0;36msearch_adapter_paths\u001b[0;34m(adapters, targets, total_paths)\u001b[0m\n\u001b[1;32m      7\u001b[0m             \u001b[0;32mcontinue\u001b[0m\u001b[0;34m\u001b[0m\u001b[0;34m\u001b[0m\u001b[0m\n\u001b[1;32m      8\u001b[0m \u001b[0;34m\u001b[0m\u001b[0m\n\u001b[0;32m----> 9\u001b[0;31m         \u001b[0msearch_adapter_paths\u001b[0m\u001b[0;34m(\u001b[0m\u001b[0madapters\u001b[0m\u001b[0;34m[\u001b[0m\u001b[0mi\u001b[0m\u001b[0;34m+\u001b[0m\u001b[0;36m1\u001b[0m\u001b[0;34m:\u001b[0m\u001b[0;34m]\u001b[0m\u001b[0;34m,\u001b[0m\u001b[0mtargets\u001b[0m\u001b[0;34m,\u001b[0m \u001b[0mtotal_paths\u001b[0m\u001b[0;34m)\u001b[0m\u001b[0;34m\u001b[0m\u001b[0;34m\u001b[0m\u001b[0m\n\u001b[0m\u001b[1;32m     10\u001b[0m     \u001b[0;32mreturn\u001b[0m\u001b[0;34m\u001b[0m\u001b[0;34m\u001b[0m\u001b[0m\n",
      "\u001b[0;32m<ipython-input-91-41c41eddec40>\u001b[0m in \u001b[0;36msearch_adapter_paths\u001b[0;34m(adapters, targets, total_paths)\u001b[0m\n\u001b[1;32m      7\u001b[0m             \u001b[0;32mcontinue\u001b[0m\u001b[0;34m\u001b[0m\u001b[0;34m\u001b[0m\u001b[0m\n\u001b[1;32m      8\u001b[0m \u001b[0;34m\u001b[0m\u001b[0m\n\u001b[0;32m----> 9\u001b[0;31m         \u001b[0msearch_adapter_paths\u001b[0m\u001b[0;34m(\u001b[0m\u001b[0madapters\u001b[0m\u001b[0;34m[\u001b[0m\u001b[0mi\u001b[0m\u001b[0;34m+\u001b[0m\u001b[0;36m1\u001b[0m\u001b[0;34m:\u001b[0m\u001b[0;34m]\u001b[0m\u001b[0;34m,\u001b[0m\u001b[0mtargets\u001b[0m\u001b[0;34m,\u001b[0m \u001b[0mtotal_paths\u001b[0m\u001b[0;34m)\u001b[0m\u001b[0;34m\u001b[0m\u001b[0;34m\u001b[0m\u001b[0m\n\u001b[0m\u001b[1;32m     10\u001b[0m     \u001b[0;32mreturn\u001b[0m\u001b[0;34m\u001b[0m\u001b[0;34m\u001b[0m\u001b[0m\n",
      "\u001b[0;32m<ipython-input-91-41c41eddec40>\u001b[0m in \u001b[0;36msearch_adapter_paths\u001b[0;34m(adapters, targets, total_paths)\u001b[0m\n\u001b[1;32m      7\u001b[0m             \u001b[0;32mcontinue\u001b[0m\u001b[0;34m\u001b[0m\u001b[0;34m\u001b[0m\u001b[0m\n\u001b[1;32m      8\u001b[0m \u001b[0;34m\u001b[0m\u001b[0m\n\u001b[0;32m----> 9\u001b[0;31m         \u001b[0msearch_adapter_paths\u001b[0m\u001b[0;34m(\u001b[0m\u001b[0madapters\u001b[0m\u001b[0;34m[\u001b[0m\u001b[0mi\u001b[0m\u001b[0;34m+\u001b[0m\u001b[0;36m1\u001b[0m\u001b[0;34m:\u001b[0m\u001b[0;34m]\u001b[0m\u001b[0;34m,\u001b[0m\u001b[0mtargets\u001b[0m\u001b[0;34m,\u001b[0m \u001b[0mtotal_paths\u001b[0m\u001b[0;34m)\u001b[0m\u001b[0;34m\u001b[0m\u001b[0;34m\u001b[0m\u001b[0m\n\u001b[0m\u001b[1;32m     10\u001b[0m     \u001b[0;32mreturn\u001b[0m\u001b[0;34m\u001b[0m\u001b[0;34m\u001b[0m\u001b[0m\n",
      "\u001b[0;32m<ipython-input-91-41c41eddec40>\u001b[0m in \u001b[0;36msearch_adapter_paths\u001b[0;34m(adapters, targets, total_paths)\u001b[0m\n\u001b[1;32m      7\u001b[0m             \u001b[0;32mcontinue\u001b[0m\u001b[0;34m\u001b[0m\u001b[0;34m\u001b[0m\u001b[0m\n\u001b[1;32m      8\u001b[0m \u001b[0;34m\u001b[0m\u001b[0m\n\u001b[0;32m----> 9\u001b[0;31m         \u001b[0msearch_adapter_paths\u001b[0m\u001b[0;34m(\u001b[0m\u001b[0madapters\u001b[0m\u001b[0;34m[\u001b[0m\u001b[0mi\u001b[0m\u001b[0;34m+\u001b[0m\u001b[0;36m1\u001b[0m\u001b[0;34m:\u001b[0m\u001b[0;34m]\u001b[0m\u001b[0;34m,\u001b[0m\u001b[0mtargets\u001b[0m\u001b[0;34m,\u001b[0m \u001b[0mtotal_paths\u001b[0m\u001b[0;34m)\u001b[0m\u001b[0;34m\u001b[0m\u001b[0;34m\u001b[0m\u001b[0m\n\u001b[0m\u001b[1;32m     10\u001b[0m     \u001b[0;32mreturn\u001b[0m\u001b[0;34m\u001b[0m\u001b[0;34m\u001b[0m\u001b[0m\n",
      "\u001b[0;32m<ipython-input-91-41c41eddec40>\u001b[0m in \u001b[0;36msearch_adapter_paths\u001b[0;34m(adapters, targets, total_paths)\u001b[0m\n\u001b[1;32m      7\u001b[0m             \u001b[0;32mcontinue\u001b[0m\u001b[0;34m\u001b[0m\u001b[0;34m\u001b[0m\u001b[0m\n\u001b[1;32m      8\u001b[0m \u001b[0;34m\u001b[0m\u001b[0m\n\u001b[0;32m----> 9\u001b[0;31m         \u001b[0msearch_adapter_paths\u001b[0m\u001b[0;34m(\u001b[0m\u001b[0madapters\u001b[0m\u001b[0;34m[\u001b[0m\u001b[0mi\u001b[0m\u001b[0;34m+\u001b[0m\u001b[0;36m1\u001b[0m\u001b[0;34m:\u001b[0m\u001b[0;34m]\u001b[0m\u001b[0;34m,\u001b[0m\u001b[0mtargets\u001b[0m\u001b[0;34m,\u001b[0m \u001b[0mtotal_paths\u001b[0m\u001b[0;34m)\u001b[0m\u001b[0;34m\u001b[0m\u001b[0;34m\u001b[0m\u001b[0m\n\u001b[0m\u001b[1;32m     10\u001b[0m     \u001b[0;32mreturn\u001b[0m\u001b[0;34m\u001b[0m\u001b[0;34m\u001b[0m\u001b[0m\n",
      "\u001b[0;32m<ipython-input-91-41c41eddec40>\u001b[0m in \u001b[0;36msearch_adapter_paths\u001b[0;34m(adapters, targets, total_paths)\u001b[0m\n\u001b[1;32m      7\u001b[0m             \u001b[0;32mcontinue\u001b[0m\u001b[0;34m\u001b[0m\u001b[0;34m\u001b[0m\u001b[0m\n\u001b[1;32m      8\u001b[0m \u001b[0;34m\u001b[0m\u001b[0m\n\u001b[0;32m----> 9\u001b[0;31m         \u001b[0msearch_adapter_paths\u001b[0m\u001b[0;34m(\u001b[0m\u001b[0madapters\u001b[0m\u001b[0;34m[\u001b[0m\u001b[0mi\u001b[0m\u001b[0;34m+\u001b[0m\u001b[0;36m1\u001b[0m\u001b[0;34m:\u001b[0m\u001b[0;34m]\u001b[0m\u001b[0;34m,\u001b[0m\u001b[0mtargets\u001b[0m\u001b[0;34m,\u001b[0m \u001b[0mtotal_paths\u001b[0m\u001b[0;34m)\u001b[0m\u001b[0;34m\u001b[0m\u001b[0;34m\u001b[0m\u001b[0m\n\u001b[0m\u001b[1;32m     10\u001b[0m     \u001b[0;32mreturn\u001b[0m\u001b[0;34m\u001b[0m\u001b[0;34m\u001b[0m\u001b[0m\n",
      "\u001b[0;32m<ipython-input-91-41c41eddec40>\u001b[0m in \u001b[0;36msearch_adapter_paths\u001b[0;34m(adapters, targets, total_paths)\u001b[0m\n\u001b[1;32m      7\u001b[0m             \u001b[0;32mcontinue\u001b[0m\u001b[0;34m\u001b[0m\u001b[0;34m\u001b[0m\u001b[0m\n\u001b[1;32m      8\u001b[0m \u001b[0;34m\u001b[0m\u001b[0m\n\u001b[0;32m----> 9\u001b[0;31m         \u001b[0msearch_adapter_paths\u001b[0m\u001b[0;34m(\u001b[0m\u001b[0madapters\u001b[0m\u001b[0;34m[\u001b[0m\u001b[0mi\u001b[0m\u001b[0;34m+\u001b[0m\u001b[0;36m1\u001b[0m\u001b[0;34m:\u001b[0m\u001b[0;34m]\u001b[0m\u001b[0;34m,\u001b[0m\u001b[0mtargets\u001b[0m\u001b[0;34m,\u001b[0m \u001b[0mtotal_paths\u001b[0m\u001b[0;34m)\u001b[0m\u001b[0;34m\u001b[0m\u001b[0;34m\u001b[0m\u001b[0m\n\u001b[0m\u001b[1;32m     10\u001b[0m     \u001b[0;32mreturn\u001b[0m\u001b[0;34m\u001b[0m\u001b[0;34m\u001b[0m\u001b[0m\n",
      "\u001b[0;32m<ipython-input-91-41c41eddec40>\u001b[0m in \u001b[0;36msearch_adapter_paths\u001b[0;34m(adapters, targets, total_paths)\u001b[0m\n\u001b[1;32m      7\u001b[0m             \u001b[0;32mcontinue\u001b[0m\u001b[0;34m\u001b[0m\u001b[0;34m\u001b[0m\u001b[0m\n\u001b[1;32m      8\u001b[0m \u001b[0;34m\u001b[0m\u001b[0m\n\u001b[0;32m----> 9\u001b[0;31m         \u001b[0msearch_adapter_paths\u001b[0m\u001b[0;34m(\u001b[0m\u001b[0madapters\u001b[0m\u001b[0;34m[\u001b[0m\u001b[0mi\u001b[0m\u001b[0;34m+\u001b[0m\u001b[0;36m1\u001b[0m\u001b[0;34m:\u001b[0m\u001b[0;34m]\u001b[0m\u001b[0;34m,\u001b[0m\u001b[0mtargets\u001b[0m\u001b[0;34m,\u001b[0m \u001b[0mtotal_paths\u001b[0m\u001b[0;34m)\u001b[0m\u001b[0;34m\u001b[0m\u001b[0;34m\u001b[0m\u001b[0m\n\u001b[0m\u001b[1;32m     10\u001b[0m     \u001b[0;32mreturn\u001b[0m\u001b[0;34m\u001b[0m\u001b[0;34m\u001b[0m\u001b[0m\n",
      "\u001b[0;32m<ipython-input-91-41c41eddec40>\u001b[0m in \u001b[0;36msearch_adapter_paths\u001b[0;34m(adapters, targets, total_paths)\u001b[0m\n\u001b[1;32m      7\u001b[0m             \u001b[0;32mcontinue\u001b[0m\u001b[0;34m\u001b[0m\u001b[0;34m\u001b[0m\u001b[0m\n\u001b[1;32m      8\u001b[0m \u001b[0;34m\u001b[0m\u001b[0m\n\u001b[0;32m----> 9\u001b[0;31m         \u001b[0msearch_adapter_paths\u001b[0m\u001b[0;34m(\u001b[0m\u001b[0madapters\u001b[0m\u001b[0;34m[\u001b[0m\u001b[0mi\u001b[0m\u001b[0;34m+\u001b[0m\u001b[0;36m1\u001b[0m\u001b[0;34m:\u001b[0m\u001b[0;34m]\u001b[0m\u001b[0;34m,\u001b[0m\u001b[0mtargets\u001b[0m\u001b[0;34m,\u001b[0m \u001b[0mtotal_paths\u001b[0m\u001b[0;34m)\u001b[0m\u001b[0;34m\u001b[0m\u001b[0;34m\u001b[0m\u001b[0m\n\u001b[0m\u001b[1;32m     10\u001b[0m     \u001b[0;32mreturn\u001b[0m\u001b[0;34m\u001b[0m\u001b[0;34m\u001b[0m\u001b[0m\n",
      "\u001b[0;32m<ipython-input-91-41c41eddec40>\u001b[0m in \u001b[0;36msearch_adapter_paths\u001b[0;34m(adapters, targets, total_paths)\u001b[0m\n\u001b[1;32m      7\u001b[0m             \u001b[0;32mcontinue\u001b[0m\u001b[0;34m\u001b[0m\u001b[0;34m\u001b[0m\u001b[0m\n\u001b[1;32m      8\u001b[0m \u001b[0;34m\u001b[0m\u001b[0m\n\u001b[0;32m----> 9\u001b[0;31m         \u001b[0msearch_adapter_paths\u001b[0m\u001b[0;34m(\u001b[0m\u001b[0madapters\u001b[0m\u001b[0;34m[\u001b[0m\u001b[0mi\u001b[0m\u001b[0;34m+\u001b[0m\u001b[0;36m1\u001b[0m\u001b[0;34m:\u001b[0m\u001b[0;34m]\u001b[0m\u001b[0;34m,\u001b[0m\u001b[0mtargets\u001b[0m\u001b[0;34m,\u001b[0m \u001b[0mtotal_paths\u001b[0m\u001b[0;34m)\u001b[0m\u001b[0;34m\u001b[0m\u001b[0;34m\u001b[0m\u001b[0m\n\u001b[0m\u001b[1;32m     10\u001b[0m     \u001b[0;32mreturn\u001b[0m\u001b[0;34m\u001b[0m\u001b[0;34m\u001b[0m\u001b[0m\n",
      "\u001b[0;32m<ipython-input-91-41c41eddec40>\u001b[0m in \u001b[0;36msearch_adapter_paths\u001b[0;34m(adapters, targets, total_paths)\u001b[0m\n\u001b[1;32m      7\u001b[0m             \u001b[0;32mcontinue\u001b[0m\u001b[0;34m\u001b[0m\u001b[0;34m\u001b[0m\u001b[0m\n\u001b[1;32m      8\u001b[0m \u001b[0;34m\u001b[0m\u001b[0m\n\u001b[0;32m----> 9\u001b[0;31m         \u001b[0msearch_adapter_paths\u001b[0m\u001b[0;34m(\u001b[0m\u001b[0madapters\u001b[0m\u001b[0;34m[\u001b[0m\u001b[0mi\u001b[0m\u001b[0;34m+\u001b[0m\u001b[0;36m1\u001b[0m\u001b[0;34m:\u001b[0m\u001b[0;34m]\u001b[0m\u001b[0;34m,\u001b[0m\u001b[0mtargets\u001b[0m\u001b[0;34m,\u001b[0m \u001b[0mtotal_paths\u001b[0m\u001b[0;34m)\u001b[0m\u001b[0;34m\u001b[0m\u001b[0;34m\u001b[0m\u001b[0m\n\u001b[0m\u001b[1;32m     10\u001b[0m     \u001b[0;32mreturn\u001b[0m\u001b[0;34m\u001b[0m\u001b[0;34m\u001b[0m\u001b[0m\n",
      "\u001b[0;32m<ipython-input-91-41c41eddec40>\u001b[0m in \u001b[0;36msearch_adapter_paths\u001b[0;34m(adapters, targets, total_paths)\u001b[0m\n\u001b[1;32m      7\u001b[0m             \u001b[0;32mcontinue\u001b[0m\u001b[0;34m\u001b[0m\u001b[0;34m\u001b[0m\u001b[0m\n\u001b[1;32m      8\u001b[0m \u001b[0;34m\u001b[0m\u001b[0m\n\u001b[0;32m----> 9\u001b[0;31m         \u001b[0msearch_adapter_paths\u001b[0m\u001b[0;34m(\u001b[0m\u001b[0madapters\u001b[0m\u001b[0;34m[\u001b[0m\u001b[0mi\u001b[0m\u001b[0;34m+\u001b[0m\u001b[0;36m1\u001b[0m\u001b[0;34m:\u001b[0m\u001b[0;34m]\u001b[0m\u001b[0;34m,\u001b[0m\u001b[0mtargets\u001b[0m\u001b[0;34m,\u001b[0m \u001b[0mtotal_paths\u001b[0m\u001b[0;34m)\u001b[0m\u001b[0;34m\u001b[0m\u001b[0;34m\u001b[0m\u001b[0m\n\u001b[0m\u001b[1;32m     10\u001b[0m     \u001b[0;32mreturn\u001b[0m\u001b[0;34m\u001b[0m\u001b[0;34m\u001b[0m\u001b[0m\n",
      "\u001b[0;32m<ipython-input-91-41c41eddec40>\u001b[0m in \u001b[0;36msearch_adapter_paths\u001b[0;34m(adapters, targets, total_paths)\u001b[0m\n\u001b[1;32m      7\u001b[0m             \u001b[0;32mcontinue\u001b[0m\u001b[0;34m\u001b[0m\u001b[0;34m\u001b[0m\u001b[0m\n\u001b[1;32m      8\u001b[0m \u001b[0;34m\u001b[0m\u001b[0m\n\u001b[0;32m----> 9\u001b[0;31m         \u001b[0msearch_adapter_paths\u001b[0m\u001b[0;34m(\u001b[0m\u001b[0madapters\u001b[0m\u001b[0;34m[\u001b[0m\u001b[0mi\u001b[0m\u001b[0;34m+\u001b[0m\u001b[0;36m1\u001b[0m\u001b[0;34m:\u001b[0m\u001b[0;34m]\u001b[0m\u001b[0;34m,\u001b[0m\u001b[0mtargets\u001b[0m\u001b[0;34m,\u001b[0m \u001b[0mtotal_paths\u001b[0m\u001b[0;34m)\u001b[0m\u001b[0;34m\u001b[0m\u001b[0;34m\u001b[0m\u001b[0m\n\u001b[0m\u001b[1;32m     10\u001b[0m     \u001b[0;32mreturn\u001b[0m\u001b[0;34m\u001b[0m\u001b[0;34m\u001b[0m\u001b[0m\n",
      "\u001b[0;32m<ipython-input-91-41c41eddec40>\u001b[0m in \u001b[0;36msearch_adapter_paths\u001b[0;34m(adapters, targets, total_paths)\u001b[0m\n\u001b[1;32m      7\u001b[0m             \u001b[0;32mcontinue\u001b[0m\u001b[0;34m\u001b[0m\u001b[0;34m\u001b[0m\u001b[0m\n\u001b[1;32m      8\u001b[0m \u001b[0;34m\u001b[0m\u001b[0m\n\u001b[0;32m----> 9\u001b[0;31m         \u001b[0msearch_adapter_paths\u001b[0m\u001b[0;34m(\u001b[0m\u001b[0madapters\u001b[0m\u001b[0;34m[\u001b[0m\u001b[0mi\u001b[0m\u001b[0;34m+\u001b[0m\u001b[0;36m1\u001b[0m\u001b[0;34m:\u001b[0m\u001b[0;34m]\u001b[0m\u001b[0;34m,\u001b[0m\u001b[0mtargets\u001b[0m\u001b[0;34m,\u001b[0m \u001b[0mtotal_paths\u001b[0m\u001b[0;34m)\u001b[0m\u001b[0;34m\u001b[0m\u001b[0;34m\u001b[0m\u001b[0m\n\u001b[0m\u001b[1;32m     10\u001b[0m     \u001b[0;32mreturn\u001b[0m\u001b[0;34m\u001b[0m\u001b[0;34m\u001b[0m\u001b[0m\n",
      "\u001b[0;32m<ipython-input-91-41c41eddec40>\u001b[0m in \u001b[0;36msearch_adapter_paths\u001b[0;34m(adapters, targets, total_paths)\u001b[0m\n\u001b[1;32m      7\u001b[0m             \u001b[0;32mcontinue\u001b[0m\u001b[0;34m\u001b[0m\u001b[0;34m\u001b[0m\u001b[0m\n\u001b[1;32m      8\u001b[0m \u001b[0;34m\u001b[0m\u001b[0m\n\u001b[0;32m----> 9\u001b[0;31m         \u001b[0msearch_adapter_paths\u001b[0m\u001b[0;34m(\u001b[0m\u001b[0madapters\u001b[0m\u001b[0;34m[\u001b[0m\u001b[0mi\u001b[0m\u001b[0;34m+\u001b[0m\u001b[0;36m1\u001b[0m\u001b[0;34m:\u001b[0m\u001b[0;34m]\u001b[0m\u001b[0;34m,\u001b[0m\u001b[0mtargets\u001b[0m\u001b[0;34m,\u001b[0m \u001b[0mtotal_paths\u001b[0m\u001b[0;34m)\u001b[0m\u001b[0;34m\u001b[0m\u001b[0;34m\u001b[0m\u001b[0m\n\u001b[0m\u001b[1;32m     10\u001b[0m     \u001b[0;32mreturn\u001b[0m\u001b[0;34m\u001b[0m\u001b[0;34m\u001b[0m\u001b[0m\n",
      "\u001b[0;32m<ipython-input-91-41c41eddec40>\u001b[0m in \u001b[0;36msearch_adapter_paths\u001b[0;34m(adapters, targets, total_paths)\u001b[0m\n\u001b[1;32m      7\u001b[0m             \u001b[0;32mcontinue\u001b[0m\u001b[0;34m\u001b[0m\u001b[0;34m\u001b[0m\u001b[0m\n\u001b[1;32m      8\u001b[0m \u001b[0;34m\u001b[0m\u001b[0m\n\u001b[0;32m----> 9\u001b[0;31m         \u001b[0msearch_adapter_paths\u001b[0m\u001b[0;34m(\u001b[0m\u001b[0madapters\u001b[0m\u001b[0;34m[\u001b[0m\u001b[0mi\u001b[0m\u001b[0;34m+\u001b[0m\u001b[0;36m1\u001b[0m\u001b[0;34m:\u001b[0m\u001b[0;34m]\u001b[0m\u001b[0;34m,\u001b[0m\u001b[0mtargets\u001b[0m\u001b[0;34m,\u001b[0m \u001b[0mtotal_paths\u001b[0m\u001b[0;34m)\u001b[0m\u001b[0;34m\u001b[0m\u001b[0;34m\u001b[0m\u001b[0m\n\u001b[0m\u001b[1;32m     10\u001b[0m     \u001b[0;32mreturn\u001b[0m\u001b[0;34m\u001b[0m\u001b[0;34m\u001b[0m\u001b[0m\n",
      "\u001b[0;32m<ipython-input-91-41c41eddec40>\u001b[0m in \u001b[0;36msearch_adapter_paths\u001b[0;34m(adapters, targets, total_paths)\u001b[0m\n\u001b[1;32m      7\u001b[0m             \u001b[0;32mcontinue\u001b[0m\u001b[0;34m\u001b[0m\u001b[0;34m\u001b[0m\u001b[0m\n\u001b[1;32m      8\u001b[0m \u001b[0;34m\u001b[0m\u001b[0m\n\u001b[0;32m----> 9\u001b[0;31m         \u001b[0msearch_adapter_paths\u001b[0m\u001b[0;34m(\u001b[0m\u001b[0madapters\u001b[0m\u001b[0;34m[\u001b[0m\u001b[0mi\u001b[0m\u001b[0;34m+\u001b[0m\u001b[0;36m1\u001b[0m\u001b[0;34m:\u001b[0m\u001b[0;34m]\u001b[0m\u001b[0;34m,\u001b[0m\u001b[0mtargets\u001b[0m\u001b[0;34m,\u001b[0m \u001b[0mtotal_paths\u001b[0m\u001b[0;34m)\u001b[0m\u001b[0;34m\u001b[0m\u001b[0;34m\u001b[0m\u001b[0m\n\u001b[0m\u001b[1;32m     10\u001b[0m     \u001b[0;32mreturn\u001b[0m\u001b[0;34m\u001b[0m\u001b[0;34m\u001b[0m\u001b[0m\n",
      "\u001b[0;32m<ipython-input-91-41c41eddec40>\u001b[0m in \u001b[0;36msearch_adapter_paths\u001b[0;34m(adapters, targets, total_paths)\u001b[0m\n\u001b[1;32m      7\u001b[0m             \u001b[0;32mcontinue\u001b[0m\u001b[0;34m\u001b[0m\u001b[0;34m\u001b[0m\u001b[0m\n\u001b[1;32m      8\u001b[0m \u001b[0;34m\u001b[0m\u001b[0m\n\u001b[0;32m----> 9\u001b[0;31m         \u001b[0msearch_adapter_paths\u001b[0m\u001b[0;34m(\u001b[0m\u001b[0madapters\u001b[0m\u001b[0;34m[\u001b[0m\u001b[0mi\u001b[0m\u001b[0;34m+\u001b[0m\u001b[0;36m1\u001b[0m\u001b[0;34m:\u001b[0m\u001b[0;34m]\u001b[0m\u001b[0;34m,\u001b[0m\u001b[0mtargets\u001b[0m\u001b[0;34m,\u001b[0m \u001b[0mtotal_paths\u001b[0m\u001b[0;34m)\u001b[0m\u001b[0;34m\u001b[0m\u001b[0;34m\u001b[0m\u001b[0m\n\u001b[0m\u001b[1;32m     10\u001b[0m     \u001b[0;32mreturn\u001b[0m\u001b[0;34m\u001b[0m\u001b[0;34m\u001b[0m\u001b[0m\n",
      "\u001b[0;32m<ipython-input-91-41c41eddec40>\u001b[0m in \u001b[0;36msearch_adapter_paths\u001b[0;34m(adapters, targets, total_paths)\u001b[0m\n\u001b[1;32m      7\u001b[0m             \u001b[0;32mcontinue\u001b[0m\u001b[0;34m\u001b[0m\u001b[0;34m\u001b[0m\u001b[0m\n\u001b[1;32m      8\u001b[0m \u001b[0;34m\u001b[0m\u001b[0m\n\u001b[0;32m----> 9\u001b[0;31m         \u001b[0msearch_adapter_paths\u001b[0m\u001b[0;34m(\u001b[0m\u001b[0madapters\u001b[0m\u001b[0;34m[\u001b[0m\u001b[0mi\u001b[0m\u001b[0;34m+\u001b[0m\u001b[0;36m1\u001b[0m\u001b[0;34m:\u001b[0m\u001b[0;34m]\u001b[0m\u001b[0;34m,\u001b[0m\u001b[0mtargets\u001b[0m\u001b[0;34m,\u001b[0m \u001b[0mtotal_paths\u001b[0m\u001b[0;34m)\u001b[0m\u001b[0;34m\u001b[0m\u001b[0;34m\u001b[0m\u001b[0m\n\u001b[0m\u001b[1;32m     10\u001b[0m     \u001b[0;32mreturn\u001b[0m\u001b[0;34m\u001b[0m\u001b[0;34m\u001b[0m\u001b[0m\n",
      "\u001b[0;32m<ipython-input-91-41c41eddec40>\u001b[0m in \u001b[0;36msearch_adapter_paths\u001b[0;34m(adapters, targets, total_paths)\u001b[0m\n\u001b[1;32m      7\u001b[0m             \u001b[0;32mcontinue\u001b[0m\u001b[0;34m\u001b[0m\u001b[0;34m\u001b[0m\u001b[0m\n\u001b[1;32m      8\u001b[0m \u001b[0;34m\u001b[0m\u001b[0m\n\u001b[0;32m----> 9\u001b[0;31m         \u001b[0msearch_adapter_paths\u001b[0m\u001b[0;34m(\u001b[0m\u001b[0madapters\u001b[0m\u001b[0;34m[\u001b[0m\u001b[0mi\u001b[0m\u001b[0;34m+\u001b[0m\u001b[0;36m1\u001b[0m\u001b[0;34m:\u001b[0m\u001b[0;34m]\u001b[0m\u001b[0;34m,\u001b[0m\u001b[0mtargets\u001b[0m\u001b[0;34m,\u001b[0m \u001b[0mtotal_paths\u001b[0m\u001b[0;34m)\u001b[0m\u001b[0;34m\u001b[0m\u001b[0;34m\u001b[0m\u001b[0m\n\u001b[0m\u001b[1;32m     10\u001b[0m     \u001b[0;32mreturn\u001b[0m\u001b[0;34m\u001b[0m\u001b[0;34m\u001b[0m\u001b[0m\n",
      "\u001b[0;32m<ipython-input-91-41c41eddec40>\u001b[0m in \u001b[0;36msearch_adapter_paths\u001b[0;34m(adapters, targets, total_paths)\u001b[0m\n\u001b[1;32m      7\u001b[0m             \u001b[0;32mcontinue\u001b[0m\u001b[0;34m\u001b[0m\u001b[0;34m\u001b[0m\u001b[0m\n\u001b[1;32m      8\u001b[0m \u001b[0;34m\u001b[0m\u001b[0m\n\u001b[0;32m----> 9\u001b[0;31m         \u001b[0msearch_adapter_paths\u001b[0m\u001b[0;34m(\u001b[0m\u001b[0madapters\u001b[0m\u001b[0;34m[\u001b[0m\u001b[0mi\u001b[0m\u001b[0;34m+\u001b[0m\u001b[0;36m1\u001b[0m\u001b[0;34m:\u001b[0m\u001b[0;34m]\u001b[0m\u001b[0;34m,\u001b[0m\u001b[0mtargets\u001b[0m\u001b[0;34m,\u001b[0m \u001b[0mtotal_paths\u001b[0m\u001b[0;34m)\u001b[0m\u001b[0;34m\u001b[0m\u001b[0;34m\u001b[0m\u001b[0m\n\u001b[0m\u001b[1;32m     10\u001b[0m     \u001b[0;32mreturn\u001b[0m\u001b[0;34m\u001b[0m\u001b[0;34m\u001b[0m\u001b[0m\n",
      "\u001b[0;32m<ipython-input-91-41c41eddec40>\u001b[0m in \u001b[0;36msearch_adapter_paths\u001b[0;34m(adapters, targets, total_paths)\u001b[0m\n\u001b[1;32m      7\u001b[0m             \u001b[0;32mcontinue\u001b[0m\u001b[0;34m\u001b[0m\u001b[0;34m\u001b[0m\u001b[0m\n\u001b[1;32m      8\u001b[0m \u001b[0;34m\u001b[0m\u001b[0m\n\u001b[0;32m----> 9\u001b[0;31m         \u001b[0msearch_adapter_paths\u001b[0m\u001b[0;34m(\u001b[0m\u001b[0madapters\u001b[0m\u001b[0;34m[\u001b[0m\u001b[0mi\u001b[0m\u001b[0;34m+\u001b[0m\u001b[0;36m1\u001b[0m\u001b[0;34m:\u001b[0m\u001b[0;34m]\u001b[0m\u001b[0;34m,\u001b[0m\u001b[0mtargets\u001b[0m\u001b[0;34m,\u001b[0m \u001b[0mtotal_paths\u001b[0m\u001b[0;34m)\u001b[0m\u001b[0;34m\u001b[0m\u001b[0;34m\u001b[0m\u001b[0m\n\u001b[0m\u001b[1;32m     10\u001b[0m     \u001b[0;32mreturn\u001b[0m\u001b[0;34m\u001b[0m\u001b[0;34m\u001b[0m\u001b[0m\n",
      "\u001b[0;32m<ipython-input-91-41c41eddec40>\u001b[0m in \u001b[0;36msearch_adapter_paths\u001b[0;34m(adapters, targets, total_paths)\u001b[0m\n\u001b[1;32m      7\u001b[0m             \u001b[0;32mcontinue\u001b[0m\u001b[0;34m\u001b[0m\u001b[0;34m\u001b[0m\u001b[0m\n\u001b[1;32m      8\u001b[0m \u001b[0;34m\u001b[0m\u001b[0m\n\u001b[0;32m----> 9\u001b[0;31m         \u001b[0msearch_adapter_paths\u001b[0m\u001b[0;34m(\u001b[0m\u001b[0madapters\u001b[0m\u001b[0;34m[\u001b[0m\u001b[0mi\u001b[0m\u001b[0;34m+\u001b[0m\u001b[0;36m1\u001b[0m\u001b[0;34m:\u001b[0m\u001b[0;34m]\u001b[0m\u001b[0;34m,\u001b[0m\u001b[0mtargets\u001b[0m\u001b[0;34m,\u001b[0m \u001b[0mtotal_paths\u001b[0m\u001b[0;34m)\u001b[0m\u001b[0;34m\u001b[0m\u001b[0;34m\u001b[0m\u001b[0m\n\u001b[0m\u001b[1;32m     10\u001b[0m     \u001b[0;32mreturn\u001b[0m\u001b[0;34m\u001b[0m\u001b[0;34m\u001b[0m\u001b[0m\n",
      "\u001b[0;32m<ipython-input-91-41c41eddec40>\u001b[0m in \u001b[0;36msearch_adapter_paths\u001b[0;34m(adapters, targets, total_paths)\u001b[0m\n\u001b[1;32m      7\u001b[0m             \u001b[0;32mcontinue\u001b[0m\u001b[0;34m\u001b[0m\u001b[0;34m\u001b[0m\u001b[0m\n\u001b[1;32m      8\u001b[0m \u001b[0;34m\u001b[0m\u001b[0m\n\u001b[0;32m----> 9\u001b[0;31m         \u001b[0msearch_adapter_paths\u001b[0m\u001b[0;34m(\u001b[0m\u001b[0madapters\u001b[0m\u001b[0;34m[\u001b[0m\u001b[0mi\u001b[0m\u001b[0;34m+\u001b[0m\u001b[0;36m1\u001b[0m\u001b[0;34m:\u001b[0m\u001b[0;34m]\u001b[0m\u001b[0;34m,\u001b[0m\u001b[0mtargets\u001b[0m\u001b[0;34m,\u001b[0m \u001b[0mtotal_paths\u001b[0m\u001b[0;34m)\u001b[0m\u001b[0;34m\u001b[0m\u001b[0;34m\u001b[0m\u001b[0m\n\u001b[0m\u001b[1;32m     10\u001b[0m     \u001b[0;32mreturn\u001b[0m\u001b[0;34m\u001b[0m\u001b[0;34m\u001b[0m\u001b[0m\n",
      "\u001b[0;32m<ipython-input-91-41c41eddec40>\u001b[0m in \u001b[0;36msearch_adapter_paths\u001b[0;34m(adapters, targets, total_paths)\u001b[0m\n\u001b[1;32m      7\u001b[0m             \u001b[0;32mcontinue\u001b[0m\u001b[0;34m\u001b[0m\u001b[0;34m\u001b[0m\u001b[0m\n\u001b[1;32m      8\u001b[0m \u001b[0;34m\u001b[0m\u001b[0m\n\u001b[0;32m----> 9\u001b[0;31m         \u001b[0msearch_adapter_paths\u001b[0m\u001b[0;34m(\u001b[0m\u001b[0madapters\u001b[0m\u001b[0;34m[\u001b[0m\u001b[0mi\u001b[0m\u001b[0;34m+\u001b[0m\u001b[0;36m1\u001b[0m\u001b[0;34m:\u001b[0m\u001b[0;34m]\u001b[0m\u001b[0;34m,\u001b[0m\u001b[0mtargets\u001b[0m\u001b[0;34m,\u001b[0m \u001b[0mtotal_paths\u001b[0m\u001b[0;34m)\u001b[0m\u001b[0;34m\u001b[0m\u001b[0;34m\u001b[0m\u001b[0m\n\u001b[0m\u001b[1;32m     10\u001b[0m     \u001b[0;32mreturn\u001b[0m\u001b[0;34m\u001b[0m\u001b[0;34m\u001b[0m\u001b[0m\n",
      "\u001b[0;32m<ipython-input-91-41c41eddec40>\u001b[0m in \u001b[0;36msearch_adapter_paths\u001b[0;34m(adapters, targets, total_paths)\u001b[0m\n\u001b[1;32m      7\u001b[0m             \u001b[0;32mcontinue\u001b[0m\u001b[0;34m\u001b[0m\u001b[0;34m\u001b[0m\u001b[0m\n\u001b[1;32m      8\u001b[0m \u001b[0;34m\u001b[0m\u001b[0m\n\u001b[0;32m----> 9\u001b[0;31m         \u001b[0msearch_adapter_paths\u001b[0m\u001b[0;34m(\u001b[0m\u001b[0madapters\u001b[0m\u001b[0;34m[\u001b[0m\u001b[0mi\u001b[0m\u001b[0;34m+\u001b[0m\u001b[0;36m1\u001b[0m\u001b[0;34m:\u001b[0m\u001b[0;34m]\u001b[0m\u001b[0;34m,\u001b[0m\u001b[0mtargets\u001b[0m\u001b[0;34m,\u001b[0m \u001b[0mtotal_paths\u001b[0m\u001b[0;34m)\u001b[0m\u001b[0;34m\u001b[0m\u001b[0;34m\u001b[0m\u001b[0m\n\u001b[0m\u001b[1;32m     10\u001b[0m     \u001b[0;32mreturn\u001b[0m\u001b[0;34m\u001b[0m\u001b[0;34m\u001b[0m\u001b[0m\n",
      "\u001b[0;32m<ipython-input-91-41c41eddec40>\u001b[0m in \u001b[0;36msearch_adapter_paths\u001b[0;34m(adapters, targets, total_paths)\u001b[0m\n\u001b[1;32m      7\u001b[0m             \u001b[0;32mcontinue\u001b[0m\u001b[0;34m\u001b[0m\u001b[0;34m\u001b[0m\u001b[0m\n\u001b[1;32m      8\u001b[0m \u001b[0;34m\u001b[0m\u001b[0m\n\u001b[0;32m----> 9\u001b[0;31m         \u001b[0msearch_adapter_paths\u001b[0m\u001b[0;34m(\u001b[0m\u001b[0madapters\u001b[0m\u001b[0;34m[\u001b[0m\u001b[0mi\u001b[0m\u001b[0;34m+\u001b[0m\u001b[0;36m1\u001b[0m\u001b[0;34m:\u001b[0m\u001b[0;34m]\u001b[0m\u001b[0;34m,\u001b[0m\u001b[0mtargets\u001b[0m\u001b[0;34m,\u001b[0m \u001b[0mtotal_paths\u001b[0m\u001b[0;34m)\u001b[0m\u001b[0;34m\u001b[0m\u001b[0;34m\u001b[0m\u001b[0m\n\u001b[0m\u001b[1;32m     10\u001b[0m     \u001b[0;32mreturn\u001b[0m\u001b[0;34m\u001b[0m\u001b[0;34m\u001b[0m\u001b[0m\n",
      "\u001b[0;32m<ipython-input-91-41c41eddec40>\u001b[0m in \u001b[0;36msearch_adapter_paths\u001b[0;34m(adapters, targets, total_paths)\u001b[0m\n\u001b[1;32m      7\u001b[0m             \u001b[0;32mcontinue\u001b[0m\u001b[0;34m\u001b[0m\u001b[0;34m\u001b[0m\u001b[0m\n\u001b[1;32m      8\u001b[0m \u001b[0;34m\u001b[0m\u001b[0m\n\u001b[0;32m----> 9\u001b[0;31m         \u001b[0msearch_adapter_paths\u001b[0m\u001b[0;34m(\u001b[0m\u001b[0madapters\u001b[0m\u001b[0;34m[\u001b[0m\u001b[0mi\u001b[0m\u001b[0;34m+\u001b[0m\u001b[0;36m1\u001b[0m\u001b[0;34m:\u001b[0m\u001b[0;34m]\u001b[0m\u001b[0;34m,\u001b[0m\u001b[0mtargets\u001b[0m\u001b[0;34m,\u001b[0m \u001b[0mtotal_paths\u001b[0m\u001b[0;34m)\u001b[0m\u001b[0;34m\u001b[0m\u001b[0;34m\u001b[0m\u001b[0m\n\u001b[0m\u001b[1;32m     10\u001b[0m     \u001b[0;32mreturn\u001b[0m\u001b[0;34m\u001b[0m\u001b[0;34m\u001b[0m\u001b[0m\n",
      "\u001b[0;32m<ipython-input-91-41c41eddec40>\u001b[0m in \u001b[0;36msearch_adapter_paths\u001b[0;34m(adapters, targets, total_paths)\u001b[0m\n\u001b[1;32m      7\u001b[0m             \u001b[0;32mcontinue\u001b[0m\u001b[0;34m\u001b[0m\u001b[0;34m\u001b[0m\u001b[0m\n\u001b[1;32m      8\u001b[0m \u001b[0;34m\u001b[0m\u001b[0m\n\u001b[0;32m----> 9\u001b[0;31m         \u001b[0msearch_adapter_paths\u001b[0m\u001b[0;34m(\u001b[0m\u001b[0madapters\u001b[0m\u001b[0;34m[\u001b[0m\u001b[0mi\u001b[0m\u001b[0;34m+\u001b[0m\u001b[0;36m1\u001b[0m\u001b[0;34m:\u001b[0m\u001b[0;34m]\u001b[0m\u001b[0;34m,\u001b[0m\u001b[0mtargets\u001b[0m\u001b[0;34m,\u001b[0m \u001b[0mtotal_paths\u001b[0m\u001b[0;34m)\u001b[0m\u001b[0;34m\u001b[0m\u001b[0;34m\u001b[0m\u001b[0m\n\u001b[0m\u001b[1;32m     10\u001b[0m     \u001b[0;32mreturn\u001b[0m\u001b[0;34m\u001b[0m\u001b[0;34m\u001b[0m\u001b[0m\n",
      "\u001b[0;32m<ipython-input-91-41c41eddec40>\u001b[0m in \u001b[0;36msearch_adapter_paths\u001b[0;34m(adapters, targets, total_paths)\u001b[0m\n\u001b[1;32m      7\u001b[0m             \u001b[0;32mcontinue\u001b[0m\u001b[0;34m\u001b[0m\u001b[0;34m\u001b[0m\u001b[0m\n\u001b[1;32m      8\u001b[0m \u001b[0;34m\u001b[0m\u001b[0m\n\u001b[0;32m----> 9\u001b[0;31m         \u001b[0msearch_adapter_paths\u001b[0m\u001b[0;34m(\u001b[0m\u001b[0madapters\u001b[0m\u001b[0;34m[\u001b[0m\u001b[0mi\u001b[0m\u001b[0;34m+\u001b[0m\u001b[0;36m1\u001b[0m\u001b[0;34m:\u001b[0m\u001b[0;34m]\u001b[0m\u001b[0;34m,\u001b[0m\u001b[0mtargets\u001b[0m\u001b[0;34m,\u001b[0m \u001b[0mtotal_paths\u001b[0m\u001b[0;34m)\u001b[0m\u001b[0;34m\u001b[0m\u001b[0;34m\u001b[0m\u001b[0m\n\u001b[0m\u001b[1;32m     10\u001b[0m     \u001b[0;32mreturn\u001b[0m\u001b[0;34m\u001b[0m\u001b[0;34m\u001b[0m\u001b[0m\n",
      "\u001b[0;32m<ipython-input-91-41c41eddec40>\u001b[0m in \u001b[0;36msearch_adapter_paths\u001b[0;34m(adapters, targets, total_paths)\u001b[0m\n\u001b[1;32m      7\u001b[0m             \u001b[0;32mcontinue\u001b[0m\u001b[0;34m\u001b[0m\u001b[0;34m\u001b[0m\u001b[0m\n\u001b[1;32m      8\u001b[0m \u001b[0;34m\u001b[0m\u001b[0m\n\u001b[0;32m----> 9\u001b[0;31m         \u001b[0msearch_adapter_paths\u001b[0m\u001b[0;34m(\u001b[0m\u001b[0madapters\u001b[0m\u001b[0;34m[\u001b[0m\u001b[0mi\u001b[0m\u001b[0;34m+\u001b[0m\u001b[0;36m1\u001b[0m\u001b[0;34m:\u001b[0m\u001b[0;34m]\u001b[0m\u001b[0;34m,\u001b[0m\u001b[0mtargets\u001b[0m\u001b[0;34m,\u001b[0m \u001b[0mtotal_paths\u001b[0m\u001b[0;34m)\u001b[0m\u001b[0;34m\u001b[0m\u001b[0;34m\u001b[0m\u001b[0m\n\u001b[0m\u001b[1;32m     10\u001b[0m     \u001b[0;32mreturn\u001b[0m\u001b[0;34m\u001b[0m\u001b[0;34m\u001b[0m\u001b[0m\n",
      "\u001b[0;32m<ipython-input-91-41c41eddec40>\u001b[0m in \u001b[0;36msearch_adapter_paths\u001b[0;34m(adapters, targets, total_paths)\u001b[0m\n\u001b[1;32m      7\u001b[0m             \u001b[0;32mcontinue\u001b[0m\u001b[0;34m\u001b[0m\u001b[0;34m\u001b[0m\u001b[0m\n\u001b[1;32m      8\u001b[0m \u001b[0;34m\u001b[0m\u001b[0m\n\u001b[0;32m----> 9\u001b[0;31m         \u001b[0msearch_adapter_paths\u001b[0m\u001b[0;34m(\u001b[0m\u001b[0madapters\u001b[0m\u001b[0;34m[\u001b[0m\u001b[0mi\u001b[0m\u001b[0;34m+\u001b[0m\u001b[0;36m1\u001b[0m\u001b[0;34m:\u001b[0m\u001b[0;34m]\u001b[0m\u001b[0;34m,\u001b[0m\u001b[0mtargets\u001b[0m\u001b[0;34m,\u001b[0m \u001b[0mtotal_paths\u001b[0m\u001b[0;34m)\u001b[0m\u001b[0;34m\u001b[0m\u001b[0;34m\u001b[0m\u001b[0m\n\u001b[0m\u001b[1;32m     10\u001b[0m     \u001b[0;32mreturn\u001b[0m\u001b[0;34m\u001b[0m\u001b[0;34m\u001b[0m\u001b[0m\n",
      "\u001b[0;32m<ipython-input-91-41c41eddec40>\u001b[0m in \u001b[0;36msearch_adapter_paths\u001b[0;34m(adapters, targets, total_paths)\u001b[0m\n\u001b[1;32m      7\u001b[0m             \u001b[0;32mcontinue\u001b[0m\u001b[0;34m\u001b[0m\u001b[0;34m\u001b[0m\u001b[0m\n\u001b[1;32m      8\u001b[0m \u001b[0;34m\u001b[0m\u001b[0m\n\u001b[0;32m----> 9\u001b[0;31m         \u001b[0msearch_adapter_paths\u001b[0m\u001b[0;34m(\u001b[0m\u001b[0madapters\u001b[0m\u001b[0;34m[\u001b[0m\u001b[0mi\u001b[0m\u001b[0;34m+\u001b[0m\u001b[0;36m1\u001b[0m\u001b[0;34m:\u001b[0m\u001b[0;34m]\u001b[0m\u001b[0;34m,\u001b[0m\u001b[0mtargets\u001b[0m\u001b[0;34m,\u001b[0m \u001b[0mtotal_paths\u001b[0m\u001b[0;34m)\u001b[0m\u001b[0;34m\u001b[0m\u001b[0;34m\u001b[0m\u001b[0m\n\u001b[0m\u001b[1;32m     10\u001b[0m     \u001b[0;32mreturn\u001b[0m\u001b[0;34m\u001b[0m\u001b[0;34m\u001b[0m\u001b[0m\n",
      "\u001b[0;32m<ipython-input-91-41c41eddec40>\u001b[0m in \u001b[0;36msearch_adapter_paths\u001b[0;34m(adapters, targets, total_paths)\u001b[0m\n\u001b[1;32m      7\u001b[0m             \u001b[0;32mcontinue\u001b[0m\u001b[0;34m\u001b[0m\u001b[0;34m\u001b[0m\u001b[0m\n\u001b[1;32m      8\u001b[0m \u001b[0;34m\u001b[0m\u001b[0m\n\u001b[0;32m----> 9\u001b[0;31m         \u001b[0msearch_adapter_paths\u001b[0m\u001b[0;34m(\u001b[0m\u001b[0madapters\u001b[0m\u001b[0;34m[\u001b[0m\u001b[0mi\u001b[0m\u001b[0;34m+\u001b[0m\u001b[0;36m1\u001b[0m\u001b[0;34m:\u001b[0m\u001b[0;34m]\u001b[0m\u001b[0;34m,\u001b[0m\u001b[0mtargets\u001b[0m\u001b[0;34m,\u001b[0m \u001b[0mtotal_paths\u001b[0m\u001b[0;34m)\u001b[0m\u001b[0;34m\u001b[0m\u001b[0;34m\u001b[0m\u001b[0m\n\u001b[0m\u001b[1;32m     10\u001b[0m     \u001b[0;32mreturn\u001b[0m\u001b[0;34m\u001b[0m\u001b[0;34m\u001b[0m\u001b[0m\n",
      "\u001b[0;32m<ipython-input-91-41c41eddec40>\u001b[0m in \u001b[0;36msearch_adapter_paths\u001b[0;34m(adapters, targets, total_paths)\u001b[0m\n\u001b[1;32m      7\u001b[0m             \u001b[0;32mcontinue\u001b[0m\u001b[0;34m\u001b[0m\u001b[0;34m\u001b[0m\u001b[0m\n\u001b[1;32m      8\u001b[0m \u001b[0;34m\u001b[0m\u001b[0m\n\u001b[0;32m----> 9\u001b[0;31m         \u001b[0msearch_adapter_paths\u001b[0m\u001b[0;34m(\u001b[0m\u001b[0madapters\u001b[0m\u001b[0;34m[\u001b[0m\u001b[0mi\u001b[0m\u001b[0;34m+\u001b[0m\u001b[0;36m1\u001b[0m\u001b[0;34m:\u001b[0m\u001b[0;34m]\u001b[0m\u001b[0;34m,\u001b[0m\u001b[0mtargets\u001b[0m\u001b[0;34m,\u001b[0m \u001b[0mtotal_paths\u001b[0m\u001b[0;34m)\u001b[0m\u001b[0;34m\u001b[0m\u001b[0;34m\u001b[0m\u001b[0m\n\u001b[0m\u001b[1;32m     10\u001b[0m     \u001b[0;32mreturn\u001b[0m\u001b[0;34m\u001b[0m\u001b[0;34m\u001b[0m\u001b[0m\n",
      "\u001b[0;32m<ipython-input-91-41c41eddec40>\u001b[0m in \u001b[0;36msearch_adapter_paths\u001b[0;34m(adapters, targets, total_paths)\u001b[0m\n\u001b[1;32m      7\u001b[0m             \u001b[0;32mcontinue\u001b[0m\u001b[0;34m\u001b[0m\u001b[0;34m\u001b[0m\u001b[0m\n\u001b[1;32m      8\u001b[0m \u001b[0;34m\u001b[0m\u001b[0m\n\u001b[0;32m----> 9\u001b[0;31m         \u001b[0msearch_adapter_paths\u001b[0m\u001b[0;34m(\u001b[0m\u001b[0madapters\u001b[0m\u001b[0;34m[\u001b[0m\u001b[0mi\u001b[0m\u001b[0;34m+\u001b[0m\u001b[0;36m1\u001b[0m\u001b[0;34m:\u001b[0m\u001b[0;34m]\u001b[0m\u001b[0;34m,\u001b[0m\u001b[0mtargets\u001b[0m\u001b[0;34m,\u001b[0m \u001b[0mtotal_paths\u001b[0m\u001b[0;34m)\u001b[0m\u001b[0;34m\u001b[0m\u001b[0;34m\u001b[0m\u001b[0m\n\u001b[0m\u001b[1;32m     10\u001b[0m     \u001b[0;32mreturn\u001b[0m\u001b[0;34m\u001b[0m\u001b[0;34m\u001b[0m\u001b[0m\n",
      "\u001b[0;32m<ipython-input-91-41c41eddec40>\u001b[0m in \u001b[0;36msearch_adapter_paths\u001b[0;34m(adapters, targets, total_paths)\u001b[0m\n\u001b[1;32m      7\u001b[0m             \u001b[0;32mcontinue\u001b[0m\u001b[0;34m\u001b[0m\u001b[0;34m\u001b[0m\u001b[0m\n\u001b[1;32m      8\u001b[0m \u001b[0;34m\u001b[0m\u001b[0m\n\u001b[0;32m----> 9\u001b[0;31m         \u001b[0msearch_adapter_paths\u001b[0m\u001b[0;34m(\u001b[0m\u001b[0madapters\u001b[0m\u001b[0;34m[\u001b[0m\u001b[0mi\u001b[0m\u001b[0;34m+\u001b[0m\u001b[0;36m1\u001b[0m\u001b[0;34m:\u001b[0m\u001b[0;34m]\u001b[0m\u001b[0;34m,\u001b[0m\u001b[0mtargets\u001b[0m\u001b[0;34m,\u001b[0m \u001b[0mtotal_paths\u001b[0m\u001b[0;34m)\u001b[0m\u001b[0;34m\u001b[0m\u001b[0;34m\u001b[0m\u001b[0m\n\u001b[0m\u001b[1;32m     10\u001b[0m     \u001b[0;32mreturn\u001b[0m\u001b[0;34m\u001b[0m\u001b[0;34m\u001b[0m\u001b[0m\n",
      "\u001b[0;32m<ipython-input-91-41c41eddec40>\u001b[0m in \u001b[0;36msearch_adapter_paths\u001b[0;34m(adapters, targets, total_paths)\u001b[0m\n\u001b[1;32m      7\u001b[0m             \u001b[0;32mcontinue\u001b[0m\u001b[0;34m\u001b[0m\u001b[0;34m\u001b[0m\u001b[0m\n\u001b[1;32m      8\u001b[0m \u001b[0;34m\u001b[0m\u001b[0m\n\u001b[0;32m----> 9\u001b[0;31m         \u001b[0msearch_adapter_paths\u001b[0m\u001b[0;34m(\u001b[0m\u001b[0madapters\u001b[0m\u001b[0;34m[\u001b[0m\u001b[0mi\u001b[0m\u001b[0;34m+\u001b[0m\u001b[0;36m1\u001b[0m\u001b[0;34m:\u001b[0m\u001b[0;34m]\u001b[0m\u001b[0;34m,\u001b[0m\u001b[0mtargets\u001b[0m\u001b[0;34m,\u001b[0m \u001b[0mtotal_paths\u001b[0m\u001b[0;34m)\u001b[0m\u001b[0;34m\u001b[0m\u001b[0;34m\u001b[0m\u001b[0m\n\u001b[0m\u001b[1;32m     10\u001b[0m     \u001b[0;32mreturn\u001b[0m\u001b[0;34m\u001b[0m\u001b[0;34m\u001b[0m\u001b[0m\n",
      "\u001b[0;32m<ipython-input-91-41c41eddec40>\u001b[0m in \u001b[0;36msearch_adapter_paths\u001b[0;34m(adapters, targets, total_paths)\u001b[0m\n\u001b[1;32m      7\u001b[0m             \u001b[0;32mcontinue\u001b[0m\u001b[0;34m\u001b[0m\u001b[0;34m\u001b[0m\u001b[0m\n\u001b[1;32m      8\u001b[0m \u001b[0;34m\u001b[0m\u001b[0m\n\u001b[0;32m----> 9\u001b[0;31m         \u001b[0msearch_adapter_paths\u001b[0m\u001b[0;34m(\u001b[0m\u001b[0madapters\u001b[0m\u001b[0;34m[\u001b[0m\u001b[0mi\u001b[0m\u001b[0;34m+\u001b[0m\u001b[0;36m1\u001b[0m\u001b[0;34m:\u001b[0m\u001b[0;34m]\u001b[0m\u001b[0;34m,\u001b[0m\u001b[0mtargets\u001b[0m\u001b[0;34m,\u001b[0m \u001b[0mtotal_paths\u001b[0m\u001b[0;34m)\u001b[0m\u001b[0;34m\u001b[0m\u001b[0;34m\u001b[0m\u001b[0m\n\u001b[0m\u001b[1;32m     10\u001b[0m     \u001b[0;32mreturn\u001b[0m\u001b[0;34m\u001b[0m\u001b[0;34m\u001b[0m\u001b[0m\n",
      "\u001b[0;32m<ipython-input-91-41c41eddec40>\u001b[0m in \u001b[0;36msearch_adapter_paths\u001b[0;34m(adapters, targets, total_paths)\u001b[0m\n\u001b[1;32m      7\u001b[0m             \u001b[0;32mcontinue\u001b[0m\u001b[0;34m\u001b[0m\u001b[0;34m\u001b[0m\u001b[0m\n\u001b[1;32m      8\u001b[0m \u001b[0;34m\u001b[0m\u001b[0m\n\u001b[0;32m----> 9\u001b[0;31m         \u001b[0msearch_adapter_paths\u001b[0m\u001b[0;34m(\u001b[0m\u001b[0madapters\u001b[0m\u001b[0;34m[\u001b[0m\u001b[0mi\u001b[0m\u001b[0;34m+\u001b[0m\u001b[0;36m1\u001b[0m\u001b[0;34m:\u001b[0m\u001b[0;34m]\u001b[0m\u001b[0;34m,\u001b[0m\u001b[0mtargets\u001b[0m\u001b[0;34m,\u001b[0m \u001b[0mtotal_paths\u001b[0m\u001b[0;34m)\u001b[0m\u001b[0;34m\u001b[0m\u001b[0;34m\u001b[0m\u001b[0m\n\u001b[0m\u001b[1;32m     10\u001b[0m     \u001b[0;32mreturn\u001b[0m\u001b[0;34m\u001b[0m\u001b[0;34m\u001b[0m\u001b[0m\n",
      "\u001b[0;32m<ipython-input-91-41c41eddec40>\u001b[0m in \u001b[0;36msearch_adapter_paths\u001b[0;34m(adapters, targets, total_paths)\u001b[0m\n\u001b[1;32m      7\u001b[0m             \u001b[0;32mcontinue\u001b[0m\u001b[0;34m\u001b[0m\u001b[0;34m\u001b[0m\u001b[0m\n\u001b[1;32m      8\u001b[0m \u001b[0;34m\u001b[0m\u001b[0m\n\u001b[0;32m----> 9\u001b[0;31m         \u001b[0msearch_adapter_paths\u001b[0m\u001b[0;34m(\u001b[0m\u001b[0madapters\u001b[0m\u001b[0;34m[\u001b[0m\u001b[0mi\u001b[0m\u001b[0;34m+\u001b[0m\u001b[0;36m1\u001b[0m\u001b[0;34m:\u001b[0m\u001b[0;34m]\u001b[0m\u001b[0;34m,\u001b[0m\u001b[0mtargets\u001b[0m\u001b[0;34m,\u001b[0m \u001b[0mtotal_paths\u001b[0m\u001b[0;34m)\u001b[0m\u001b[0;34m\u001b[0m\u001b[0;34m\u001b[0m\u001b[0m\n\u001b[0m\u001b[1;32m     10\u001b[0m     \u001b[0;32mreturn\u001b[0m\u001b[0;34m\u001b[0m\u001b[0;34m\u001b[0m\u001b[0m\n",
      "\u001b[0;32m<ipython-input-91-41c41eddec40>\u001b[0m in \u001b[0;36msearch_adapter_paths\u001b[0;34m(adapters, targets, total_paths)\u001b[0m\n\u001b[1;32m      7\u001b[0m             \u001b[0;32mcontinue\u001b[0m\u001b[0;34m\u001b[0m\u001b[0;34m\u001b[0m\u001b[0m\n\u001b[1;32m      8\u001b[0m \u001b[0;34m\u001b[0m\u001b[0m\n\u001b[0;32m----> 9\u001b[0;31m         \u001b[0msearch_adapter_paths\u001b[0m\u001b[0;34m(\u001b[0m\u001b[0madapters\u001b[0m\u001b[0;34m[\u001b[0m\u001b[0mi\u001b[0m\u001b[0;34m+\u001b[0m\u001b[0;36m1\u001b[0m\u001b[0;34m:\u001b[0m\u001b[0;34m]\u001b[0m\u001b[0;34m,\u001b[0m\u001b[0mtargets\u001b[0m\u001b[0;34m,\u001b[0m \u001b[0mtotal_paths\u001b[0m\u001b[0;34m)\u001b[0m\u001b[0;34m\u001b[0m\u001b[0;34m\u001b[0m\u001b[0m\n\u001b[0m\u001b[1;32m     10\u001b[0m     \u001b[0;32mreturn\u001b[0m\u001b[0;34m\u001b[0m\u001b[0;34m\u001b[0m\u001b[0m\n",
      "\u001b[0;32m<ipython-input-91-41c41eddec40>\u001b[0m in \u001b[0;36msearch_adapter_paths\u001b[0;34m(adapters, targets, total_paths)\u001b[0m\n\u001b[1;32m      7\u001b[0m             \u001b[0;32mcontinue\u001b[0m\u001b[0;34m\u001b[0m\u001b[0;34m\u001b[0m\u001b[0m\n\u001b[1;32m      8\u001b[0m \u001b[0;34m\u001b[0m\u001b[0m\n\u001b[0;32m----> 9\u001b[0;31m         \u001b[0msearch_adapter_paths\u001b[0m\u001b[0;34m(\u001b[0m\u001b[0madapters\u001b[0m\u001b[0;34m[\u001b[0m\u001b[0mi\u001b[0m\u001b[0;34m+\u001b[0m\u001b[0;36m1\u001b[0m\u001b[0;34m:\u001b[0m\u001b[0;34m]\u001b[0m\u001b[0;34m,\u001b[0m\u001b[0mtargets\u001b[0m\u001b[0;34m,\u001b[0m \u001b[0mtotal_paths\u001b[0m\u001b[0;34m)\u001b[0m\u001b[0;34m\u001b[0m\u001b[0;34m\u001b[0m\u001b[0m\n\u001b[0m\u001b[1;32m     10\u001b[0m     \u001b[0;32mreturn\u001b[0m\u001b[0;34m\u001b[0m\u001b[0;34m\u001b[0m\u001b[0m\n",
      "\u001b[0;32m<ipython-input-91-41c41eddec40>\u001b[0m in \u001b[0;36msearch_adapter_paths\u001b[0;34m(adapters, targets, total_paths)\u001b[0m\n\u001b[1;32m      7\u001b[0m             \u001b[0;32mcontinue\u001b[0m\u001b[0;34m\u001b[0m\u001b[0;34m\u001b[0m\u001b[0m\n\u001b[1;32m      8\u001b[0m \u001b[0;34m\u001b[0m\u001b[0m\n\u001b[0;32m----> 9\u001b[0;31m         \u001b[0msearch_adapter_paths\u001b[0m\u001b[0;34m(\u001b[0m\u001b[0madapters\u001b[0m\u001b[0;34m[\u001b[0m\u001b[0mi\u001b[0m\u001b[0;34m+\u001b[0m\u001b[0;36m1\u001b[0m\u001b[0;34m:\u001b[0m\u001b[0;34m]\u001b[0m\u001b[0;34m,\u001b[0m\u001b[0mtargets\u001b[0m\u001b[0;34m,\u001b[0m \u001b[0mtotal_paths\u001b[0m\u001b[0;34m)\u001b[0m\u001b[0;34m\u001b[0m\u001b[0;34m\u001b[0m\u001b[0m\n\u001b[0m\u001b[1;32m     10\u001b[0m     \u001b[0;32mreturn\u001b[0m\u001b[0;34m\u001b[0m\u001b[0;34m\u001b[0m\u001b[0m\n",
      "\u001b[0;32m<ipython-input-91-41c41eddec40>\u001b[0m in \u001b[0;36msearch_adapter_paths\u001b[0;34m(adapters, targets, total_paths)\u001b[0m\n\u001b[1;32m      7\u001b[0m             \u001b[0;32mcontinue\u001b[0m\u001b[0;34m\u001b[0m\u001b[0;34m\u001b[0m\u001b[0m\n\u001b[1;32m      8\u001b[0m \u001b[0;34m\u001b[0m\u001b[0m\n\u001b[0;32m----> 9\u001b[0;31m         \u001b[0msearch_adapter_paths\u001b[0m\u001b[0;34m(\u001b[0m\u001b[0madapters\u001b[0m\u001b[0;34m[\u001b[0m\u001b[0mi\u001b[0m\u001b[0;34m+\u001b[0m\u001b[0;36m1\u001b[0m\u001b[0;34m:\u001b[0m\u001b[0;34m]\u001b[0m\u001b[0;34m,\u001b[0m\u001b[0mtargets\u001b[0m\u001b[0;34m,\u001b[0m \u001b[0mtotal_paths\u001b[0m\u001b[0;34m)\u001b[0m\u001b[0;34m\u001b[0m\u001b[0;34m\u001b[0m\u001b[0m\n\u001b[0m\u001b[1;32m     10\u001b[0m     \u001b[0;32mreturn\u001b[0m\u001b[0;34m\u001b[0m\u001b[0;34m\u001b[0m\u001b[0m\n",
      "\u001b[0;32m<ipython-input-91-41c41eddec40>\u001b[0m in \u001b[0;36msearch_adapter_paths\u001b[0;34m(adapters, targets, total_paths)\u001b[0m\n\u001b[1;32m      7\u001b[0m             \u001b[0;32mcontinue\u001b[0m\u001b[0;34m\u001b[0m\u001b[0;34m\u001b[0m\u001b[0m\n\u001b[1;32m      8\u001b[0m \u001b[0;34m\u001b[0m\u001b[0m\n\u001b[0;32m----> 9\u001b[0;31m         \u001b[0msearch_adapter_paths\u001b[0m\u001b[0;34m(\u001b[0m\u001b[0madapters\u001b[0m\u001b[0;34m[\u001b[0m\u001b[0mi\u001b[0m\u001b[0;34m+\u001b[0m\u001b[0;36m1\u001b[0m\u001b[0;34m:\u001b[0m\u001b[0;34m]\u001b[0m\u001b[0;34m,\u001b[0m\u001b[0mtargets\u001b[0m\u001b[0;34m,\u001b[0m \u001b[0mtotal_paths\u001b[0m\u001b[0;34m)\u001b[0m\u001b[0;34m\u001b[0m\u001b[0;34m\u001b[0m\u001b[0m\n\u001b[0m\u001b[1;32m     10\u001b[0m     \u001b[0;32mreturn\u001b[0m\u001b[0;34m\u001b[0m\u001b[0;34m\u001b[0m\u001b[0m\n",
      "\u001b[0;32m<ipython-input-91-41c41eddec40>\u001b[0m in \u001b[0;36msearch_adapter_paths\u001b[0;34m(adapters, targets, total_paths)\u001b[0m\n\u001b[1;32m      7\u001b[0m             \u001b[0;32mcontinue\u001b[0m\u001b[0;34m\u001b[0m\u001b[0;34m\u001b[0m\u001b[0m\n\u001b[1;32m      8\u001b[0m \u001b[0;34m\u001b[0m\u001b[0m\n\u001b[0;32m----> 9\u001b[0;31m         \u001b[0msearch_adapter_paths\u001b[0m\u001b[0;34m(\u001b[0m\u001b[0madapters\u001b[0m\u001b[0;34m[\u001b[0m\u001b[0mi\u001b[0m\u001b[0;34m+\u001b[0m\u001b[0;36m1\u001b[0m\u001b[0;34m:\u001b[0m\u001b[0;34m]\u001b[0m\u001b[0;34m,\u001b[0m\u001b[0mtargets\u001b[0m\u001b[0;34m,\u001b[0m \u001b[0mtotal_paths\u001b[0m\u001b[0;34m)\u001b[0m\u001b[0;34m\u001b[0m\u001b[0;34m\u001b[0m\u001b[0m\n\u001b[0m\u001b[1;32m     10\u001b[0m     \u001b[0;32mreturn\u001b[0m\u001b[0;34m\u001b[0m\u001b[0;34m\u001b[0m\u001b[0m\n",
      "\u001b[0;32m<ipython-input-91-41c41eddec40>\u001b[0m in \u001b[0;36msearch_adapter_paths\u001b[0;34m(adapters, targets, total_paths)\u001b[0m\n\u001b[1;32m      7\u001b[0m             \u001b[0;32mcontinue\u001b[0m\u001b[0;34m\u001b[0m\u001b[0;34m\u001b[0m\u001b[0m\n\u001b[1;32m      8\u001b[0m \u001b[0;34m\u001b[0m\u001b[0m\n\u001b[0;32m----> 9\u001b[0;31m         \u001b[0msearch_adapter_paths\u001b[0m\u001b[0;34m(\u001b[0m\u001b[0madapters\u001b[0m\u001b[0;34m[\u001b[0m\u001b[0mi\u001b[0m\u001b[0;34m+\u001b[0m\u001b[0;36m1\u001b[0m\u001b[0;34m:\u001b[0m\u001b[0;34m]\u001b[0m\u001b[0;34m,\u001b[0m\u001b[0mtargets\u001b[0m\u001b[0;34m,\u001b[0m \u001b[0mtotal_paths\u001b[0m\u001b[0;34m)\u001b[0m\u001b[0;34m\u001b[0m\u001b[0;34m\u001b[0m\u001b[0m\n\u001b[0m\u001b[1;32m     10\u001b[0m     \u001b[0;32mreturn\u001b[0m\u001b[0;34m\u001b[0m\u001b[0;34m\u001b[0m\u001b[0m\n",
      "\u001b[0;32m<ipython-input-91-41c41eddec40>\u001b[0m in \u001b[0;36msearch_adapter_paths\u001b[0;34m(adapters, targets, total_paths)\u001b[0m\n\u001b[1;32m      7\u001b[0m             \u001b[0;32mcontinue\u001b[0m\u001b[0;34m\u001b[0m\u001b[0;34m\u001b[0m\u001b[0m\n\u001b[1;32m      8\u001b[0m \u001b[0;34m\u001b[0m\u001b[0m\n\u001b[0;32m----> 9\u001b[0;31m         \u001b[0msearch_adapter_paths\u001b[0m\u001b[0;34m(\u001b[0m\u001b[0madapters\u001b[0m\u001b[0;34m[\u001b[0m\u001b[0mi\u001b[0m\u001b[0;34m+\u001b[0m\u001b[0;36m1\u001b[0m\u001b[0;34m:\u001b[0m\u001b[0;34m]\u001b[0m\u001b[0;34m,\u001b[0m\u001b[0mtargets\u001b[0m\u001b[0;34m,\u001b[0m \u001b[0mtotal_paths\u001b[0m\u001b[0;34m)\u001b[0m\u001b[0;34m\u001b[0m\u001b[0;34m\u001b[0m\u001b[0m\n\u001b[0m\u001b[1;32m     10\u001b[0m     \u001b[0;32mreturn\u001b[0m\u001b[0;34m\u001b[0m\u001b[0;34m\u001b[0m\u001b[0m\n",
      "\u001b[0;32m<ipython-input-91-41c41eddec40>\u001b[0m in \u001b[0;36msearch_adapter_paths\u001b[0;34m(adapters, targets, total_paths)\u001b[0m\n\u001b[1;32m      7\u001b[0m             \u001b[0;32mcontinue\u001b[0m\u001b[0;34m\u001b[0m\u001b[0;34m\u001b[0m\u001b[0m\n\u001b[1;32m      8\u001b[0m \u001b[0;34m\u001b[0m\u001b[0m\n\u001b[0;32m----> 9\u001b[0;31m         \u001b[0msearch_adapter_paths\u001b[0m\u001b[0;34m(\u001b[0m\u001b[0madapters\u001b[0m\u001b[0;34m[\u001b[0m\u001b[0mi\u001b[0m\u001b[0;34m+\u001b[0m\u001b[0;36m1\u001b[0m\u001b[0;34m:\u001b[0m\u001b[0;34m]\u001b[0m\u001b[0;34m,\u001b[0m\u001b[0mtargets\u001b[0m\u001b[0;34m,\u001b[0m \u001b[0mtotal_paths\u001b[0m\u001b[0;34m)\u001b[0m\u001b[0;34m\u001b[0m\u001b[0;34m\u001b[0m\u001b[0m\n\u001b[0m\u001b[1;32m     10\u001b[0m     \u001b[0;32mreturn\u001b[0m\u001b[0;34m\u001b[0m\u001b[0;34m\u001b[0m\u001b[0m\n",
      "\u001b[0;32m<ipython-input-91-41c41eddec40>\u001b[0m in \u001b[0;36msearch_adapter_paths\u001b[0;34m(adapters, targets, total_paths)\u001b[0m\n\u001b[1;32m      7\u001b[0m             \u001b[0;32mcontinue\u001b[0m\u001b[0;34m\u001b[0m\u001b[0;34m\u001b[0m\u001b[0m\n\u001b[1;32m      8\u001b[0m \u001b[0;34m\u001b[0m\u001b[0m\n\u001b[0;32m----> 9\u001b[0;31m         \u001b[0msearch_adapter_paths\u001b[0m\u001b[0;34m(\u001b[0m\u001b[0madapters\u001b[0m\u001b[0;34m[\u001b[0m\u001b[0mi\u001b[0m\u001b[0;34m+\u001b[0m\u001b[0;36m1\u001b[0m\u001b[0;34m:\u001b[0m\u001b[0;34m]\u001b[0m\u001b[0;34m,\u001b[0m\u001b[0mtargets\u001b[0m\u001b[0;34m,\u001b[0m \u001b[0mtotal_paths\u001b[0m\u001b[0;34m)\u001b[0m\u001b[0;34m\u001b[0m\u001b[0;34m\u001b[0m\u001b[0m\n\u001b[0m\u001b[1;32m     10\u001b[0m     \u001b[0;32mreturn\u001b[0m\u001b[0;34m\u001b[0m\u001b[0;34m\u001b[0m\u001b[0m\n",
      "\u001b[0;32m<ipython-input-91-41c41eddec40>\u001b[0m in \u001b[0;36msearch_adapter_paths\u001b[0;34m(adapters, targets, total_paths)\u001b[0m\n\u001b[1;32m      7\u001b[0m             \u001b[0;32mcontinue\u001b[0m\u001b[0;34m\u001b[0m\u001b[0;34m\u001b[0m\u001b[0m\n\u001b[1;32m      8\u001b[0m \u001b[0;34m\u001b[0m\u001b[0m\n\u001b[0;32m----> 9\u001b[0;31m         \u001b[0msearch_adapter_paths\u001b[0m\u001b[0;34m(\u001b[0m\u001b[0madapters\u001b[0m\u001b[0;34m[\u001b[0m\u001b[0mi\u001b[0m\u001b[0;34m+\u001b[0m\u001b[0;36m1\u001b[0m\u001b[0;34m:\u001b[0m\u001b[0;34m]\u001b[0m\u001b[0;34m,\u001b[0m\u001b[0mtargets\u001b[0m\u001b[0;34m,\u001b[0m \u001b[0mtotal_paths\u001b[0m\u001b[0;34m)\u001b[0m\u001b[0;34m\u001b[0m\u001b[0;34m\u001b[0m\u001b[0m\n\u001b[0m\u001b[1;32m     10\u001b[0m     \u001b[0;32mreturn\u001b[0m\u001b[0;34m\u001b[0m\u001b[0;34m\u001b[0m\u001b[0m\n",
      "\u001b[0;32m<ipython-input-91-41c41eddec40>\u001b[0m in \u001b[0;36msearch_adapter_paths\u001b[0;34m(adapters, targets, total_paths)\u001b[0m\n\u001b[1;32m      7\u001b[0m             \u001b[0;32mcontinue\u001b[0m\u001b[0;34m\u001b[0m\u001b[0;34m\u001b[0m\u001b[0m\n\u001b[1;32m      8\u001b[0m \u001b[0;34m\u001b[0m\u001b[0m\n\u001b[0;32m----> 9\u001b[0;31m         \u001b[0msearch_adapter_paths\u001b[0m\u001b[0;34m(\u001b[0m\u001b[0madapters\u001b[0m\u001b[0;34m[\u001b[0m\u001b[0mi\u001b[0m\u001b[0;34m+\u001b[0m\u001b[0;36m1\u001b[0m\u001b[0;34m:\u001b[0m\u001b[0;34m]\u001b[0m\u001b[0;34m,\u001b[0m\u001b[0mtargets\u001b[0m\u001b[0;34m,\u001b[0m \u001b[0mtotal_paths\u001b[0m\u001b[0;34m)\u001b[0m\u001b[0;34m\u001b[0m\u001b[0;34m\u001b[0m\u001b[0m\n\u001b[0m\u001b[1;32m     10\u001b[0m     \u001b[0;32mreturn\u001b[0m\u001b[0;34m\u001b[0m\u001b[0;34m\u001b[0m\u001b[0m\n",
      "\u001b[0;32m<ipython-input-91-41c41eddec40>\u001b[0m in \u001b[0;36msearch_adapter_paths\u001b[0;34m(adapters, targets, total_paths)\u001b[0m\n\u001b[1;32m      7\u001b[0m             \u001b[0;32mcontinue\u001b[0m\u001b[0;34m\u001b[0m\u001b[0;34m\u001b[0m\u001b[0m\n\u001b[1;32m      8\u001b[0m \u001b[0;34m\u001b[0m\u001b[0m\n\u001b[0;32m----> 9\u001b[0;31m         \u001b[0msearch_adapter_paths\u001b[0m\u001b[0;34m(\u001b[0m\u001b[0madapters\u001b[0m\u001b[0;34m[\u001b[0m\u001b[0mi\u001b[0m\u001b[0;34m+\u001b[0m\u001b[0;36m1\u001b[0m\u001b[0;34m:\u001b[0m\u001b[0;34m]\u001b[0m\u001b[0;34m,\u001b[0m\u001b[0mtargets\u001b[0m\u001b[0;34m,\u001b[0m \u001b[0mtotal_paths\u001b[0m\u001b[0;34m)\u001b[0m\u001b[0;34m\u001b[0m\u001b[0;34m\u001b[0m\u001b[0m\n\u001b[0m\u001b[1;32m     10\u001b[0m     \u001b[0;32mreturn\u001b[0m\u001b[0;34m\u001b[0m\u001b[0;34m\u001b[0m\u001b[0m\n",
      "\u001b[0;32m<ipython-input-91-41c41eddec40>\u001b[0m in \u001b[0;36msearch_adapter_paths\u001b[0;34m(adapters, targets, total_paths)\u001b[0m\n\u001b[1;32m      7\u001b[0m             \u001b[0;32mcontinue\u001b[0m\u001b[0;34m\u001b[0m\u001b[0;34m\u001b[0m\u001b[0m\n\u001b[1;32m      8\u001b[0m \u001b[0;34m\u001b[0m\u001b[0m\n\u001b[0;32m----> 9\u001b[0;31m         \u001b[0msearch_adapter_paths\u001b[0m\u001b[0;34m(\u001b[0m\u001b[0madapters\u001b[0m\u001b[0;34m[\u001b[0m\u001b[0mi\u001b[0m\u001b[0;34m+\u001b[0m\u001b[0;36m1\u001b[0m\u001b[0;34m:\u001b[0m\u001b[0;34m]\u001b[0m\u001b[0;34m,\u001b[0m\u001b[0mtargets\u001b[0m\u001b[0;34m,\u001b[0m \u001b[0mtotal_paths\u001b[0m\u001b[0;34m)\u001b[0m\u001b[0;34m\u001b[0m\u001b[0;34m\u001b[0m\u001b[0m\n\u001b[0m\u001b[1;32m     10\u001b[0m     \u001b[0;32mreturn\u001b[0m\u001b[0;34m\u001b[0m\u001b[0;34m\u001b[0m\u001b[0m\n",
      "\u001b[0;32m<ipython-input-91-41c41eddec40>\u001b[0m in \u001b[0;36msearch_adapter_paths\u001b[0;34m(adapters, targets, total_paths)\u001b[0m\n\u001b[1;32m      7\u001b[0m             \u001b[0;32mcontinue\u001b[0m\u001b[0;34m\u001b[0m\u001b[0;34m\u001b[0m\u001b[0m\n\u001b[1;32m      8\u001b[0m \u001b[0;34m\u001b[0m\u001b[0m\n\u001b[0;32m----> 9\u001b[0;31m         \u001b[0msearch_adapter_paths\u001b[0m\u001b[0;34m(\u001b[0m\u001b[0madapters\u001b[0m\u001b[0;34m[\u001b[0m\u001b[0mi\u001b[0m\u001b[0;34m+\u001b[0m\u001b[0;36m1\u001b[0m\u001b[0;34m:\u001b[0m\u001b[0;34m]\u001b[0m\u001b[0;34m,\u001b[0m\u001b[0mtargets\u001b[0m\u001b[0;34m,\u001b[0m \u001b[0mtotal_paths\u001b[0m\u001b[0;34m)\u001b[0m\u001b[0;34m\u001b[0m\u001b[0;34m\u001b[0m\u001b[0m\n\u001b[0m\u001b[1;32m     10\u001b[0m     \u001b[0;32mreturn\u001b[0m\u001b[0;34m\u001b[0m\u001b[0;34m\u001b[0m\u001b[0m\n",
      "\u001b[0;32m<ipython-input-91-41c41eddec40>\u001b[0m in \u001b[0;36msearch_adapter_paths\u001b[0;34m(adapters, targets, total_paths)\u001b[0m\n\u001b[1;32m      7\u001b[0m             \u001b[0;32mcontinue\u001b[0m\u001b[0;34m\u001b[0m\u001b[0;34m\u001b[0m\u001b[0m\n\u001b[1;32m      8\u001b[0m \u001b[0;34m\u001b[0m\u001b[0m\n\u001b[0;32m----> 9\u001b[0;31m         \u001b[0msearch_adapter_paths\u001b[0m\u001b[0;34m(\u001b[0m\u001b[0madapters\u001b[0m\u001b[0;34m[\u001b[0m\u001b[0mi\u001b[0m\u001b[0;34m+\u001b[0m\u001b[0;36m1\u001b[0m\u001b[0;34m:\u001b[0m\u001b[0;34m]\u001b[0m\u001b[0;34m,\u001b[0m\u001b[0mtargets\u001b[0m\u001b[0;34m,\u001b[0m \u001b[0mtotal_paths\u001b[0m\u001b[0;34m)\u001b[0m\u001b[0;34m\u001b[0m\u001b[0;34m\u001b[0m\u001b[0m\n\u001b[0m\u001b[1;32m     10\u001b[0m     \u001b[0;32mreturn\u001b[0m\u001b[0;34m\u001b[0m\u001b[0;34m\u001b[0m\u001b[0m\n",
      "\u001b[0;32m<ipython-input-91-41c41eddec40>\u001b[0m in \u001b[0;36msearch_adapter_paths\u001b[0;34m(adapters, targets, total_paths)\u001b[0m\n\u001b[1;32m      7\u001b[0m             \u001b[0;32mcontinue\u001b[0m\u001b[0;34m\u001b[0m\u001b[0;34m\u001b[0m\u001b[0m\n\u001b[1;32m      8\u001b[0m \u001b[0;34m\u001b[0m\u001b[0m\n\u001b[0;32m----> 9\u001b[0;31m         \u001b[0msearch_adapter_paths\u001b[0m\u001b[0;34m(\u001b[0m\u001b[0madapters\u001b[0m\u001b[0;34m[\u001b[0m\u001b[0mi\u001b[0m\u001b[0;34m+\u001b[0m\u001b[0;36m1\u001b[0m\u001b[0;34m:\u001b[0m\u001b[0;34m]\u001b[0m\u001b[0;34m,\u001b[0m\u001b[0mtargets\u001b[0m\u001b[0;34m,\u001b[0m \u001b[0mtotal_paths\u001b[0m\u001b[0;34m)\u001b[0m\u001b[0;34m\u001b[0m\u001b[0;34m\u001b[0m\u001b[0m\n\u001b[0m\u001b[1;32m     10\u001b[0m     \u001b[0;32mreturn\u001b[0m\u001b[0;34m\u001b[0m\u001b[0;34m\u001b[0m\u001b[0m\n",
      "\u001b[0;32m<ipython-input-91-41c41eddec40>\u001b[0m in \u001b[0;36msearch_adapter_paths\u001b[0;34m(adapters, targets, total_paths)\u001b[0m\n\u001b[1;32m      7\u001b[0m             \u001b[0;32mcontinue\u001b[0m\u001b[0;34m\u001b[0m\u001b[0;34m\u001b[0m\u001b[0m\n\u001b[1;32m      8\u001b[0m \u001b[0;34m\u001b[0m\u001b[0m\n\u001b[0;32m----> 9\u001b[0;31m         \u001b[0msearch_adapter_paths\u001b[0m\u001b[0;34m(\u001b[0m\u001b[0madapters\u001b[0m\u001b[0;34m[\u001b[0m\u001b[0mi\u001b[0m\u001b[0;34m+\u001b[0m\u001b[0;36m1\u001b[0m\u001b[0;34m:\u001b[0m\u001b[0;34m]\u001b[0m\u001b[0;34m,\u001b[0m\u001b[0mtargets\u001b[0m\u001b[0;34m,\u001b[0m \u001b[0mtotal_paths\u001b[0m\u001b[0;34m)\u001b[0m\u001b[0;34m\u001b[0m\u001b[0;34m\u001b[0m\u001b[0m\n\u001b[0m\u001b[1;32m     10\u001b[0m     \u001b[0;32mreturn\u001b[0m\u001b[0;34m\u001b[0m\u001b[0;34m\u001b[0m\u001b[0m\n",
      "\u001b[0;32m<ipython-input-91-41c41eddec40>\u001b[0m in \u001b[0;36msearch_adapter_paths\u001b[0;34m(adapters, targets, total_paths)\u001b[0m\n\u001b[1;32m      7\u001b[0m             \u001b[0;32mcontinue\u001b[0m\u001b[0;34m\u001b[0m\u001b[0;34m\u001b[0m\u001b[0m\n\u001b[1;32m      8\u001b[0m \u001b[0;34m\u001b[0m\u001b[0m\n\u001b[0;32m----> 9\u001b[0;31m         \u001b[0msearch_adapter_paths\u001b[0m\u001b[0;34m(\u001b[0m\u001b[0madapters\u001b[0m\u001b[0;34m[\u001b[0m\u001b[0mi\u001b[0m\u001b[0;34m+\u001b[0m\u001b[0;36m1\u001b[0m\u001b[0;34m:\u001b[0m\u001b[0;34m]\u001b[0m\u001b[0;34m,\u001b[0m\u001b[0mtargets\u001b[0m\u001b[0;34m,\u001b[0m \u001b[0mtotal_paths\u001b[0m\u001b[0;34m)\u001b[0m\u001b[0;34m\u001b[0m\u001b[0;34m\u001b[0m\u001b[0m\n\u001b[0m\u001b[1;32m     10\u001b[0m     \u001b[0;32mreturn\u001b[0m\u001b[0;34m\u001b[0m\u001b[0;34m\u001b[0m\u001b[0m\n",
      "\u001b[0;32m<ipython-input-91-41c41eddec40>\u001b[0m in \u001b[0;36msearch_adapter_paths\u001b[0;34m(adapters, targets, total_paths)\u001b[0m\n\u001b[1;32m      7\u001b[0m             \u001b[0;32mcontinue\u001b[0m\u001b[0;34m\u001b[0m\u001b[0;34m\u001b[0m\u001b[0m\n\u001b[1;32m      8\u001b[0m \u001b[0;34m\u001b[0m\u001b[0m\n\u001b[0;32m----> 9\u001b[0;31m         \u001b[0msearch_adapter_paths\u001b[0m\u001b[0;34m(\u001b[0m\u001b[0madapters\u001b[0m\u001b[0;34m[\u001b[0m\u001b[0mi\u001b[0m\u001b[0;34m+\u001b[0m\u001b[0;36m1\u001b[0m\u001b[0;34m:\u001b[0m\u001b[0;34m]\u001b[0m\u001b[0;34m,\u001b[0m\u001b[0mtargets\u001b[0m\u001b[0;34m,\u001b[0m \u001b[0mtotal_paths\u001b[0m\u001b[0;34m)\u001b[0m\u001b[0;34m\u001b[0m\u001b[0;34m\u001b[0m\u001b[0m\n\u001b[0m\u001b[1;32m     10\u001b[0m     \u001b[0;32mreturn\u001b[0m\u001b[0;34m\u001b[0m\u001b[0;34m\u001b[0m\u001b[0m\n",
      "\u001b[0;32m<ipython-input-91-41c41eddec40>\u001b[0m in \u001b[0;36msearch_adapter_paths\u001b[0;34m(adapters, targets, total_paths)\u001b[0m\n\u001b[1;32m      7\u001b[0m             \u001b[0;32mcontinue\u001b[0m\u001b[0;34m\u001b[0m\u001b[0;34m\u001b[0m\u001b[0m\n\u001b[1;32m      8\u001b[0m \u001b[0;34m\u001b[0m\u001b[0m\n\u001b[0;32m----> 9\u001b[0;31m         \u001b[0msearch_adapter_paths\u001b[0m\u001b[0;34m(\u001b[0m\u001b[0madapters\u001b[0m\u001b[0;34m[\u001b[0m\u001b[0mi\u001b[0m\u001b[0;34m+\u001b[0m\u001b[0;36m1\u001b[0m\u001b[0;34m:\u001b[0m\u001b[0;34m]\u001b[0m\u001b[0;34m,\u001b[0m\u001b[0mtargets\u001b[0m\u001b[0;34m,\u001b[0m \u001b[0mtotal_paths\u001b[0m\u001b[0;34m)\u001b[0m\u001b[0;34m\u001b[0m\u001b[0;34m\u001b[0m\u001b[0m\n\u001b[0m\u001b[1;32m     10\u001b[0m     \u001b[0;32mreturn\u001b[0m\u001b[0;34m\u001b[0m\u001b[0;34m\u001b[0m\u001b[0m\n",
      "\u001b[0;32m<ipython-input-91-41c41eddec40>\u001b[0m in \u001b[0;36msearch_adapter_paths\u001b[0;34m(adapters, targets, total_paths)\u001b[0m\n\u001b[1;32m      7\u001b[0m             \u001b[0;32mcontinue\u001b[0m\u001b[0;34m\u001b[0m\u001b[0;34m\u001b[0m\u001b[0m\n\u001b[1;32m      8\u001b[0m \u001b[0;34m\u001b[0m\u001b[0m\n\u001b[0;32m----> 9\u001b[0;31m         \u001b[0msearch_adapter_paths\u001b[0m\u001b[0;34m(\u001b[0m\u001b[0madapters\u001b[0m\u001b[0;34m[\u001b[0m\u001b[0mi\u001b[0m\u001b[0;34m+\u001b[0m\u001b[0;36m1\u001b[0m\u001b[0;34m:\u001b[0m\u001b[0;34m]\u001b[0m\u001b[0;34m,\u001b[0m\u001b[0mtargets\u001b[0m\u001b[0;34m,\u001b[0m \u001b[0mtotal_paths\u001b[0m\u001b[0;34m)\u001b[0m\u001b[0;34m\u001b[0m\u001b[0;34m\u001b[0m\u001b[0m\n\u001b[0m\u001b[1;32m     10\u001b[0m     \u001b[0;32mreturn\u001b[0m\u001b[0;34m\u001b[0m\u001b[0;34m\u001b[0m\u001b[0m\n",
      "\u001b[0;32m<ipython-input-91-41c41eddec40>\u001b[0m in \u001b[0;36msearch_adapter_paths\u001b[0;34m(adapters, targets, total_paths)\u001b[0m\n\u001b[1;32m      7\u001b[0m             \u001b[0;32mcontinue\u001b[0m\u001b[0;34m\u001b[0m\u001b[0;34m\u001b[0m\u001b[0m\n\u001b[1;32m      8\u001b[0m \u001b[0;34m\u001b[0m\u001b[0m\n\u001b[0;32m----> 9\u001b[0;31m         \u001b[0msearch_adapter_paths\u001b[0m\u001b[0;34m(\u001b[0m\u001b[0madapters\u001b[0m\u001b[0;34m[\u001b[0m\u001b[0mi\u001b[0m\u001b[0;34m+\u001b[0m\u001b[0;36m1\u001b[0m\u001b[0;34m:\u001b[0m\u001b[0;34m]\u001b[0m\u001b[0;34m,\u001b[0m\u001b[0mtargets\u001b[0m\u001b[0;34m,\u001b[0m \u001b[0mtotal_paths\u001b[0m\u001b[0;34m)\u001b[0m\u001b[0;34m\u001b[0m\u001b[0;34m\u001b[0m\u001b[0m\n\u001b[0m\u001b[1;32m     10\u001b[0m     \u001b[0;32mreturn\u001b[0m\u001b[0;34m\u001b[0m\u001b[0;34m\u001b[0m\u001b[0m\n",
      "\u001b[0;32m<ipython-input-91-41c41eddec40>\u001b[0m in \u001b[0;36msearch_adapter_paths\u001b[0;34m(adapters, targets, total_paths)\u001b[0m\n\u001b[1;32m      7\u001b[0m             \u001b[0;32mcontinue\u001b[0m\u001b[0;34m\u001b[0m\u001b[0;34m\u001b[0m\u001b[0m\n\u001b[1;32m      8\u001b[0m \u001b[0;34m\u001b[0m\u001b[0m\n\u001b[0;32m----> 9\u001b[0;31m         \u001b[0msearch_adapter_paths\u001b[0m\u001b[0;34m(\u001b[0m\u001b[0madapters\u001b[0m\u001b[0;34m[\u001b[0m\u001b[0mi\u001b[0m\u001b[0;34m+\u001b[0m\u001b[0;36m1\u001b[0m\u001b[0;34m:\u001b[0m\u001b[0;34m]\u001b[0m\u001b[0;34m,\u001b[0m\u001b[0mtargets\u001b[0m\u001b[0;34m,\u001b[0m \u001b[0mtotal_paths\u001b[0m\u001b[0;34m)\u001b[0m\u001b[0;34m\u001b[0m\u001b[0;34m\u001b[0m\u001b[0m\n\u001b[0m\u001b[1;32m     10\u001b[0m     \u001b[0;32mreturn\u001b[0m\u001b[0;34m\u001b[0m\u001b[0;34m\u001b[0m\u001b[0m\n",
      "\u001b[0;32m<ipython-input-91-41c41eddec40>\u001b[0m in \u001b[0;36msearch_adapter_paths\u001b[0;34m(adapters, targets, total_paths)\u001b[0m\n\u001b[1;32m      7\u001b[0m             \u001b[0;32mcontinue\u001b[0m\u001b[0;34m\u001b[0m\u001b[0;34m\u001b[0m\u001b[0m\n\u001b[1;32m      8\u001b[0m \u001b[0;34m\u001b[0m\u001b[0m\n\u001b[0;32m----> 9\u001b[0;31m         \u001b[0msearch_adapter_paths\u001b[0m\u001b[0;34m(\u001b[0m\u001b[0madapters\u001b[0m\u001b[0;34m[\u001b[0m\u001b[0mi\u001b[0m\u001b[0;34m+\u001b[0m\u001b[0;36m1\u001b[0m\u001b[0;34m:\u001b[0m\u001b[0;34m]\u001b[0m\u001b[0;34m,\u001b[0m\u001b[0mtargets\u001b[0m\u001b[0;34m,\u001b[0m \u001b[0mtotal_paths\u001b[0m\u001b[0;34m)\u001b[0m\u001b[0;34m\u001b[0m\u001b[0;34m\u001b[0m\u001b[0m\n\u001b[0m\u001b[1;32m     10\u001b[0m     \u001b[0;32mreturn\u001b[0m\u001b[0;34m\u001b[0m\u001b[0;34m\u001b[0m\u001b[0m\n",
      "\u001b[0;32m<ipython-input-91-41c41eddec40>\u001b[0m in \u001b[0;36msearch_adapter_paths\u001b[0;34m(adapters, targets, total_paths)\u001b[0m\n\u001b[1;32m      7\u001b[0m             \u001b[0;32mcontinue\u001b[0m\u001b[0;34m\u001b[0m\u001b[0;34m\u001b[0m\u001b[0m\n\u001b[1;32m      8\u001b[0m \u001b[0;34m\u001b[0m\u001b[0m\n\u001b[0;32m----> 9\u001b[0;31m         \u001b[0msearch_adapter_paths\u001b[0m\u001b[0;34m(\u001b[0m\u001b[0madapters\u001b[0m\u001b[0;34m[\u001b[0m\u001b[0mi\u001b[0m\u001b[0;34m+\u001b[0m\u001b[0;36m1\u001b[0m\u001b[0;34m:\u001b[0m\u001b[0;34m]\u001b[0m\u001b[0;34m,\u001b[0m\u001b[0mtargets\u001b[0m\u001b[0;34m,\u001b[0m \u001b[0mtotal_paths\u001b[0m\u001b[0;34m)\u001b[0m\u001b[0;34m\u001b[0m\u001b[0;34m\u001b[0m\u001b[0m\n\u001b[0m\u001b[1;32m     10\u001b[0m     \u001b[0;32mreturn\u001b[0m\u001b[0;34m\u001b[0m\u001b[0;34m\u001b[0m\u001b[0m\n",
      "\u001b[0;32m<ipython-input-91-41c41eddec40>\u001b[0m in \u001b[0;36msearch_adapter_paths\u001b[0;34m(adapters, targets, total_paths)\u001b[0m\n\u001b[1;32m      1\u001b[0m \u001b[0;32mdef\u001b[0m \u001b[0msearch_adapter_paths\u001b[0m\u001b[0;34m(\u001b[0m\u001b[0madapters\u001b[0m\u001b[0;34m,\u001b[0m \u001b[0mtargets\u001b[0m\u001b[0;34m,\u001b[0m \u001b[0mtotal_paths\u001b[0m\u001b[0;34m)\u001b[0m\u001b[0;34m:\u001b[0m\u001b[0;34m\u001b[0m\u001b[0;34m\u001b[0m\u001b[0m\n\u001b[0;32m----> 2\u001b[0;31m     \u001b[0;32mfor\u001b[0m \u001b[0mi\u001b[0m\u001b[0;34m,\u001b[0m \u001b[0ma\u001b[0m \u001b[0;32min\u001b[0m \u001b[0menumerate\u001b[0m\u001b[0;34m(\u001b[0m\u001b[0madapters\u001b[0m\u001b[0;34m[\u001b[0m\u001b[0;36m1\u001b[0m\u001b[0;34m:\u001b[0m\u001b[0;34m]\u001b[0m\u001b[0;34m)\u001b[0m\u001b[0;34m:\u001b[0m\u001b[0;34m\u001b[0m\u001b[0;34m\u001b[0m\u001b[0m\n\u001b[0m\u001b[1;32m      3\u001b[0m         \u001b[0;32mif\u001b[0m \u001b[0ma\u001b[0m \u001b[0;34m-\u001b[0m \u001b[0madapters\u001b[0m\u001b[0;34m[\u001b[0m\u001b[0;36m0\u001b[0m\u001b[0;34m]\u001b[0m \u001b[0;34m>\u001b[0m \u001b[0;36m3\u001b[0m\u001b[0;34m:\u001b[0m\u001b[0;34m\u001b[0m\u001b[0;34m\u001b[0m\u001b[0m\n\u001b[1;32m      4\u001b[0m             \u001b[0;32mbreak\u001b[0m\u001b[0;34m\u001b[0m\u001b[0;34m\u001b[0m\u001b[0m\n\u001b[1;32m      5\u001b[0m         \u001b[0;32mif\u001b[0m \u001b[0ma\u001b[0m \u001b[0;32min\u001b[0m \u001b[0mtargets\u001b[0m\u001b[0;34m:\u001b[0m\u001b[0;34m\u001b[0m\u001b[0;34m\u001b[0m\u001b[0m\n",
      "\u001b[0;31mKeyboardInterrupt\u001b[0m: "
     ]
    }
   ],
   "source": [
    "f = open(\"../data/joltage_adapters.txt\", \"r\")\n",
    "adapter_joltages = [0] + sorted([int(string.rstrip()) for string in f.readlines()])\n",
    "\n",
    "total=[0]\n",
    "targets = {adapter_joltages[-1]:1}\n",
    "search_adapter_paths(adapter_joltages, targets, total)\n",
    "print(total)"
   ]
  },
  {
   "cell_type": "markdown",
   "metadata": {},
   "source": [
    "##### Problem 2: There must be more than a trillion valid ways to arrange adapters! Surely, there must be an efficient way to count the arrangements. What is the total number of distinct ways you can arrange the adapters to connect the charging outlet to your device?"
   ]
  },
  {
   "cell_type": "code",
   "execution_count": 94,
   "metadata": {},
   "outputs": [],
   "source": [
    "def search_adapter_paths_fast(adapters):\n",
    "    targets = {adapter_joltages[-1]:1}\n",
    "    for i in reversed(range(len(adapters)-1)):\n",
    "        total_paths=[0]\n",
    "        search_adapter_paths(adapters[i:], targets, total_paths)\n",
    "        targets[adapters[i]] = total_paths[0]\n",
    "    \n",
    "    return targets"
   ]
  },
  {
   "cell_type": "code",
   "execution_count": 95,
   "metadata": {},
   "outputs": [
    {
     "name": "stdout",
     "output_type": "stream",
     "text": [
      "198428693313536\n"
     ]
    }
   ],
   "source": [
    "f = open(\"../data/joltage_adapters.txt\", \"r\")\n",
    "adapter_joltages = [0] + sorted([int(string.rstrip()) for string in f.readlines()])\n",
    "print(search_adapter_paths_fast(adapter_joltages)[0])\n"
   ]
  },
  {
   "cell_type": "markdown",
   "metadata": {},
   "source": [
    "### Day 11"
   ]
  },
  {
   "cell_type": "code",
   "execution_count": 50,
   "metadata": {},
   "outputs": [
    {
     "name": "stdout",
     "output_type": "stream",
     "text": [
      "2344\n"
     ]
    }
   ],
   "source": [
    "import numpy as np\n",
    "seating = np.array([list(string.rstrip()) for string in open(\"../data/waiting_seating.txt\", \"r\").readlines()])\n",
    "seating[seating == 'L'] = \"#\" # At first all seats are empty and so only rule 1 will apply and all will fill\n",
    "\n",
    "rows, cols = seating.shape\n",
    "change_idx = {(0,0):'#'}\n",
    "while change_idx:\n",
    "    change_idx = {}\n",
    "    for i in range(rows):\n",
    "        for j in range(cols):            \n",
    "            if seating[i,j] == \"L\" and np.count_nonzero(seating[max(i-1,0):min(i+2,rows),max(j-1,0):min(j+2,cols)] == \"#\") == 0:\n",
    "                change_idx[(i,j)] = \"#\"\n",
    "            elif seating[i,j] == \"#\" and np.count_nonzero(seating[max(i-1,0):min(i+2,rows),max(j-1,0):min(j+2,cols)] == \"#\") > 4:\n",
    "                change_idx[(i,j)] = \"L\"\n",
    "\n",
    "\n",
    "    for k, v in change_idx.items():\n",
    "        seating[k] = v\n",
    "        \n",
    "print(np.count_nonzero(seating == \"#\"))"
   ]
  },
  {
   "cell_type": "code",
   "execution_count": 4,
   "metadata": {},
   "outputs": [
    {
     "name": "stdout",
     "output_type": "stream",
     "text": [
      "[['#' '#' '#' ... '#' '#' '#']\n",
      " ['#' '#' '#' ... '#' '#' '#']\n",
      " ['#' '#' '#' ... '#' '#' '#']\n",
      " ...\n",
      " ['#' '#' '#' ... '#' '#' '#']\n",
      " ['#' '#' '#' ... '.' '#' '#']\n",
      " ['#' '#' '#' ... '#' '#' '#']]\n",
      "['#' '#' '#' '#' '#' '#' '#' '#']\n"
     ]
    }
   ],
   "source": [
    "def check_line_of_sight(line, centre, seats):\n",
    "    for seat in line[centre+1:]:\n",
    "        if seat != \".\":\n",
    "            seats.append(seat)\n",
    "            break\n",
    "        \n",
    "    for seat in np.flip(line[:centre]):\n",
    "        if seat != \".\":\n",
    "            seats.append(seat)\n",
    "            break\n",
    "    \n",
    "    return\n",
    "        \n",
    "def check_seating(seating, seat):\n",
    "    i, j = seat\n",
    "    seats=[]\n",
    "    check_line_of_sight(seating[i,:], j, seats)#horizontal\n",
    "    check_line_of_sight(np.diagonal(seating, offset=j-i), min(i,j), seats)#diagonal 1\n",
    "    check_line_of_sight(seating[:,j], i, seats)#vertical\n",
    "    flipped_j = cols-1-j\n",
    "    check_line_of_sight(np.diagonal(np.fliplr(seating), offset=flipped_j-i), min(i,flipped_j), seats)#diagonal 2   \n",
    "    return np.array(seats)\n",
    "\n",
    "seating = np.array([list(string.rstrip()) for string in open(\"../data/waiting_seating.txt\", \"r\").readlines()])\n",
    "seating[seating == 'L'] = \"#\"\n",
    "print(seating)\n",
    "print(check_seating(seating, (7,9)))"
   ]
  },
  {
   "cell_type": "code",
   "execution_count": 6,
   "metadata": {},
   "outputs": [
    {
     "name": "stdout",
     "output_type": "stream",
     "text": [
      "2076\n"
     ]
    }
   ],
   "source": [
    "import numpy as npdef dfs(graph, node, search_node, visited=None):\n",
    "    if visited is None:\n",
    "        visited = set()\n",
    "    if node not in visited:# If you have not visited the node then do so\n",
    "        visited.add(node)# Add node to set of visited nodes\n",
    "        if node == search_node:# If you have found what you are looking for return\n",
    "            return True\n",
    "        for neighbour in graph[node]:# For every node that is neighbouring\n",
    "            if dfs(graph, neighbour[1], search_node, visited):# recursively call the depth first search function\n",
    "                return True\n",
    "    return False\n",
    "seating = np.array([list(string.rstrip()) for string in open(\"../data/waiting_seating.txt\", \"r\").readlines()])\n",
    "seating[seating == 'L'] = \"#\" # At first all seats are empty and so only rule 1 will apply and all will fill\n",
    "\n",
    "rows, cols = seating.shape\n",
    "change_idx = {(0,0):'#'}\n",
    "while change_idx:\n",
    "    change_idx = {}\n",
    "    for i in range(rows):\n",
    "        for j in range(cols):\n",
    "            visible_seats = check_seating(seating, (i,j))\n",
    "            if seating[i,j] == \"L\" and np.count_nonzero(visible_seats == \"#\") == 0:\n",
    "                change_idx[(i,j)] = \"#\"def dfs(graph, node, search_node, visited=None):\n",
    "    if visited is None:\n",
    "        visited = set()\n",
    "    if node not in visited:# If you have not visited the node then do so\n",
    "        visited.add(node)# Add node to set of visited nodes\n",
    "        if node == search_node:# If you have found what you are looking for return\n",
    "            return True\n",
    "        for neighbour in graph[node]:# For every node that is neighbouring\n",
    "            if dfs(graph, neighbour[1], search_node, visited):# recursively call the depth first search function\n",
    "                return True\n",
    "    return False\n",
    "            elif seating[i,j] == \"#\" and np.count_nonzero(visible_seats == \"#\") > 4:\n",
    "                change_idx[(i,j)] = \"L\"\n",
    "\n",
    "\n",
    "    for k, v in change_idx.items():\n",
    "        seating[k] = v\n",
    "        \n",
    "print(np.count_nonzero(seating == \"#\"))"
   ]
  },
  {
   "cell_type": "markdown",
   "metadata": {},
   "source": [
    "### Day 12"
   ]
  },
  {
   "cell_type": "code",
   "execution_count": 12,
   "metadata": {},
   "outputs": [
    {
     "data": {
      "text/plain": [
       "1177"
      ]
     },
     "execution_count": 12,
     "metadata": {},
     "output_type": "execute_result"
    }
   ],
   "source": [
    "import math\n",
    "\n",
    "north=0\n",
    "east=0\n",
    "theta=0\n",
    "for string in open(\"../data/ship_instructions.txt\", \"r\").readlines():\n",
    "    if string[0] == \"N\":\n",
    "        north += int(string[1:])\n",
    "    elif string[0] == \"S\":\n",
    "        north -= int(string[1:])\n",
    "    elif string[0] == \"E\":\n",
    "        east += int(string[1:])\n",
    "    elif string[0] == \"W\":\n",
    "        east -= int(string[1:])\n",
    "    elif string[0] == \"L\":\n",
    "        theta += int(string[1:])\n",
    "    elif string[0] == \"R\":\n",
    "        theta -= int(string[1:])\n",
    "    elif string[0] == \"F\":\n",
    "        north += int(string[1:])* round(math.sin(math.radians(theta)))\n",
    "        east += int(string[1:])* round(math.cos(math.radians(theta)))\n",
    "        \n",
    "abs(north)+abs(east)\n"
   ]
  },
  {
   "cell_type": "code",
   "execution_count": 25,
   "metadata": {},
   "outputs": [
    {
     "data": {
      "text/plain": [
       "46530"
      ]
     },
     "execution_count": 25,
     "metadata": {},
     "output_type": "execute_result"
    }
   ],
   "source": [
    "north = 0\n",
    "east = 0\n",
    "\n",
    "waypoint_north = 1\n",
    "waypoint_east = 10\n",
    "\n",
    "for string in open(\"../data/ship_instructions.txt\", \"r\").readlines():\n",
    "    if string[0] == \"N\":\n",
    "        waypoint_north += int(string[1:])\n",
    "    elif string[0] == \"S\":\n",
    "        waypoint_north -= int(string[1:])\n",
    "    elif string[0] == \"E\":\n",
    "        waypoint_east += int(string[1:])\n",
    "    elif string[0] == \"W\":\n",
    "        waypoint_east -= int(string[1:])\n",
    "    elif string[0] == \"F\":\n",
    "        north += int(string[1:])* waypoint_north\n",
    "        east += int(string[1:])* waypoint_east\n",
    "    else: #Rotate\n",
    "        theta = int(string[1:])\n",
    "        if string[0] == \"R\":\n",
    "            theta*=-1\n",
    "        waypoint_east_new = waypoint_east * round(math.cos(math.radians(theta))) - waypoint_north * round(math.sin(math.radians(theta)))\n",
    "        waypoint_north_new = waypoint_east * round(math.sin(math.radians(theta))) + waypoint_north * round(math.cos(math.radians(theta)))\n",
    "        waypoint_east=waypoint_east_new\n",
    "        waypoint_north=waypoint_north_new\n",
    "                \n",
    "abs(north)+abs(east)\n"
   ]
  },
  {
   "cell_type": "markdown",
   "metadata": {},
   "source": [
    "### Day 13"
   ]
  },
  {
   "cell_type": "code",
   "execution_count": 86,
   "metadata": {},
   "outputs": [
    {
     "name": "stdout",
     "output_type": "stream",
     "text": [
      "3464\n"
     ]
    }
   ],
   "source": [
    "start, buses = open(\"../data/bus_schedule.txt\", \"r\").readlines()\n",
    "start = int(start)\n",
    "busses = [int(b) for b in buses.split(\",\") if b is not \"x\"]\n",
    "end = start\n",
    "\n",
    "bus = None\n",
    "while bus is None:\n",
    "    end += 1\n",
    "    for b in busses:\n",
    "        if end%b == 0:\n",
    "            bus = b\n",
    "            break\n",
    "\n",
    "print((end-start)*bus)"
   ]
  },
  {
   "cell_type": "code",
   "execution_count": 85,
   "metadata": {},
   "outputs": [
    {
     "name": "stdout",
     "output_type": "stream",
     "text": [
      "next time is 17 multiple is  17\n",
      "next time is 41 multiple is  697\n",
      "next time is 273275 multiple is  448171\n",
      "next time is 7444019 multiple is  10307933\n",
      "next time is 38367823 multiple is  134003129\n",
      "next time is 1512402258 multiple is  3886090741\n",
      "next time is 1283922346790 multiple is  1682677290853\n",
      "next time is 13062663382767 multiple is  62259059761561\n",
      "next time is 760171380521512 multiple is  1182922135469659\n",
      "760171380521445\n"
     ]
    }
   ],
   "source": [
    "start, buses = open(\"../data/bus_schedule.txt\", \"r\").readlines()\n",
    "buses = [b for b in buses.split(\",\")]\n",
    "\n",
    "time = 1\n",
    "time_multiple = 1\n",
    "for i, b in enumerate(buses):\n",
    "    if b == \"x\":\n",
    "        time +=1\n",
    "        continue\n",
    "    else:\n",
    "        next_bus = int(b)\n",
    "    \n",
    "    occurances = []\n",
    "    for j in range(2):\n",
    "        while (time+1)%next_bus != 0:\n",
    "            time += time_multiple    \n",
    "        occurances += [time+1]\n",
    "        time += time_multiple\n",
    "\n",
    "    time =occurances[0]\n",
    "    time_multiple = occurances[1]-occurances[0]\n",
    "    print(\"next time is\", time, \"multiple is \", time_multiple)\n",
    "print(time-len(buses)+1)"
   ]
  },
  {
   "cell_type": "markdown",
   "metadata": {},
   "source": [
    "### Day 14"
   ]
  },
  {
   "cell_type": "code",
   "execution_count": 140,
   "metadata": {},
   "outputs": [
    {
     "data": {
      "text/plain": [
       "11926135976176"
      ]
     },
     "execution_count": 140,
     "metadata": {},
     "output_type": "execute_result"
    }
   ],
   "source": [
    "import re\n",
    "\n",
    "mem = {}\n",
    "for string in open(\"../data/masking_memory.txt\", \"r\").readlines():\n",
    "    instruction, value = string.rstrip().replace(\" \", \"\").split(\"=\")\n",
    "    if instruction == \"mask\":\n",
    "        mask_or = int(value.replace(\"X\", \"0\"), 2)\n",
    "        mask_and = int(value.replace(\"X\", \"1\"), 2)\n",
    "    else:\n",
    "        mem[int(re.findall(r'[[0-9]*]', instruction)[0][1:-1])] = (int(value) | mask_or) & mask_and\n",
    "\n",
    "sum(mem.values())"
   ]
  },
  {
   "cell_type": "code",
   "execution_count": 201,
   "metadata": {},
   "outputs": [],
   "source": [
    "import re\n",
    "\n",
    "def create_all_addresses(address, addresses):\n",
    "    if \"X\" not in address:\n",
    "        addresses.append(int(address,2))\n",
    "        return\n",
    "        \n",
    "    create_all_masks(address.replace(\"X\", \"1\", 1), addresses)\n",
    "    create_all_masks(address.replace(\"X\", \"0\", 1), addresses)\n",
    "    \n",
    "def create_masked_address(address, mask):\n",
    "    address = bin(address)[2:]\n",
    "    address = \"\".join((36-len(address))*[\"0\"]) + address\n",
    "    new_address = []\n",
    "    for i, c in enumerate(mask):\n",
    "        if c == \"X\":\n",
    "            new_address.append(\"X\")\n",
    "        elif c == \"1\":\n",
    "            new_address.append(\"1\")\n",
    "        else:\n",
    "            new_address.append(address[i])\n",
    "            \n",
    "    return \"\".join(new_address)"
   ]
  },
  {
   "cell_type": "code",
   "execution_count": 202,
   "metadata": {},
   "outputs": [
    {
     "data": {
      "text/plain": [
       "4330547254348"
      ]
     },
     "execution_count": 202,
     "metadata": {},
     "output_type": "execute_result"
    }
   ],
   "source": [
    "import re\n",
    "mem = {}\n",
    "for string in open(\"../data/masking_memory.txt\", \"r\").readlines():\n",
    "    instruction, value = string.rstrip().replace(\" \", \"\").split(\"=\")\n",
    "    if instruction == \"mask\":\n",
    "        mask = value\n",
    "    else:\n",
    "        addresses = []\n",
    "        masked_address = create_masked_address(int(re.findall(r'[[0-9]*]', instruction)[0][1:-1]), mask)\n",
    "        create_all_addresses(masked_address, addresses)\n",
    "        for address in addresses:\n",
    "            mem[address] = int(value)\n",
    "            \n",
    "sum(mem.values())"
   ]
  },
  {
   "cell_type": "markdown",
   "metadata": {},
   "source": [
    "### Day 15"
   ]
  },
  {
   "cell_type": "code",
   "execution_count": 8,
   "metadata": {},
   "outputs": [
    {
     "name": "stdout",
     "output_type": "stream",
     "text": [
      "16439\n"
     ]
    }
   ],
   "source": [
    "numbers = [0,1,4,13,15,12,16]\n",
    "spoken = {n:[i] for i, n in enumerate(numbers)}\n",
    "last_number = numbers[-1]\n",
    "i=len(numbers)\n",
    "target = 30000000\n",
    "while True:\n",
    "    if len(spoken[last_number]) < 2:\n",
    "        last_number = 0\n",
    "    else:\n",
    "        last_number = spoken[last_number][-1] - spoken[last_number][-2]\n",
    "    \n",
    "    spoken.setdefault(last_number,[]).append(i)\n",
    "    if len(spoken[last_number]) > 2:\n",
    "        spoken[last_number].pop(0)\n",
    "    i+=1\n",
    "   \n",
    "    if i == 2020:\n",
    "        print(last_number)\n",
    "        break\n",
    "\n",
    "    \n",
    "    \n"
   ]
  },
  {
   "cell_type": "markdown",
   "metadata": {},
   "source": [
    "### Day 16"
   ]
  },
  {
   "cell_type": "code",
   "execution_count": 38,
   "metadata": {},
   "outputs": [],
   "source": [
    "def read_ticketing(file_name):\n",
    "    rules = {}\n",
    "    strings = iter(open(file_name, \"r\").readlines())\n",
    "    \n",
    "    string = next(strings).rstrip().replace(\" \", \"\")\n",
    "    while string != \"\":\n",
    "        field, ranges = string.split(\":\")\n",
    "        for r in ranges.split(\"or\"):\n",
    "            limits = r.split(\"-\")\n",
    "            rules.setdefault(field,[]).append((int(limits[0]), int(limits[1])))\n",
    "        \n",
    "        string = next(strings).rstrip().replace(\" \", \"\")\n",
    "    \n",
    "    next(strings).rstrip().replace(\" \", \"\") # My ticket\n",
    "    my_ticket = [int(s) for s in next(strings).rstrip().replace(\" \", \"\").split(\",\")]   \n",
    "    next(strings).rstrip().replace(\" \", \"\") # Empty line\n",
    "    \n",
    "\n",
    "    string = next(strings).rstrip().replace(\" \", \"\") # Neighbouring tickets\n",
    "\n",
    "    other_tickets = []\n",
    "    string = next(strings).rstrip().replace(\" \", \"\")\n",
    "    while string != \"\":\n",
    "        other_tickets += [[int(s) for s in string.split(\",\")]]\n",
    "        \n",
    "        try:\n",
    "            string = next(strings).rstrip().replace(\" \", \"\")\n",
    "        except:\n",
    "            break\n",
    "\n",
    "    return rules, my_ticket, other_tickets"
   ]
  },
  {
   "cell_type": "code",
   "execution_count": 94,
   "metadata": {},
   "outputs": [
    {
     "name": "stdout",
     "output_type": "stream",
     "text": [
      "23044\n",
      "55 out of 245 were invalid\n"
     ]
    }
   ],
   "source": [
    "def check_rules(entry, rules):\n",
    "    for field, rule in rules.items():\n",
    "        for limits in rule:\n",
    "            if entry >= limits[0] and entry <= limits[1]:\n",
    "                return True\n",
    "    return False\n",
    "\n",
    "rules, my_ticket, other_tickets = read_ticketing(\"../data/ticketing.txt\")\n",
    "\n",
    "error_rate = 0\n",
    "invalid_tickets = []\n",
    "for ticket_no, ticket in enumerate(other_tickets):\n",
    "    for entry in ticket:\n",
    "        if not check_rules(entry, rules):\n",
    "            error_rate+=entry\n",
    "            invalid_tickets += [ticket_no]\n",
    "            break\n",
    "            \n",
    "print(error_rate)\n",
    "print(len(invalid_tickets), \"out of\", len(other_tickets), \"were invalid\")"
   ]
  },
  {
   "cell_type": "code",
   "execution_count": 95,
   "metadata": {},
   "outputs": [
    {
     "name": "stdout",
     "output_type": "stream",
     "text": [
      "3765150732757\n"
     ]
    }
   ],
   "source": [
    "import numpy as np\n",
    "\n",
    "def find_matching_rules(entry, rules):\n",
    "    possible_fields = set()\n",
    "    for field, rule in rules.items():\n",
    "        for limits in rule:\n",
    "            if entry >= limits[0] and entry <= limits[1]:\n",
    "                possible_fields.add(field)\n",
    "                break\n",
    "    return possible_fields\n",
    "\n",
    "\n",
    "possible_field_names = len(my_ticket)*[None]\n",
    "for ticket_no, ticket in enumerate(other_tickets):\n",
    "    if ticket_no in invalid_tickets:\n",
    "        continue\n",
    "        \n",
    "    for field_no, field in enumerate(ticket):\n",
    "        if possible_field_names[field_no] is None:\n",
    "            possible_field_names[field_no] = find_matching_rules(field, rules)\n",
    "        else:\n",
    "            possible_field_names[field_no] = possible_field_names[field_no].intersection(find_matching_rules(field, rules))\n",
    "\n",
    "ordering = np.argsort([len(f) for f in possible_field_names])\n",
    "field_names = len(my_ticket)*[None]\n",
    "for i, idx in enumerate(ordering):\n",
    "    field_names[idx] = possible_field_names[idx].pop()\n",
    "    \n",
    "    for j in range(i+1, len(ordering)):\n",
    "        possible_field_names[ordering[j]].remove(field_names[idx])\n",
    "        \n",
    "\n",
    "product = 1\n",
    "for i, field_name in enumerate(field_names):\n",
    "    if \"departure\" in field_name:\n",
    "        product *= my_ticket[i]\n",
    "        \n",
    "print(product)\n",
    "    "
   ]
  },
  {
   "cell_type": "markdown",
   "metadata": {},
   "source": [
    "### Day 17"
   ]
  },
  {
   "cell_type": "code",
   "execution_count": 139,
   "metadata": {},
   "outputs": [
    {
     "name": "stdout",
     "output_type": "stream",
     "text": [
      "448\n"
     ]
    }
   ],
   "source": [
    "import numpy as np\n",
    "cubes = np.array([list(string.rstrip()) for string in open(\"../data/conway_cubes.txt\", \"r\").readlines()])\n",
    "cubes = np.expand_dims(cubes, 0)\n",
    "\n",
    "no_cycles = 6\n",
    "vis=False\n",
    "\n",
    "for cycle in range(no_cycles):\n",
    "    change_idx = {}\n",
    "    if vis:\n",
    "        print(\"Cycle\", cycle)\n",
    "        print(cubes)\n",
    "    cubes = np.pad(cubes, [(1, 1), (1, 1), (1,1)], mode='constant', constant_values=\".\")\n",
    "\n",
    "    depth, rows, cols = cubes.shape\n",
    "    for i in range(depth):\n",
    "        for j in range(rows):\n",
    "            for k in range(cols):\n",
    "                active_neighbours = cubes[max(i-1,0):min(i+2,depth), max(j-1,0):min(j+2,rows),max(k-1,0):min(k+2,cols)] == \"#\"\n",
    "                if cubes[i,j,k] == \"#\" and np.count_nonzero(active_neighbours) != 3 and np.count_nonzero(active_neighbours) != 4:\n",
    "                    change_idx[(i,j,k)] = \".\"\n",
    "                elif cubes[i,j,k] == \".\" and np.count_nonzero(active_neighbours) == 3:\n",
    "                    change_idx[(i,j,k)] = \"#\"\n",
    "\n",
    "    \n",
    "    for k, v in change_idx.items():\n",
    "        cubes[k] = v\n",
    "    depth_active, row_active, col_active = np.where(cubes == \"#\")\n",
    "\n",
    "    cubes=cubes[depth_active.min():depth_active.max()+1, row_active.min():row_active.max()+1, col_active.min():col_active.max()+1]\n",
    "\n",
    "if vis:\n",
    "    print(\"Cycle\", no_cycles)\n",
    "    print(cubes)\n",
    "\n",
    "print(np.count_nonzero(cubes==\"#\"))\n"
   ]
  },
  {
   "cell_type": "code",
   "execution_count": 225,
   "metadata": {},
   "outputs": [
    {
     "name": "stdout",
     "output_type": "stream",
     "text": [
      "2400\n"
     ]
    }
   ],
   "source": [
    "import numpy as np\n",
    "cubes = np.array([list(string.rstrip()) for string in open(\"../data/conway_cubes.txt\", \"r\").readlines()])\n",
    "cubes = np.expand_dims(cubes, 0)\n",
    "cubes = np.expand_dims(cubes, 0)\n",
    "\n",
    "no_cycles = 6\n",
    "vis=False\n",
    "\n",
    "for cycle in range(no_cycles):\n",
    "    change_idx = {}\n",
    "    if vis:\n",
    "        print(\"Cycle\", cycle)\n",
    "        print(cubes)\n",
    "    cubes = np.pad(cubes, [(1, 1), (1, 1), (1,1), (1,1)], mode='constant', constant_values=\".\")\n",
    "\n",
    "    dims = cubes.shape\n",
    "    for i in range(dims[0]):\n",
    "        for j in range(dims[1]):\n",
    "            for k in range(dims[2]):\n",
    "                for l in range(dims[3]):\n",
    "                    active_neighbours = cubes[max(i-1,0):min(i+2,dims[0]), max(j-1,0):min(j+2,dims[1]),max(k-1,0):min(k+2,dims[2]),max(l-1,0):min(l+2,dims[3])] == \"#\"\n",
    "                    if cubes[i,j,k,l] == \"#\" and np.count_nonzero(active_neighbours) != 3 and np.count_nonzero(active_neighbours) != 4:\n",
    "                        change_idx[(i,j,k,l)] = \".\"\n",
    "                    elif cubes[i,j,k,l] == \".\" and np.count_nonzero(active_neighbours) == 3:\n",
    "                        change_idx[(i,j,k,l)] = \"#\"\n",
    "\n",
    "    \n",
    "    for k, v in change_idx.items():\n",
    "        cubes[k] = v\n",
    "    dims_active = np.where(cubes == \"#\")\n",
    "\n",
    "    cubes=cubes[dims_active[0].min():dims_active[0].max()+1, dims_active[1].min():dims_active[1].max()+1, dims_active[2].min():dims_active[2].max()+1, dims_active[3].min():dims_active[3].max()+1]\n",
    "if vis:\n",
    "    print(\"Cycle\", no_cycles)\n",
    "    print(cubes)\n",
    "\n",
    "print(np.count_nonzero(cubes==\"#\"))"
   ]
  },
  {
   "cell_type": "markdown",
   "metadata": {},
   "source": [
    "### Day 18"
   ]
  },
  {
   "cell_type": "code",
   "execution_count": 214,
   "metadata": {},
   "outputs": [
    {
     "name": "stdout",
     "output_type": "stream",
     "text": [
      "3348222486398\n"
     ]
    }
   ],
   "source": [
    "import re\n",
    "import operator\n",
    "\n",
    "def calculate(formula):\n",
    "    result = None\n",
    "    \n",
    "    operation = None\n",
    "    number = \"\"\n",
    "    \n",
    "    term_no =0\n",
    "    while term_no < len(formula):\n",
    "        if formula[term_no] ==\"+\":\n",
    "            if result is None:\n",
    "                result = int(number)\n",
    "            else:\n",
    "                result = operation(result, int(number))\n",
    "            operation = operator.add           \n",
    "            number = \"\"\n",
    "        elif formula[term_no] == \"*\":\n",
    "            if result is None:\n",
    "                result = int(number)\n",
    "            else:\n",
    "                result = operation(result, int(number))\n",
    "            operation = operator.mul\n",
    "            number = \"\"\n",
    "        elif formula[term_no] == \"(\":\n",
    "            par_open = term_no+1\n",
    "            par_openings=[]\n",
    "            for i, char in enumerate(formula[term_no:]):\n",
    "                if char == \"(\":\n",
    "                    par_openings.append(i)\n",
    "                elif char == \")\":\n",
    "                    par_openings.pop()\n",
    "                \n",
    "                if not par_openings:\n",
    "                    par_close = term_no + i\n",
    "                    break\n",
    "            number = calculate(formula[par_open:par_close])\n",
    "            term_no = par_close\n",
    "        else:\n",
    "            number += formula[term_no]\n",
    "            \n",
    "        term_no +=1\n",
    "    \n",
    "    result = operation(result, int(number))\n",
    "    return result\n",
    "        \n",
    "\n",
    "formulas = [string.rstrip().replace(\" \",\"\") for string in open(\"../data/new_maths.txt\", \"r\").readlines()]\n",
    "\n",
    "total = 0\n",
    "for formula in formulas:\n",
    "    total += calculate(formula)\n",
    "    \n",
    "print(total)\n",
    "    "
   ]
  },
  {
   "cell_type": "code",
   "execution_count": 215,
   "metadata": {},
   "outputs": [
    {
     "name": "stdout",
     "output_type": "stream",
     "text": [
      "43423343619505\n"
     ]
    }
   ],
   "source": [
    "import re\n",
    "import operator\n",
    "\n",
    "def calculate_precedence(formula, precedence = [\"+\", \"*\"]):\n",
    "    result = None\n",
    "    \n",
    "    operation = None\n",
    "    number = \"\"\n",
    "    \n",
    "    term_no =0\n",
    "    terms = []\n",
    "    while term_no < len(formula):\n",
    "        if formula[term_no] ==\"+\":\n",
    "            terms += [int(number)]\n",
    "            terms += [\"+\"]\n",
    "            number = \"\"\n",
    "        elif formula[term_no] == \"*\":\n",
    "            terms += [int(number)]\n",
    "            terms += [\"*\"]\n",
    "            number = \"\"\n",
    "        elif formula[term_no] == \"(\":\n",
    "            par_open = term_no+1\n",
    "            par_openings=[]\n",
    "            for i, char in enumerate(formula[term_no:]):\n",
    "                if char == \"(\":\n",
    "                    par_openings.append(i)\n",
    "                elif char == \")\":\n",
    "                    par_openings.pop()\n",
    "    \n",
    "                if not par_openings:\n",
    "                    par_close = term_no + i\n",
    "                    break\n",
    "            number = calculate_precedence(formula[par_open:par_close], precedence=precedence)\n",
    "            term_no = par_close\n",
    "        else:\n",
    "            number += formula[term_no]\n",
    "            \n",
    "        term_no +=1\n",
    "    \n",
    "    if number != \"\":\n",
    "        terms += [int(number)]\n",
    "\n",
    "    for op in precedence:\n",
    "        term_no = 0\n",
    "        while term_no < len(terms):\n",
    "            if terms[term_no] == op:\n",
    "                num1 = terms.pop(term_no+1)\n",
    "                num2 = terms.pop(term_no-1)\n",
    "                if op == \"+\":\n",
    "                    result=num1 + num2\n",
    "                elif op == \"*\":\n",
    "                    result=num1 * num2\n",
    "                terms[term_no-1] = result\n",
    "            else:\n",
    "                term_no += 1\n",
    "    \n",
    "    return terms[0]\n",
    "        \n",
    "formulas = [string.rstrip().replace(\" \",\"\") for string in open(\"../data/new_maths.txt\", \"r\").readlines()]\n",
    "\n",
    "\n",
    "total = 0\n",
    "for formula in formulas:\n",
    "    total += calculate_precedence(formula)\n",
    "    \n",
    "print(total)\n",
    "    "
   ]
  },
  {
   "cell_type": "markdown",
   "metadata": {},
   "source": [
    "### Day 19"
   ]
  },
  {
   "cell_type": "code",
   "execution_count": 234,
   "metadata": {},
   "outputs": [],
   "source": [
    "def read_rules(file_name):\n",
    "    rules = {}\n",
    "    strings = open(file_name, \"r\").readlines()\n",
    "    \n",
    "    for i, string in enumerate(strings):\n",
    "        string = string.rstrip()\n",
    "        if string == \"\":\n",
    "            break\n",
    "            \n",
    "        rule_no, composition = string.split(\":\")\n",
    "        rules.update({int(rule_no):[c.lstrip().rstrip().split(\" \") for c in composition.split(\"|\")]})\n",
    "    \n",
    "    \n",
    "    strings=[s.rstrip() for s in strings[i:]]\n",
    "\n",
    "    return rules, strings\n"
   ]
  },
  {
   "cell_type": "code",
   "execution_count": 284,
   "metadata": {},
   "outputs": [
    {
     "name": "stdout",
     "output_type": "stream",
     "text": [
      "3\n",
      "abbbbbabbbaaaababbaabbbbabababbbabbbbbbabaaaa\n",
      "bbabbbbaabaabba\n",
      "babbbbaabbbbbabbbbbbaabaaabaaa\n",
      "aaabbbbbbaaaabaababaabababbabaaabbababababaaa\n",
      "bbbbbbbaaaabbbbaaabbabaaa\n",
      "bbbababbbbaaaaaaaabbababaaababaabab\n",
      "ababaaaaaabaaab\n",
      "ababaaaaabbbaba\n",
      "baabbaaaabbaaaababbaababb\n",
      "abbbbabbbbaaaababbbbbbaaaababb\n",
      "aaaaabbaabaaaaababaa\n",
      "aaaabbaaaabbaaa\n",
      "aaaabbaabbaaaaaaabbbabbbaaabbaabaaa\n",
      "aabbbbbaabbbaaaaaabbbbbababaaaaabbaaabba\n"
     ]
    }
   ],
   "source": [
    "import re\n",
    "\n",
    "def create_regex(rules, node, visited={}):\n",
    "    regex_string = \"\"\n",
    "    \n",
    "    if node not in visited:\n",
    "        for i, group in enumerate(rules[node]):\n",
    "            if i == 0:\n",
    "                    regex_string += \"(\"\n",
    "            else:\n",
    "                regex_string += \"|\"\n",
    "                \n",
    "            if  group[0].startswith(\"\\\"\"):\n",
    "                regex_string += group[0].replace(\"\\\"\", \"\")\n",
    "            else:\n",
    "                for rule in group:\n",
    "                    regex_string += create_regex(rules, int(rule), visited)\n",
    "        regex_string += \")\"\n",
    "        visited[node] = regex_string\n",
    "    else:\n",
    "        regex_string = visited[node]\n",
    "    \n",
    "    return regex_string\n",
    "    \n",
    "    \n",
    "    \n",
    "rules, strings = read_rules(\"../data/elf_rules.txt\")\n",
    "rule_regexes = {}\n",
    "create_regex(rules, 0, rule_regexes)\n",
    "\n",
    "regex = re.compile(\"^\"+rule_regexes[0]+\"$\")\n",
    "total = 0\n",
    "for s in strings:\n",
    "    if regex.match(s):\n",
    "        total+=1\n",
    "print(total)"
   ]
  },
  {
   "cell_type": "code",
   "execution_count": 325,
   "metadata": {},
   "outputs": [
    {
     "name": "stdout",
     "output_type": "stream",
     "text": [
      "407\n"
     ]
    }
   ],
   "source": [
    "def create_regex_loops(rules, node, number=1, visited={}):\n",
    "    regex_string = \"\"\n",
    "    \n",
    "    if node not in visited:\n",
    "        for i, group in enumerate(rules[node]):\n",
    "            if i == 0:\n",
    "                    regex_string += \"(\"\n",
    "            else:\n",
    "                regex_string += \"|\"\n",
    "                \n",
    "            if  group[0].startswith(\"\\\"\"):\n",
    "                regex_string += group[0].replace(\"\\\"\", \"\")\n",
    "            else:\n",
    "                for rule in group:\n",
    "                    if node == 11:\n",
    "                        regex_string += \"(\"+create_regex_loops(rules, int(rule), number, visited) + \"){\"+ str(number) +\"}\"\n",
    "                    else:\n",
    "                        regex_string += create_regex_loops(rules, int(rule), number, visited)\n",
    "                    \n",
    "            \n",
    "            if node == 8:\n",
    "                regex_string = \"(\" + regex_string + \")+\"\n",
    "        regex_string += \")\"\n",
    "        visited[node] = regex_string\n",
    "    else:\n",
    "        regex_string = visited[node]\n",
    "    \n",
    "    return regex_string\n",
    "\n",
    "rules, strings = read_rules(\"../data/elf_rules.txt\")\n",
    "\n",
    "\n",
    "matches = set()\n",
    "prev_length = -1\n",
    "i=1\n",
    "while(len(matches) != prev_length):\n",
    "    prev_length = len(matches)\n",
    "    rule_regexes = {}\n",
    "    create_regex_loops(rules, 0, i, rule_regexes)`\n",
    "    regex = re.compile(\"^\"+rule_regexes[0]+\"$\")\n",
    "    for s in strings:\n",
    "        if regex.match(s):\n",
    "            matches.add(s)\n",
    "    i += 1\n",
    "\n",
    "print(len(matches))"
   ]
  },
  {
   "cell_type": "markdown",
   "metadata": {},
   "source": [
    "### Day 20"
   ]
  },
  {
   "cell_type": "code",
   "execution_count": 112,
   "metadata": {},
   "outputs": [],
   "source": [
    "import numpy as np\n",
    "\n",
    "def read_tiles(file_name):\n",
    "    tiles = {}\n",
    "    strings = open(file_name, \"r\").readlines()\n",
    "    \n",
    "    for string in strings:\n",
    "        string = string.rstrip()\n",
    "        if string.startswith(\"Tile \"):\n",
    "            tile_no =  int(string.replace(\"Tile \", \"\").replace(\":\", \"\"))\n",
    "            tile = []\n",
    "        elif string == \"\":\n",
    "            tiles[tile_no] = np.array(tile)\n",
    "        else:\n",
    "            tile.append(list(string.rstrip()))\n",
    "    \n",
    "    tiles[tile_no] = np.array(tile)\n",
    "    return tiles"
   ]
  },
  {
   "cell_type": "code",
   "execution_count": 113,
   "metadata": {},
   "outputs": [
    {
     "name": "stdout",
     "output_type": "stream",
     "text": [
      "{3469: {0: 2239, 1: 3701, 2: 1997, 3: 1621}, 2239: {2: 3469, 0: 1009, 3: 2687, 1: 2347}, 3701: {3: 3469, 2: 2687, 1: 2833, 0: 1201}, 1997: {0: 3469, 2: 2179, 1: 1429, 3: 1201}, 1621: {2: 3469, 1: 1429, 3: 2347, 0: 3257}, 3739: {0: 1847, 1: 3217, 2: 2039, 3: 2179}, 1847: {1: 3739, 2: 3919, 3: 1093, 0: 2621}, 3217: {3: 3739, 1: 3559, 2: 3299, 0: 2621}, 2039: {3: 3739, 0: 3299, 1: 3881, 2: 3617}, 2179: {1: 3739, 0: 3617, 2: 3919, 3: 1997}, 3581: {0: 1303, 1: 1907, 2: 2887, 3: 3677}, 1303: {0: 3581, 1: 2647, 2: 3019, 3: 2557}, 1907: {1: 3581, 3: 2381, 0: 1777, 2: 2557}, 2887: {2: 3581, 0: 2143, 1: 1777, 3: 1579}, 3677: {1: 3581, 0: 1579, 2: 2647, 3: 3527}, 2521: {0: 1229, 1: 1483, 2: 2711, 3: 2017}, 1229: {3: 2521, 1: 2267, 0: 1447, 2: 2437}, 1483: {1: 2521, 0: 2551, 2: 2437, 3: 1097}, 2711: {0: 2521, 1: 3329, 2: 1297, 3: 2551}, 2017: {1: 2521, 0: 1447, 2: 3329, 3: 3527}, 2729: {0: 3329, 1: 3527, 2: 2647, 3: 2383}, 3329: {1: 2729, 2: 2017, 0: 1459, 3: 2711}, 3527: {1: 2729, 2: 2017, 3: 3373, 0: 3677}, 2647: {0: 2729, 3: 3677, 2: 1303, 1: 3613}, 2383: {3: 2729, 2: 1459, 0: 3613, 1: 2371}, 2137: {0: 3257, 1: 2129, 2: 2749, 3: 1429}, 3257: {1: 2137, 3: 2657, 0: 1621, 2: 3467}, 2129: {2: 2137, 0: 2957, 3: 2851, 1: 3467}, 2749: {3: 2137, 2: 3919, 1: 1093, 0: 2851}, 1429: {1: 2137, 0: 1621, 2: 3919, 3: 1997}, 1451: {0: 2143, 2: 3313, 3: 1777}, 2143: {1: 1451, 3: 1283, 0: 2887}, 3313: {2: 1451, 3: 1999, 0: 3221}, 1777: {2: 1451, 1: 1999, 0: 1907, 3: 2887}, 2927: {0: 2657, 1: 2837, 3: 1823}, 2657: {1: 2927, 0: 2693, 2: 2347, 3: 3257}, 2837: {2: 2927, 3: 2693, 0: 2081}, 1823: {1: 2927, 3: 1009, 0: 2347}, 3617: {1: 2179, 3: 1123, 0: 1201, 2: 2039}, 3919: {3: 2179, 2: 1429, 0: 1847, 1: 2749}, 2267: {1: 3989, 2: 1229, 3: 1453}, 3989: {3: 2267, 0: 1447, 1: 3803}, 1453: {0: 2267, 2: 3413, 3: 2437}, 2423: {0: 2243, 1: 1019, 2: 1669, 3: 3727}, 2243: {2: 2423, 1: 1663, 3: 2203}, 1019: {2: 2423, 3: 2131, 1: 1663, 0: 1471}, 1669: {2: 2423, 1: 2897, 0: 3943, 3: 2131}, 3727: {1: 2423, 2: 2897, 3: 3499, 0: 2203}, 1447: {3: 3989, 1: 2017, 0: 3373, 2: 1229}, 3803: {1: 3989, 3: 1283, 2: 3373}, 1913: {0: 2687, 1: 1009, 3: 3931}, 2687: {0: 1913, 1: 2239, 2: 3701, 3: 2251}, 1009: {1: 1913, 2: 2239, 3: 1823}, 3931: {1: 1913, 0: 2251}, 1277: {0: 3557, 1: 2879, 2: 2131, 3: 3943}, 3557: {2: 1277, 3: 3559, 1: 3457, 0: 2621}, 2879: {3: 1277, 2: 3719, 0: 3457, 1: 2339}, 2131: {2: 1277, 1: 3719, 3: 1669, 0: 1019}, 3943: {3: 1277, 0: 3559, 1: 2819, 2: 1669}, 1999: {0: 3169, 1: 2381, 2: 1777, 3: 3313}, 3169: {2: 1999, 3: 3659, 1: 3221}, 2381: {1: 1999, 0: 3659, 2: 1907, 3: 1753}, 2803: {0: 2029, 1: 2339, 2: 3457, 3: 1109}, 2029: {3: 2803, 0: 2371, 1: 3613, 2: 1867}, 2339: {0: 2803, 3: 2879, 1: 1867, 2: 1213}, 3457: {0: 2803, 1: 1493, 3: 2879, 2: 3557}, 1109: {0: 2803, 1: 2371, 2: 2293, 3: 1493}, 1801: {0: 2371, 1: 1459, 2: 2309, 3: 2293}, 2371: {0: 1801, 1: 1109, 3: 2383, 2: 2029}, 1459: {1: 1801, 3: 3329, 0: 2383, 2: 1297}, 2309: {0: 1801, 2: 2957, 3: 1297, 1: 2851}, 2293: {1: 1801, 0: 1109, 3: 1093, 2: 2851}, 3719: {0: 2879, 1: 2131, 2: 1471, 3: 1213}, 1471: {0: 3719, 3: 2593, 2: 1733, 1: 1019}, 1213: {1: 3719, 2: 2593, 0: 2339, 3: 1697}, 3659: {3: 2381, 0: 3169, 2: 3517}, 1753: {1: 2381, 3: 3923, 0: 2557, 2: 3517}, 2593: {0: 1471, 1: 3779, 2: 2477, 3: 1213}, 3779: {0: 2593, 1: 1733, 3: 1789}, 2477: {0: 2593, 2: 3923, 1: 1789, 3: 1697}, 3559: {0: 3511, 1: 3943, 2: 3557, 3: 3217}, 3511: {3: 3559, 2: 3299, 1: 2999, 0: 2819}, 2953: {0: 1091, 1: 1367, 2: 3301, 3: 2617}, 1091: {2: 2953, 3: 3391, 0: 1511, 1: 2153}, 1367: {3: 2953, 0: 2549, 1: 2843, 2: 3391}, 3301: {0: 2953, 2: 2693, 3: 2081, 1: 2549}, 2617: {3: 2953, 0: 2153, 2: 2081}, 1283: {0: 3803, 1: 1579, 2: 2143}, 1579: {1: 1283, 0: 3373, 3: 3677, 2: 2887}, 2897: {0: 2819, 1: 1669, 2: 3727, 3: 3709}, 2819: {2: 2897, 1: 3943, 3: 1931, 0: 3511}, 3709: {3: 2897, 2: 3499, 0: 1931}, 1733: {1: 3779, 2: 1471, 3: 1663}, 1789: {2: 3779, 0: 1129, 3: 2477}, 2693: {0: 3467, 1: 3301, 2: 2837, 3: 2657}, 3467: {2: 2693, 1: 3257, 3: 2549, 0: 2129}, 3413: {2: 1453, 0: 2609, 3: 1031}, 2437: {1: 1453, 0: 1229, 3: 1483, 2: 1031}, 1297: {1: 1459, 0: 2711, 2: 2309, 3: 2843}, 1493: {3: 1109, 0: 3457, 1: 2621, 2: 1093}, 1129: {0: 1789, 2: 3517, 3: 3923}, 3517: {3: 1129, 1: 3659, 2: 1753}, 3923: {0: 1129, 1: 1753, 2: 1051, 3: 2477}, 2081: {2: 2837, 0: 2617, 3: 3301}, 3299: {0: 2539, 1: 3511, 2: 3217, 3: 2039}, 2539: {1: 3299, 0: 3881, 2: 2999}, 2621: {1: 1493, 3: 3217, 0: 1847, 2: 3557}, 1093: {2: 1493, 0: 2749, 1: 1847, 3: 2293}, 2251: {3: 3931, 0: 2687, 1: 2833}, 2153: {0: 2617, 1: 1091, 2: 1223}, 3613: {3: 2383, 1: 3019, 0: 2029, 2: 2647}, 3373: {0: 1447, 1: 3527, 2: 1579, 3: 3803}, 3323: {0: 3499, 3: 2203}, 3499: {3: 3323, 0: 3727, 1: 3709}, 2203: {2: 3323, 0: 2243, 1: 3727}, 3019: {2: 1303, 0: 1867, 1: 1051, 3: 3613}, 2557: {0: 1303, 3: 1907, 1: 1051, 2: 1753}, 1051: {2: 3923, 0: 3019, 3: 2557, 1: 1697}, 2347: {1: 2239, 0: 1823, 3: 2657, 2: 1621}, 2551: {1: 2711, 3: 3391, 2: 2843, 0: 1483}, 1123: {0: 1321, 2: 3881, 3: 3617}, 1321: {1: 1123, 3: 2833, 2: 1201}, 3881: {3: 1123, 1: 2539, 2: 2039}, 1867: {2: 3019, 0: 2339, 3: 2029, 1: 1697}, 3529: {0: 1031, 1: 2609, 2: 2719, 3: 1511}, 1031: {2: 3529, 3: 3413, 0: 2437, 1: 1097}, 2609: {3: 3529, 0: 3413, 2: 3343}, 2719: {2: 3529, 3: 1223, 1: 3343}, 1511: {1: 3529, 3: 1091, 0: 1223, 2: 1097}, 1663: {1: 1733, 3: 2243, 2: 1019}, 2549: {1: 1367, 0: 2957, 2: 3301, 3: 3467}, 2843: {2: 1367, 3: 2957, 0: 1297, 1: 2551}, 3391: {3: 1367, 0: 2551, 1: 1097, 2: 1091}, 1097: {2: 3391, 3: 1483, 1: 1511, 0: 1031}, 2957: {0: 2843, 1: 2549, 2: 2129, 3: 2309}, 1697: {2: 2477, 1: 1051, 0: 1867, 3: 1213}, 2999: {3: 2539, 0: 3511, 1: 1931}, 2833: {0: 2251, 2: 1321, 3: 3701}, 3343: {2: 2609, 3: 2719}, 1201: {0: 3701, 1: 1321, 2: 3617, 3: 1997}, 1931: {2: 2999, 0: 3709, 3: 2819}, 1223: {1: 1511, 0: 2719, 2: 2153}, 3221: {0: 3169, 3: 3313}, 2851: {0: 2309, 1: 2129, 2: 2749, 3: 2293}}\n",
      "3931\n",
      "3323\n",
      "3343\n",
      "3221\n",
      "140656720229539\n"
     ]
    }
   ],
   "source": [
    "def get_borders(tile):\n",
    "    # Order is up, right, down, left\n",
    "    return tile[0, :], tile[:, -1], tile[-1,:], tile[:, 0]\n",
    "\n",
    "def find_neighbours(tiles, selected_tile_no, neighbours={}):  \n",
    "    for border_type, border in enumerate(get_borders(tiles[selected_tile_no])): # Search at each border\n",
    "        if selected_tile_no in neighbours:\n",
    "            if len(neighbours[selected_tile_no]) == 4: # If you have 4 neighbours then stop\n",
    "                break\n",
    "            \n",
    "            if border_type in neighbours[selected_tile_no]:# If you have searched a border skip it\n",
    "                continue\n",
    "            \n",
    "        for tile_no, tile in tiles.items():\n",
    "            if tile_no == selected_tile_no:\n",
    "                continue\n",
    "\n",
    "            for other_border_type, other_border in enumerate(get_borders(tiles[tile_no])):\n",
    "                if np.array_equal(other_border, border) or np.array_equal(np.flip(other_border), border):\n",
    "                    neighbours.setdefault(selected_tile_no, {}).setdefault(border_type, tile_no)\n",
    "                    neighbours.setdefault(tile_no, {}).setdefault(other_border_type, selected_tile_no)\n",
    "    \n",
    "tiles = read_tiles(\"../data/tiles.txt\")\n",
    "\n",
    "neighbours = {}\n",
    "for tile_number in tiles.keys():\n",
    "    find_neighbours(tiles, tile_number, neighbours)\n",
    "\n",
    "product = 1\n",
    "for tile_no, nbrs in neighbours.items():\n",
    "    if len(nbrs) == 2:\n",
    "        print(tile_no)\n",
    "        product*= tile_no\n",
    "\n",
    "print(product)"
   ]
  },
  {
   "cell_type": "code",
   "execution_count": 114,
   "metadata": {},
   "outputs": [
    {
     "data": {
      "text/plain": [
       "1885"
      ]
     },
     "execution_count": 114,
     "metadata": {},
     "output_type": "execute_result"
    },
    {
     "data": {
      "image/png": "[encoded data removed]",
      "text/plain": [
       "<Figure size 432x288 with 1 Axes>"
      ]
     },
     "metadata": {
      "needs_background": "light"
     },
     "output_type": "display_data"
    }
   ],
   "source": [
    "from scipy import signal\n",
    "from matplotlib.pyplot import imshow\n",
    "%matplotlib inline\n",
    "\n",
    "def no_flip(x):\n",
    "    return x\n",
    "\n",
    "def get_slice(tile, direction):\n",
    "    if direction == 0:\n",
    "        return tile[0, :]\n",
    "    elif direction == 1: \n",
    "        return tile[:, -1]\n",
    "    elif direction ==2:\n",
    "        return tile[-1,:]\n",
    "    else:\n",
    "        return tile[:, 0]\n",
    "    \n",
    "def get_position(direction, position):\n",
    "    if direction == 0:\n",
    "        return (position[0]-1, position[1])\n",
    "    elif direction == 1:\n",
    "        return (position[0], position[1]+1)\n",
    "    elif direction == 2:\n",
    "        return (position[0]+1, position[1])\n",
    "    else:\n",
    "        return (position[0], position[1]-1)\n",
    "    \n",
    "def check_match(tile, neighbour, position):\n",
    "    for border_type, border in enumerate(get_borders(tile)):\n",
    "        for rotations in range(4):\n",
    "            rotated = np.rot90(neighbour, k=rotations)\n",
    "            if np.array_equal(border, get_slice(rotated, opposite(border_type))):\n",
    "                return rotated, get_position(border_type, position)\n",
    "            elif np.array_equal(border, np.flip(get_slice(rotated, opposite(border_type)))):\n",
    "                if border_type % 2 == 0:\n",
    "                    return np.fliplr(rotated), get_position(border_type, position) \n",
    "                else:\n",
    "                    return np.flipud(rotated), get_position(border_type, position) \n",
    "\n",
    "\n",
    "def opposite(direction):\n",
    "    return (direction+2)%4\n",
    "\n",
    "def arrange_tiles(tiles, tile_no, neighbours, visited, altered=None, position=(0,0)):\n",
    "    if altered is None:\n",
    "        altered = set()\n",
    "    if position not in visited:\n",
    "        visited[position] = tiles[tile_no][1:-1, 1:-1] == \"#\"\n",
    "        \n",
    "        for neighbour in neighbours[tile_no].values():\n",
    "            rotated, nb_pos = check_match(tiles[tile_no], tiles[neighbour], position)\n",
    "            if neighbour not in altered:\n",
    "                altered.add(neighbour)\n",
    "                tiles[neighbour] = rotated\n",
    "                            \n",
    "            arrange_tiles(tiles, neighbour, neighbours, visited, altered, nb_pos)\n",
    "\n",
    "\n",
    "layout={}\n",
    "tiles = read_tiles(\"../data/tiles.txt\")\n",
    "arrange_tiles(tiles, list(tiles.keys())[0] , neighbours, layout)\n",
    "\n",
    "min_i =  min_j = 300\n",
    "max_i = max_j = -300\n",
    "for k in layout:\n",
    "    min_i = min(min_i, k[0])\n",
    "    min_j = min(min_j, k[1])\n",
    "    max_i = max(max_i, k[0])\n",
    "    max_j = max(max_j, k[1])\n",
    "\n",
    "height=(max_i + 1 - min_i) * 8\n",
    "width=(max_j + 1 - min_j) * 8\n",
    "\n",
    "image = np.empty((height, width))\n",
    "for i in range(min_i, max_i+1):\n",
    "    for j in range(min_j, max_j+1):\n",
    "        n_i = i-min_i\n",
    "        n_j = j-min_j\n",
    "        image[n_i*8:(n_i+1)*8, n_j*8:(n_j+1)*8] = layout[(i, j)]\n",
    "\n",
    "\n",
    "filtr = np.array([[0,0,0,0,0,0,0,0,0,0,0,0,0,0,0,0,0,0,1,0],\n",
    "                   [1,0,0,0,0,1,1,0,0,0,0,1,1,0,0,0,0,1,1,1],\n",
    "                   [0,1,0,0,1,0,0,1,0,0,1,0,0,1,0,0,1,0,0,0]])\n",
    "\n",
    "filter_h, filter_w = filtr.shape\n",
    "\n",
    "monster_img = None\n",
    "for rotations in range(4):\n",
    "    rotated_image = np.rot90(image, k=rotations)\n",
    "    height, width = rotated_image.shape\n",
    "\n",
    "    count_rot = 0\n",
    "    for i in range(height - filter_h):\n",
    "        for j in range(width - filter_w):\n",
    "            if np.array_equal(np.logical_and(rotated_image[i:i+filter_h, j:j+filter_w], filtr), filtr):\n",
    "                count_rot += 1\n",
    "    if count_rot != 0:\n",
    "        monster_img = rotated_image\n",
    "        break\n",
    "\n",
    "    \n",
    "    count_lr = 0\n",
    "    flipped_lr = np.fliplr(rotated_image)\n",
    "    height, width = flipped_lr.shape\n",
    "\n",
    "    for i in range(height - filter_h):\n",
    "        for j in range(width - filter_w):\n",
    "            if np.array_equal(np.logical_and(flipped_lr[i:i+filter_h, j:j+filter_w], filtr), filtr):\n",
    "                count_lr += 1\n",
    "    \n",
    "    if count_lr != 0:\n",
    "        monster_img = flipped_lr\n",
    "        break       \n",
    "\n",
    "                \n",
    "    count_ud = 0\n",
    "    flipped_ud = np.flipud(rotated_image)\n",
    "    height, width = flipped_ud.shape\n",
    "    for i in range(height - filter_h):\n",
    "        for j in range(width - filter_w):\n",
    "            if np.array_equal(np.logical_and(flipped_ud[i:i+filter_h, j:j+filter_w], filtr), filtr):\n",
    "                count_ud += 1\n",
    "            \n",
    "    if count_ud != 0:\n",
    "        monster_img = flipped_ud\n",
    "        break\n",
    "        \n",
    "height, width = monster_img.shape\n",
    "for i in range(height - filter_h):\n",
    "    for j in range(width - filter_w):\n",
    "        if np.array_equal(np.logical_and(monster_img[i:i+filter_h, j:j+filter_w], filtr), filtr):\n",
    "            monster_img[i:i+filter_h, j:j+filter_w][np.where(filtr)] = -1\n",
    "\n",
    "#image is a numpy array\n",
    "imshow(monster_img)\n",
    "np.count_nonzero(monster_img == 1)\n",
    "\n",
    "\n",
    "\n",
    "\n"
   ]
  },
  {
   "cell_type": "markdown",
   "metadata": {},
   "source": [
    "### Day 21"
   ]
  },
  {
   "cell_type": "code",
   "execution_count": 163,
   "metadata": {},
   "outputs": [
    {
     "name": "stdout",
     "output_type": "stream",
     "text": [
      "2627\n"
     ]
    }
   ],
   "source": [
    "def read_ingredients(file_name):\n",
    "    strings = open(file_name, \"r\").readlines()\n",
    "    allergens = {}\n",
    "    ingredients = set()\n",
    "    items = []\n",
    "    for string in strings:\n",
    "        item_ingredients, item_allergens = string.split(\"(contains \")\n",
    "        item_ingredients = set(item_ingredients.lstrip().rstrip().split(\" \"))\n",
    "        items.append(item_ingredients)\n",
    "        ingredients = ingredients.union(item_ingredients)\n",
    "        for allergen in item_allergens.replace(\" \", \"\").rstrip().rstrip(\")\").split(\",\"):\n",
    "            if allergen in allergens:\n",
    "                allergens[allergen] = allergens[allergen].intersection(item_ingredients)\n",
    "            else:\n",
    "                allergens[allergen] = item_ingredients\n",
    "        \n",
    "    return allergens, ingredients, items\n",
    "\n",
    "        \n",
    "allergens, ingredients, items = read_ingredients(\"../data/ingredients.txt\")\n",
    "\n",
    "ingredients_with_allergens = set()\n",
    "for allergen_ingredients in allergens.values():\n",
    "    ingredients_with_allergens = ingredients_with_allergens.union(allergen_ingredients)\n",
    "    \n",
    "ingredients_without_allergens = ingredients - ingredients_with_allergens\n",
    "\n",
    "count = 0\n",
    "for item in items:\n",
    "    for ingredient_wo_allergen in ingredients_without_allergens:\n",
    "        if ingredient_wo_allergen in item:\n",
    "            count += 1\n",
    "print(count)\n"
   ]
  },
  {
   "cell_type": "code",
   "execution_count": 164,
   "metadata": {},
   "outputs": [
    {
     "name": "stdout",
     "output_type": "stream",
     "text": [
      "{'fish': {'dgsdtj'}, 'peanuts': {'sjcvsr'}, 'soy': {'vkdxfj'}, 'eggs': {'hn'}, 'nuts': {'kpksf'}, 'sesame': {'bstzgn'}, 'shellfish': {'kmmqmv'}, 'wheat': {'bsfqgb'}}\n",
      "{'hn': 'eggs', 'dgsdtj': 'fish', 'kpksf': 'nuts', 'sjcvsr': 'peanuts', 'bstzgn': 'sesame', 'kmmqmv': 'shellfish', 'vkdxfj': 'soy', 'bsfqgb': 'wheat'}\n",
      "hn,dgsdtj,kpksf,sjcvsr,bstzgn,kmmqmv,vkdxfj,bsfqgb\n"
     ]
    }
   ],
   "source": [
    "sorted_allergens = {k: v for k, v in sorted(allergens.items(), key=lambda item: len(item[1]))}\n",
    "single_allergen = list(sorted_allergens.keys())[0]\n",
    "\n",
    "ingredient_allergen = {}\n",
    "while single_allergen is not None:\n",
    "    ingredient = list(sorted_allergens[single_allergen])[0]\n",
    "    ingredient_allergen[ingredient] = single_allergen\n",
    "    del sorted_allergens[single_allergen]\n",
    "    for allergen in sorted_allergens.keys():\n",
    "        if ingredient in sorted_allergens[allergen]:\n",
    "            sorted_allergens[allergen].remove(ingredient)\n",
    "    sorted_allergens = {k: v for k, v in sorted(sorted_allergens.items(), key=lambda item: len(item[1]))}\n",
    "    if sorted_allergens:\n",
    "        single_allergen = list(sorted_allergens.keys())[0]\n",
    "    else:\n",
    "        break\n",
    "        \n",
    "sorted_ingredients = {k: v for k, v in sorted(ingredient_allergen.items(), key=lambda item: item[1])}\n",
    "print(allergens)\n",
    "print(\",\".join(sorted_ingredients.keys()))"
   ]
  },
  {
   "cell_type": "markdown",
   "metadata": {},
   "source": [
    "### Day 22"
   ]
  },
  {
   "cell_type": "code",
   "execution_count": 3,
   "metadata": {},
   "outputs": [],
   "source": [
    "from collections import deque\n",
    "\n",
    "def read_cards(file_name):\n",
    "    with open(file_name, 'r') as file:\n",
    "        data = file.read()\n",
    "        \n",
    "    players = data.replace(\" \", \"\").replace(\":\", \"\").replace(\"Player1\", \"\").replace(\"Player2\", \"\").split(\"\\n\\n\")\n",
    "    player1 = [int(c) for c in players[0].lstrip().split(\"\\n\")]\n",
    "    player2 = [int(c) for c in players[1].lstrip().rstrip().split(\"\\n\")]\n",
    "    \n",
    "    return deque(player1), deque(player2) "
   ]
  },
  {
   "cell_type": "code",
   "execution_count": null,
   "metadata": {},
   "outputs": [],
   "source": [
    "p1, p2 = read_cards(\"../data/cards.txt\")\n",
    "while p1 and p2:\n",
    "    c1 = p1.popleft()\n",
    "    c2 = p2.popleft()\n",
    "    \n",
    "    if c1 > c2:\n",
    "        p1.append(c1)\n",
    "        p1.append(c2)\n",
    "    else:\n",
    "        p2.append(c2)\n",
    "        p2.append(c1)\n",
    "\n",
    "score = 0\n",
    "if p2:\n",
    "    for i in range(len(p2)):\n",
    "        score += p2[i]*(len(p2)-i)\n",
    "else:\n",
    "    for i in range(len(p1)):\n",
    "        score += p1[i]*(len(p1)-i)\n",
    "        \n",
    "print(score)"
   ]
  },
  {
   "cell_type": "code",
   "execution_count": 23,
   "metadata": {},
   "outputs": [
    {
     "name": "stdout",
     "output_type": "stream",
     "text": [
      "35495\n"
     ]
    }
   ],
   "source": [
    "import itertools    \n",
    "\n",
    "\n",
    "def recursive_combat(p1, p2, game=0, vis=False):\n",
    "    if vis:\n",
    "        print(\"game\", game)\n",
    "    states = set()\n",
    "    while p1 and p2:\n",
    "        state_str = \",\".join([str(c) for c in p1]) +\" \"+ \",\".join([str(c) for c in p2])\n",
    "        if state_str in states:\n",
    "            return True\n",
    "        else:\n",
    "            states.add(state_str)\n",
    "\n",
    "            c1 = p1.popleft()\n",
    "            c2 = p2.popleft()\n",
    "\n",
    "            if vis:\n",
    "                print(\"p1 plays\", c1)\n",
    "                print(\"p2 plays\", c2)\n",
    "            if c1 <= len(p1) and c2 <= len(p2):\n",
    "\n",
    "                p1_wins = recursive_combat(deque(itertools.islice(p1, 0, c1)), deque(itertools.islice(p2, 0, c2)), game=game+1)\n",
    "            elif c1 > c2:\n",
    "                p1_wins = True\n",
    "            else:\n",
    "                p1_wins = False\n",
    "\n",
    "        \n",
    "        if p1_wins:\n",
    "            p1.append(c1)\n",
    "            p1.append(c2)\n",
    "        else:\n",
    "            p2.append(c2)\n",
    "            p2.append(c1)\n",
    "\n",
    "        if vis:\n",
    "            print(\"p1:\", p1, \"p2:\",  p2)\n",
    "        \n",
    "    if vis and game >0:\n",
    "        print(\"back to game\", game-1)\n",
    "    if p1:\n",
    "        return True\n",
    "    else:\n",
    "        return False\n",
    "\n",
    "p1, p2 = read_cards(\"../data/cards.txt\")\n",
    "p1_won = recursive_combat(p1, p2)\n",
    "score = 0\n",
    "if p1_won:\n",
    "    for i in range(len(p1)):\n",
    "        score += p1[i]*(len(p1)-i)\n",
    "else:\n",
    "    for i in range(len(p2)):\n",
    "        score += p2[i]*(len(p2)-i)\n",
    "\n",
    "print(score)\n",
    "\n",
    "        "
   ]
  },
  {
   "cell_type": "markdown",
   "metadata": {},
   "source": [
    "### Day 23"
   ]
  },
  {
   "cell_type": "code",
   "execution_count": 102,
   "metadata": {},
   "outputs": [
    {
     "name": "stdout",
     "output_type": "stream",
     "text": [
      "49576328\n"
     ]
    }
   ],
   "source": [
    "cups = [5,2,3,7,6,4,8,1,9]\n",
    "# cups = [3,8,9,1,2,5,4,6,7]\n",
    "\n",
    "moves = 100\n",
    "current_idx=0\n",
    "max_len=len(cups)\n",
    "for i in range(moves):\n",
    "    current_cup = cups[current_idx]\n",
    "    destination = cups[current_idx] - 1\n",
    "\n",
    "    end_idx = current_idx+4\n",
    "    if end_idx >= len(cups):\n",
    "        end_idx -= len(cups)\n",
    "        cups_to_move = cups[current_idx+1:].copy() + cups[:end_idx].copy()\n",
    "\n",
    "    else:\n",
    "        cups_to_move = cups[current_idx+1:end_idx].copy()\n",
    "        \n",
    "    if end_idx < current_idx+1:\n",
    "        del cups[current_idx+1:]\n",
    "        del cups[:end_idx]\n",
    "    else:\n",
    "        del cups[current_idx+1:end_idx]\n",
    "    \n",
    "    while destination not in cups:\n",
    "        if destination == 0:\n",
    "            destination = max_len\n",
    "            continue\n",
    "            \n",
    "        destination -= 1\n",
    "    \n",
    "    drop_off = cups.index(destination)\n",
    "    cups = cups[:drop_off+1] + cups_to_move + cups[drop_off+1:]\n",
    "    current_idx = (cups.index(current_cup) + 1)%max_len\n",
    "\n",
    "i = cups.index(1)\n",
    "print (\"\".join([str(c) for c in (cups[i:] + cups[:i])]).replace(\"1\",\"\"))"
   ]
  },
  {
   "cell_type": "code",
   "execution_count": 152,
   "metadata": {},
   "outputs": [
    {
     "name": "stdout",
     "output_type": "stream",
     "text": [
      "511780369955\n"
     ]
    }
   ],
   "source": [
    "def print_list(n):\n",
    "    print(\"List: \", end=' ')\n",
    "    while n.next is not None:\n",
    "        print(n.cup_no, end=',')\n",
    "        n = n.next\n",
    "    print(n.cup_no)\n",
    "\n",
    "def find_answer(n):\n",
    "    while n.next is not None:\n",
    "        if n.cup_no == 1:\n",
    "            return n.next.cup_no*n.next.next.cup_no\n",
    "        n = n.next\n",
    "    \n",
    "\n",
    "class Node():\n",
    "    def __init__(self, cup_no):\n",
    "        self.cup_no = cup_no\n",
    "        self.next = None\n",
    "        \n",
    "    def __repr__(self):\n",
    "        string = \"Node:\" + str(self.cup_no) + \"-->\"\n",
    "        if self.next is not None:\n",
    "            string += str(self.next.cup_no)\n",
    "        return  string\n",
    "    \n",
    "    def __str__(self):\n",
    "        string = \"Node:\" + str(self.cup_no) + \"-->\"\n",
    "        if self.next is not None:\n",
    "            string += str(self.next.cup_no)\n",
    "        return  string\n",
    "\n",
    "# cups = [3,8,9,1,2,5,4,6,7]\n",
    "cups = [5,2,3,7,6,4,8,1,9]\n",
    "nodes={}\n",
    "\n",
    "prev=None\n",
    "for c in cups:\n",
    "    n = Node(c)\n",
    "    if prev is not None:\n",
    "        prev.next = n\n",
    "    nodes[c] = n\n",
    "    prev = n\n",
    "\n",
    "for c in range(10,1000001):\n",
    "    n = Node(c)\n",
    "    if prev is not None:\n",
    "        prev.next = n\n",
    "    nodes[c] = n\n",
    "    prev = n\n",
    "\n",
    "max_value = len(nodes)\n",
    "\n",
    "end = prev\n",
    "start = nodes[next(iter(nodes))]\n",
    "moves =10*max_value\n",
    "for i in range(moves):\n",
    "#     print(\"Start\", start)\n",
    "#     print(\"End\", end)\n",
    "    \n",
    "    destination = start.cup_no - 1\n",
    "    if destination == 0:\n",
    "        destination = max_value\n",
    "        \n",
    "    cups_to_search_start = start.next\n",
    "#     print(\"chunk start\", cups_to_search_start)\n",
    "    cups_to_search_mid = cups_to_search_start.next\n",
    "    cups_to_search_end = cups_to_search_mid.next\n",
    "    \n",
    "#     print(\"chunk end\", cups_to_search_end)\n",
    "\n",
    "    unavailable = {cups_to_search_start.cup_no, cups_to_search_mid.cup_no, cups_to_search_end.cup_no}\n",
    "        \n",
    "    while destination in unavailable:\n",
    "        destination -=1\n",
    "        if destination == 0:\n",
    "            destination = max_value\n",
    "            \n",
    "    insert_node = nodes[destination]\n",
    "#     print(\"Insert node\", insert_node)\n",
    "    \n",
    "    if insert_node.cup_no == end.cup_no:\n",
    "        end = insert_node        \n",
    "    \n",
    "    end.next = start # The old end points at the old start point\n",
    "#     print(\"old end\", end)\n",
    "    end = start # The old start is now the end\n",
    "    end.next = None # The new end points to None\n",
    "#     print(\"new end\", end)\n",
    "    start = cups_to_search_end.next # The new start is the point after the chunk\n",
    "#     print(\"new start\", start)\n",
    "    cups_to_search_end.next = insert_node.next # The end of the chunk points to where the insert node pointed\n",
    "#     print(\"End of chunk\", cups_to_search_end)\n",
    "    insert_node.next = cups_to_search_start # The insert node points to the start of the chunk\n",
    "#     print(\"previous insert point\", cups_to_search_end)\n",
    "\n",
    "# print_list(start)\n",
    "print(find_answer(start))\n"
   ]
  },
  {
   "cell_type": "markdown",
   "metadata": {},
   "source": [
    "### Day 24\n"
   ]
  },
  {
   "cell_type": "code",
   "execution_count": 270,
   "metadata": {},
   "outputs": [],
   "source": [
    "def read_floor_tiles(file_name):\n",
    "    with open(file_name, 'r') as file:\n",
    "        strings = file.readlines()\n",
    "        tiles = []\n",
    "        for string in strings:\n",
    "            ch = \"\"\n",
    "            directions = []\n",
    "            for c in string.rstrip():\n",
    "                ch += c\n",
    "                if c == \"n\" or c == \"s\":\n",
    "                    continue\n",
    "\n",
    "                directions.append(ch)\n",
    "                ch = \"\"\n",
    "            \n",
    "            tiles.append(directions)\n",
    "            \n",
    "        return tiles\n",
    "    \n",
    "def find_tile_coordinates(directions):\n",
    "    x = 0 # Lines with NW direction (main diagonal)\n",
    "    y = 0 # Lines with NE direction (off diagonal)\n",
    "    z = 0 # Horizontal lines\n",
    "\n",
    "    for direction in directions:\n",
    "        if direction == \"e\":# We are still on the same horizontal line\n",
    "            x += 1 \n",
    "            y -= 1 \n",
    "        elif direction == \"w\":# We are still on the same horizontal line\n",
    "            x -= 1 \n",
    "            y += 1 \n",
    "        elif direction == \"ne\": # We are still on the same off diagonal\n",
    "            z -= 1\n",
    "            x += 1\n",
    "        elif direction == \"sw\":\n",
    "            z += 1\n",
    "            x -= 1\n",
    "        elif direction == \"nw\":\n",
    "            z -= 1\n",
    "            y += 1 \n",
    "        elif direction == \"se\":\n",
    "            z += 1\n",
    "            y -= 1 \n",
    "            \n",
    "    return (x,y,z)\n",
    "            \n",
    "        \n",
    "\n",
    "        \n",
    "                \n"
   ]
  },
  {
   "cell_type": "code",
   "execution_count": 308,
   "metadata": {},
   "outputs": [
    {
     "name": "stdout",
     "output_type": "stream",
     "text": [
      "495\n"
     ]
    }
   ],
   "source": [
    "tiles = read_floor_tiles(\"../data/floor_tiles.txt\")\n",
    "\n",
    "tiles_changes = {}\n",
    "for tile in tiles:\n",
    "    tile_position = find_tile_coordinates(tile)\n",
    "    if tile_position not in tiles_changes:\n",
    "        tiles_changes[tile_position] = 1\n",
    "    else:\n",
    "        tiles_changes[tile_position] += 1\n",
    "                \n",
    "count = 0\n",
    "for tile_coord, changes in tiles_changes.items():\n",
    "    if changes%2:\n",
    "        count += 1\n",
    "        \n",
    "print(count)"
   ]
  },
  {
   "cell_type": "code",
   "execution_count": 309,
   "metadata": {},
   "outputs": [
    {
     "name": "stdout",
     "output_type": "stream",
     "text": [
      "4012\n"
     ]
    }
   ],
   "source": [
    "def get_neighbouring_tiles(tile, shape):\n",
    "    neighbourhood = [(0,-1, 1), (0, 1, -1), (-1, 0 , 1), (1, 0 , -1), (-1, 1, 0), (1,  -1, 0)]\n",
    "    neighbouring = []\n",
    "    for n in neighbourhood:\n",
    "        x = tile[0]+n[0]\n",
    "        y = tile[1]+n[1]\n",
    "        z = tile[2]+n[2]\n",
    "        if x >= shape[0] or y >= shape[1] or z >= shape[2]:\n",
    "            continue\n",
    "        \n",
    "        neighbouring += [(x, y, z)]\n",
    "    return neighbouring\n",
    "\n",
    "import numpy as np\n",
    "min_coords = [1000, 1000, 1000]\n",
    "max_coords = [-1000, -1000, -1000]\n",
    "for coords in tiles_changes:\n",
    "    for i in range(3):\n",
    "        min_coords[i] = min(min_coords[i], coords[i])\n",
    "        max_coords[i] = max(max_coords[i], coords[i])\n",
    "\n",
    "floor_shape = [max_coords[i] - min_coords[i] + 1 for i in range(3)]\n",
    "\n",
    "floor = np.zeros(floor_shape)\n",
    "\n",
    "for tile_pos, changes in tiles_changes.items():\n",
    "    adjusted_floor_pos = (tile_pos[0]-min_coords[0], tile_pos[1]-min_coords[1], tile_pos[2]-min_coords[2])\n",
    "    if changes%2:\n",
    "        floor[adjusted_floor_pos] = 1\n",
    "#         print(tile_pos, \"adjusted to \", adjusted_floor_pos, \"with value\", floor[adjusted_floor_pos])\n",
    "\n",
    "days = 100\n",
    "\n",
    "offset = np.array(min_coords)\n",
    "for day in range(days):\n",
    "    change_idx = {}\n",
    "    floor = np.pad(floor, [(1, 1), (1, 1), (1,1)], mode='constant', constant_values=0)\n",
    "    offset -= 1 # Since we expand we need to offset with -1 on all axes\n",
    "    floor_shape = floor.shape\n",
    "    for i in range(floor_shape[0]):\n",
    "        for j in range(floor_shape[1]):\n",
    "            for k in range(floor_shape[2]):\n",
    "                if i + j + k != -offset.sum(): #This is not part of our flooring\n",
    "                    continue\n",
    "                    \n",
    "                black = 0\n",
    "#                 print(\"Ns for \", (i, j, k))\n",
    "                for n in get_neighbouring_tiles((i, j, k), floor_shape):\n",
    "#                     print(n, floor[n])\n",
    "                    black += int(floor[n])\n",
    "#                 print(black)\n",
    "\n",
    "\n",
    "                \n",
    "                if floor[i, j, k] == 1 and (black == 0 or black > 2):\n",
    "                    change_idx[(i,j,k)] = 0\n",
    "                if floor[i, j, k] == 0 and black == 2:\n",
    "                    change_idx[(i,j,k)] = 1\n",
    "\n",
    "    for k, v in change_idx.items():\n",
    "        floor[k] = v\n",
    "        \n",
    "    depth_active, row_active, col_active = np.where(floor == 1)\n",
    "    \n",
    "    floor=floor[depth_active.min():depth_active.max()+1, row_active.min():row_active.max()+1, col_active.min():col_active.max()+1]    \n",
    "    offset += np.array([depth_active.min(), row_active.min(), col_active.min()])\n",
    "    \n",
    "print(np.count_nonzero(floor))"
   ]
  },
  {
   "cell_type": "markdown",
   "metadata": {},
   "source": [
    "# Christmas"
   ]
  },
  {
   "cell_type": "code",
   "execution_count": 314,
   "metadata": {},
   "outputs": [
    {
     "data": {
      "text/plain": [
       "5764801"
      ]
     },
     "execution_count": 314,
     "metadata": {},
     "output_type": "execute_result"
    }
   ],
   "source": [
    "def public_key(number, loop_size):\n",
    "    value = 1\n",
    "    for i in range(loop_size):\n",
    "        value *=  number\n",
    "        value = value%20201227\n",
    "    return value\n",
    "\n",
    "public_key(7, 8)"
   ]
  },
  {
   "cell_type": "code",
   "execution_count": 328,
   "metadata": {},
   "outputs": [
    {
     "name": "stdout",
     "output_type": "stream",
     "text": [
      "15217943\n"
     ]
    }
   ],
   "source": [
    "card_public_key = 8987316\n",
    "door_public_key = 14681524\n",
    "\n",
    "def find_loop(subject_num, public_key, start_val=1, divisor=20201227):\n",
    "    loops = 1\n",
    "    value = 1\n",
    "    while True:\n",
    "        value = (value*subject_num)%20201227\n",
    "        if value == public_key:\n",
    "            break\n",
    "        loops += 1\n",
    "    return loops\n",
    "\n",
    "\n",
    "card_key = 8987316\n",
    "door_key = 14681524\n",
    "card_loops = find_loop(7, card_public_key)\n",
    "door_loops = find_loop(7, door_public_key)\n",
    "\n",
    "print(public_key(door_key, card_loops))\n"
   ]
  },
  {
   "cell_type": "code",
   "execution_count": null,
   "metadata": {},
   "outputs": [],
   "source": []
  }
 ],
 "metadata": {
  "kernelspec": {
   "display_name": "Python 3",
   "language": "python",
   "name": "python3"
  },
  "language_info": {
   "codemirror_mode": {
    "name": "ipython",
    "version": 3
   },
   "file_extension": ".py",
   "mimetype": "text/x-python",
   "name": "python",
   "nbconvert_exporter": "python",
   "pygments_lexer": "ipython3",
   "version": "3.7.4"
  }
 },
 "nbformat": 4,
 "nbformat_minor": 4
}
